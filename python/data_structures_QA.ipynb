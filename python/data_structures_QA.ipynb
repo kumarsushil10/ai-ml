{
 "cells": [
  {
   "cell_type": "markdown",
   "metadata": {},
   "source": [
    "# List"
   ]
  },
  {
   "cell_type": "markdown",
   "metadata": {},
   "source": [
    "Create a list of the first 20 positive integers. Print the list."
   ]
  },
  {
   "cell_type": "code",
   "execution_count": null,
   "metadata": {},
   "outputs": [],
   "source": [
    "positive_number = [num for num in range(1,21)]\n",
    "print(positive_number)"
   ]
  },
  {
   "cell_type": "markdown",
   "metadata": {},
   "source": [
    "Print the first, middle, and last elements of the list created in Assignment 1."
   ]
  },
  {
   "cell_type": "code",
   "execution_count": null,
   "metadata": {},
   "outputs": [],
   "source": [
    "print(f\"First element = {positive_number[0]}\")\n",
    "mid = len(positive_number) // 2\n",
    "print(f\"Middle element = {positive_number[mid]}\")\n",
    "print(f\"Last element = {positive_number[-1]}\")"
   ]
  },
  {
   "cell_type": "markdown",
   "metadata": {},
   "source": [
    "Print the first five elements, the last five elements, and the elements from index 5 to 15 of the list created in Assignment 1.\n"
   ]
  },
  {
   "cell_type": "code",
   "execution_count": null,
   "metadata": {},
   "outputs": [],
   "source": [
    "print(f\"First Five elements = {positive_number[:5]}\")\n",
    "print(f\"last five element = {positive_number[-5:]}\")\n",
    "print(f\"The elements from index 5 to 15 = {positive_number[4:15]}\")"
   ]
  },
  {
   "cell_type": "markdown",
   "metadata": {},
   "source": [
    "Create a new list containing the squares of the first 10 positive integers using a list comprehension. Print the new list.\n"
   ]
  },
  {
   "cell_type": "code",
   "execution_count": null,
   "metadata": {},
   "outputs": [],
   "source": [
    "square = [num**2 for num in range(1,11)]\n",
    "print(square)"
   ]
  },
  {
   "cell_type": "markdown",
   "metadata": {},
   "source": [
    "Create a new list containing only the even numbers from the list created in Assignment 1 using a list comprehension. Print the new list.\n"
   ]
  },
  {
   "cell_type": "code",
   "execution_count": null,
   "metadata": {},
   "outputs": [],
   "source": [
    "even = [num for num in positive_number if num % 2 == 0]\n",
    "print(even)"
   ]
  },
  {
   "cell_type": "markdown",
   "metadata": {},
   "source": [
    "Create a list of random numbers and sort it in ascending and descending order. Remove the duplicates from the list and print the modified list."
   ]
  },
  {
   "cell_type": "code",
   "execution_count": null,
   "metadata": {},
   "outputs": [],
   "source": [
    "random_list = [1,34,634,13,658,3,12237,67,1,90,9,12,658,1,768,13,6,65,2224,60,78,45,40,1,3,6,8,9,12,13,15,16,18,19,20]\n",
    "asc_sorted_list = sorted(random_list)\n",
    "print(f\"Ascending order = {asc_sorted_list}\")\n",
    "desc_sorted_list = sorted(random_list, reverse=True)\n",
    "print(f\"Descending order = {desc_sorted_list}\")\n",
    "removed_duplicate = [num for num in random_list if random_list.count(num) == 1 ]\n",
    "print(f\"Only Unique elements = {removed_duplicate}\")"
   ]
  },
  {
   "cell_type": "markdown",
   "metadata": {},
   "source": [
    "Create a list of the first 10 positive integers. Remove the elements at indices 2, 4, and 6, and insert the element '99' at index 5. Print the modified list."
   ]
  },
  {
   "cell_type": "code",
   "execution_count": null,
   "metadata": {},
   "outputs": [],
   "source": [
    "lst = [num for num in range(1,11)]\n",
    "print(f\"Original List = {lst}\")\n",
    "lst.remove(2)\n",
    "lst.remove(4)\n",
    "lst.remove(6)\n",
    "print(f\"List after removing even index elements = {lst}\")\n",
    "lst.insert(5,99)\n",
    "print(f\"List after inserting 99 at index 5 = {lst}\")"
   ]
  },
  {
   "cell_type": "markdown",
   "metadata": {},
   "source": [
    "Create a list of dictionaries where each dictionary represents a student with keys 'name' and 'score'. Sort the list of dictionaries by the 'score' in descending order and print the sorted list."
   ]
  },
  {
   "cell_type": "code",
   "execution_count": null,
   "metadata": {},
   "outputs": [],
   "source": [
    "students = [\n",
    "    {\"name\":\"sushil\", \"score\":90},\n",
    "    {\"name\":\"sagar\", \"score\":75},\n",
    "    {\"name\":\"sachin\", \"score\":56},\n",
    "    {\"name\":\"saket\", \"score\":90},\n",
    "    {\"name\":\"manish\", \"score\":23},\n",
    "    {\"name\":\"anki\", \"score\":76},\n",
    "    {\"name\":\"amrita\", \"score\":89},\n",
    "    {\"name\":\"rit\", \"score\":99},\n",
    "]\n",
    "\n",
    "sorted_students = sorted(students, key=lambda x: x[\"score\"],reverse=True)\n",
    "[student for student in sorted_students ]"
   ]
  },
  {
   "cell_type": "markdown",
   "metadata": {},
   "source": [
    "create a 3x3 matrix (nested list) and its transpose. Print the original and transposed matrices.\n"
   ]
  },
  {
   "cell_type": "code",
   "execution_count": null,
   "metadata": {},
   "outputs": [],
   "source": [
    "matrix = [[1,2,3],\n",
    "          [4,5,6],\n",
    "          [7,8,9]]\n",
    "\n",
    "print(\"Original matrix:\")\n",
    "for row in matrix:\n",
    "    print(row)\n",
    "\n",
    "transposed = [[row[i] for row in matrix] for i in range(3)]\n",
    "print(\"Transposed matrix:\")\n",
    "for row in transposed:\n",
    "    print(row)"
   ]
  },
  {
   "cell_type": "markdown",
   "metadata": {},
   "source": [
    "# Tuple"
   ]
  },
  {
   "cell_type": "markdown",
   "metadata": {},
   "source": [
    "Create a tuple with the first 10 positive integers. Print the tuple.\n"
   ]
  },
  {
   "cell_type": "code",
   "execution_count": 46,
   "metadata": {},
   "outputs": [
    {
     "data": {
      "text/plain": [
       "(1, 2, 3, 4, 5, 6, 7, 8, 9, 10)"
      ]
     },
     "execution_count": 46,
     "metadata": {},
     "output_type": "execute_result"
    }
   ],
   "source": [
    "positive_tuple = tuple(num for num in range(1,11))\n",
    "positive_tuple"
   ]
  },
  {
   "cell_type": "markdown",
   "metadata": {},
   "source": [
    "Print the first, middle, and last elements of the tuple created in Assignment 1.\n"
   ]
  },
  {
   "cell_type": "code",
   "execution_count": 47,
   "metadata": {},
   "outputs": [
    {
     "name": "stdout",
     "output_type": "stream",
     "text": [
      "First element = 1\n",
      "Middle element = 6\n",
      "Last element = 10\n"
     ]
    }
   ],
   "source": [
    "first_element = positive_tuple[0]\n",
    "mid = len(positive_tuple) // 2\n",
    "middle_element = positive_tuple[mid]\n",
    "last_element = positive_tuple[-1]\n",
    "print(f\"First element = {first_element}\")\n",
    "print(f\"Middle element = {middle_element}\") \n",
    "print(f\"Last element = {last_element}\") "
   ]
  },
  {
   "cell_type": "markdown",
   "metadata": {},
   "source": [
    "Print the first three elements, the last three elements, and the elements from index 2 to 5 of the tuple created in Assignment 1.\n"
   ]
  },
  {
   "cell_type": "code",
   "execution_count": 49,
   "metadata": {},
   "outputs": [
    {
     "name": "stdout",
     "output_type": "stream",
     "text": [
      "first three (1, 2, 3)\n",
      "last three (1, 2, 3, 4, 5, 6, 7)\n",
      "from index 2 t0 5 = (3, 4, 5, 6)\n"
     ]
    }
   ],
   "source": [
    "print(f\"first three {positive_tuple[:3]}\")\n",
    "print(f\"last three {positive_tuple[:-3]}\")\n",
    "print(f\"from index 2 t0 5 = {positive_tuple[2:6]}\")"
   ]
  },
  {
   "cell_type": "markdown",
   "metadata": {},
   "source": [
    "Create a nested tuple representing a 3x3 matrix and print the matrix. Access and print the element at the second row and third column.\n"
   ]
  },
  {
   "cell_type": "code",
   "execution_count": 53,
   "metadata": {},
   "outputs": [
    {
     "name": "stdout",
     "output_type": "stream",
     "text": [
      "Original matrix:\n",
      "[1, 2, 3]\n",
      "[4, 5, 6]\n",
      "[7, 8, 9]\n",
      "second row= [4, 5, 6]\n",
      "second row= [7, 8, 9]\n"
     ]
    }
   ],
   "source": [
    "tuple_matrix = ([1,2,3],[4,5,6],[7,8,9])\n",
    "print(\"Original matrix:\")\n",
    "for row in tuple_matrix:\n",
    "    print(row)\n",
    "\n",
    "print(f\"second row= {tuple_matrix[1]}\")\n",
    "print(f\"second row= {tuple_matrix[2]}\")"
   ]
  },
  {
   "cell_type": "markdown",
   "metadata": {},
   "source": [
    "Concatenate two tuples: (1, 2, 3) and (4, 5, 6). Print the resulting tuple.\n"
   ]
  },
  {
   "cell_type": "code",
   "execution_count": 54,
   "metadata": {},
   "outputs": [
    {
     "name": "stdout",
     "output_type": "stream",
     "text": [
      "(1, 2, 3, 4, 5, 6)\n"
     ]
    }
   ],
   "source": [
    "tuple1 = (1,2,3)\n",
    "tuple2 = (4,5,6)\n",
    "concatenated_tuple = tuple1 + tuple2\n",
    "print(concatenated_tuple)"
   ]
  },
  {
   "cell_type": "markdown",
   "metadata": {},
   "source": [
    "Create a tuple with duplicate elements and count the occurrences of an element. Find the index of the first occurrence of an element in the tuple."
   ]
  },
  {
   "cell_type": "code",
   "execution_count": 61,
   "metadata": {},
   "outputs": [
    {
     "name": "stdout",
     "output_type": "stream",
     "text": [
      "Number of 7 = 3\n",
      "Index of 7 = 8\n"
     ]
    }
   ],
   "source": [
    "number = (1,4,2,646,75,4,25,3,7,73,2437,225,7,32,64,2,7,57,96,2,5657,34)\n",
    "num = 7\n",
    "print(f\"Number of {num} = {number.count(num)}\")\n",
    "print(f\"Index of {num} = {number.index(num)}\")"
   ]
  },
  {
   "cell_type": "markdown",
   "metadata": {},
   "source": [
    "Create a tuple with 5 elements and unpack it into 5 variables. Print the variables.\n"
   ]
  },
  {
   "cell_type": "code",
   "execution_count": 62,
   "metadata": {},
   "outputs": [
    {
     "name": "stdout",
     "output_type": "stream",
     "text": [
      "a == 12\n",
      "b == 23\n",
      "c == 34\n",
      "d == 45\n",
      "e == 56\n"
     ]
    }
   ],
   "source": [
    "pack = (12,23,34,45,56,89)\n",
    "a,b,c,d,e,f = pack\n",
    "print(f\"a == {a}\")\n",
    "print(f\"b == {b}\")\n",
    "print(f\"c == {c}\")\n",
    "print(f\"d == {d}\")\n",
    "print(f\"e == {e}\")"
   ]
  },
  {
   "cell_type": "markdown",
   "metadata": {},
   "source": [
    "Create a tuple containing 3 tuples, each with 3 elements. Print the tuple of tuples.\n"
   ]
  },
  {
   "cell_type": "code",
   "execution_count": 63,
   "metadata": {},
   "outputs": [
    {
     "name": "stdout",
     "output_type": "stream",
     "text": [
      "((1, 2, 3), (12, 23, 34), (99, 11, 55))\n"
     ]
    }
   ],
   "source": [
    "tuple1 = (1,2,3)\n",
    "tuple2 = (12,23,34)\n",
    "tuple3 = (99,11,55)\n",
    "tuples = (tuple1,tuple2,tuple3)\n",
    "print(tuples)"
   ]
  },
  {
   "cell_type": "markdown",
   "metadata": {},
   "source": [
    "Create a tuple with the first 5 positive integers. Convert it to a list, append the number 6, and convert it back to a tuple. Print the resulting tuple."
   ]
  },
  {
   "cell_type": "code",
   "execution_count": 68,
   "metadata": {},
   "outputs": [
    {
     "name": "stdout",
     "output_type": "stream",
     "text": [
      "(1, 2, 3, 4, 5)\n",
      "[1, 2, 3, 4, 5]\n",
      "[1, 2, 3, 4, 5, 6]\n",
      "(1, 2, 3, 4, 5, 6)\n"
     ]
    }
   ],
   "source": [
    "tuple1 = (1,2,3,4,5)\n",
    "print(tuple1)\n",
    "lst = list(tuple1)\n",
    "print(lst)\n",
    "lst.append(6)\n",
    "print(lst)\n",
    "tuple1 = tuple(lst)\n",
    "print(tuple1)"
   ]
  },
  {
   "cell_type": "markdown",
   "metadata": {},
   "source": [
    "Create a tuple with the characters of a string. Join the tuple elements into a single string. Print the string.\n"
   ]
  },
  {
   "cell_type": "code",
   "execution_count": 70,
   "metadata": {},
   "outputs": [
    {
     "name": "stdout",
     "output_type": "stream",
     "text": [
      "('s', 'u', 's', 'h', 'i', 'l')\n",
      "sushil\n"
     ]
    }
   ],
   "source": [
    "char_tuple = ('s','u','s','h','i','l')\n",
    "print(char_tuple)\n",
    "name = ''.join(char_tuple)\n",
    "print(name)"
   ]
  },
  {
   "cell_type": "markdown",
   "metadata": {},
   "source": [
    "Create a nested tuple and iterate over the elements, printing each element.\n"
   ]
  },
  {
   "cell_type": "code",
   "execution_count": 71,
   "metadata": {},
   "outputs": [
    {
     "name": "stdout",
     "output_type": "stream",
     "text": [
      "1\n",
      "2\n",
      "3\n",
      "4\n",
      "5\n",
      "6\n",
      "7\n",
      "8\n",
      "9\n"
     ]
    }
   ],
   "source": [
    "nested_tuple = ((1,2,3),(4,5,6),(7,8,9))\n",
    "for tpl in nested_tuple:\n",
    "    for num in tpl:\n",
    "        print(num)"
   ]
  },
  {
   "cell_type": "markdown",
   "metadata": {},
   "source": [
    "Create a tuple with duplicate elements. Convert it to a set to remove duplicates and print the resulting set.\n"
   ]
  },
  {
   "cell_type": "code",
   "execution_count": 72,
   "metadata": {},
   "outputs": [
    {
     "name": "stdout",
     "output_type": "stream",
     "text": [
      "{32, 1, 2, 3, 4, 2437, 646, 7, 225, 73, 64, 75, 96, 34, 5657, 25, 57}\n"
     ]
    }
   ],
   "source": [
    "number = (1,4,2,646,75,4,25,3,7,73,2437,225,7,32,64,2,7,57,96,2,5657,34)\n",
    "mySet = set(number)\n",
    "print(mySet)"
   ]
  }
 ],
 "metadata": {
  "kernelspec": {
   "display_name": "tutorial_env",
   "language": "python",
   "name": "python3"
  },
  "language_info": {
   "codemirror_mode": {
    "name": "ipython",
    "version": 3
   },
   "file_extension": ".py",
   "mimetype": "text/x-python",
   "name": "python",
   "nbconvert_exporter": "python",
   "pygments_lexer": "ipython3",
   "version": "3.12.9"
  }
 },
 "nbformat": 4,
 "nbformat_minor": 2
}
