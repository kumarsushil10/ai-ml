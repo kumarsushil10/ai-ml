{
 "cells": [
  {
   "cell_type": "markdown",
   "id": "3bc83cc6",
   "metadata": {},
   "source": [
    "Create a class named `Car` with attributes `make`, `model`, and `year`. Create an object of the class and print its attributes.\n"
   ]
  },
  {
   "cell_type": "code",
   "execution_count": null,
   "id": "0ec65d02",
   "metadata": {},
   "outputs": [],
   "source": [
    "class Car :\n",
    "    def __init__(self,make,model,year):\n",
    "        self.make = make\n",
    "        self.model = model\n",
    "        self.year = year\n",
    "\n",
    "\n",
    "\n",
    "mahindra = Car(\"mahindra\",\"Scarpio\",2010)\n",
    "print(mahindra.model)\n",
    "print(mahindra.make)\n",
    "print(mahindra.year)\n",
    "        "
   ]
  },
  {
   "cell_type": "markdown",
   "id": "b77c236c",
   "metadata": {},
   "source": [
    "Add a method named `start_engine` to the `Car` class that prints a message when the engine starts. Create an object of the class and call the method."
   ]
  },
  {
   "cell_type": "code",
   "execution_count": null,
   "id": "a5425aa9",
   "metadata": {},
   "outputs": [],
   "source": [
    "class Car :\n",
    "    def __init__(self,make,model,year):\n",
    "        self.make = make\n",
    "        self.model = model\n",
    "        self.year = year\n",
    "\n",
    "    def start_engine(self):\n",
    "        print(f\"{self.model} is started\")\n",
    "    \n",
    "mahindra = Car(\"mahindra\",\"Scarpio\",2010)\n",
    "mahindra.start_engine()"
   ]
  },
  {
   "cell_type": "markdown",
   "id": "9ec80904",
   "metadata": {},
   "source": [
    "Create a class named `BankAccount` with private attributes `account_number` and `balance`. Add methods to deposit and withdraw money, and to check the balance. Create an object of the class and perform some operations."
   ]
  },
  {
   "cell_type": "code",
   "execution_count": null,
   "id": "a9e4a924",
   "metadata": {},
   "outputs": [],
   "source": [
    "class BankAccount:\n",
    "    def __init__(self,account_number,balance):\n",
    "        self.__account_number = account_number\n",
    "        self.__balance = balance\n",
    "        print(f\"New account created with account number {self.__account_number} with balance {self.__balance}\")\n",
    "    def deposit(self,amount):\n",
    "        self.__balance += amount\n",
    "        print(f\"Deposited amount {amount} and new balnace is {self.__balance}\")\n",
    "\n",
    "    def withdraw(self,amount):\n",
    "        self.__balance -= amount\n",
    "        print(f\"Withdraw amount {amount} and new balnace is {self.__balance}\")\n",
    "\n",
    "    def check_balance(self):\n",
    "        print(f\"Balnace in your account {self.__account_number} is : {self.__balance}\")\n",
    "\n",
    "\n",
    "        \n",
    "\n",
    "anki = BankAccount(12345,2000)\n",
    "anki.deposit(100)\n",
    "anki.withdraw(50)\n",
    "anki.check_balance()\n"
   ]
  },
  {
   "cell_type": "markdown",
   "id": "19b98e16",
   "metadata": {},
   "source": [
    "Create a base class named `Person` with attributes `name` and `age`. Create a derived class named `Employee` that inherits from `Person` and adds an attribute `employee_id`. Create an object of the derived class and print its attributes."
   ]
  },
  {
   "cell_type": "code",
   "execution_count": null,
   "id": "7f7f1972",
   "metadata": {},
   "outputs": [],
   "source": [
    "class Person :\n",
    "    def __init__(self,name:str,age:int):\n",
    "        self.name = name\n",
    "        self.age = age\n",
    "\n",
    "\n",
    "class Employee(Person):\n",
    "    def __init__(self, name, age,employee_id):\n",
    "        super().__init__(name, age)\n",
    "        self.employee_id = employee_id\n",
    "\n",
    "\n",
    "saket = Employee(\"Saket Kumar\",32,\"saket12\")\n",
    "print(saket.employee_id)\n"
   ]
  },
  {
   "cell_type": "markdown",
   "id": "4caf192d",
   "metadata": {},
   "source": [
    "In the `Employee` class, override the `__str__` method to return a string representation of the object. Create an object of the class and print it."
   ]
  },
  {
   "cell_type": "code",
   "execution_count": null,
   "id": "c240caad",
   "metadata": {},
   "outputs": [],
   "source": [
    "class Person :\n",
    "    def __init__(self,name:str,age:int):\n",
    "        self.name = name\n",
    "        self.age = age\n",
    "\n",
    "\n",
    "class Employee(Person):\n",
    "    def __init__(self, name, age,employee_id):\n",
    "        super().__init__(name, age)\n",
    "        self.employee_id = employee_id\n",
    "\n",
    "    def __str__(self):\n",
    "        return f\"Employee(name = {self.name}, age = {self.age}, employee_id ={self.employee_id})\"\n",
    "    \n",
    "    \n",
    "\n",
    "\n",
    "saket = Employee(\"Saket Kumar\",32,\"saket12\")\n",
    "print(saket)"
   ]
  },
  {
   "cell_type": "markdown",
   "id": "e73e5b68",
   "metadata": {},
   "source": [
    "Create a class named `Address` with attributes `street`, `city`, and `zipcode`. Create a class named `Person` that has an `Address` object as an attribute. Create an object of the `Person` class and print its address."
   ]
  },
  {
   "cell_type": "code",
   "execution_count": null,
   "id": "e1a7f901",
   "metadata": {},
   "outputs": [],
   "source": [
    "class Address:\n",
    "    def __init__(self,street,city,zipcode):\n",
    "        self.street = street\n",
    "        self.city = city\n",
    "        self.zipcode = zipcode\n",
    "\n",
    "\n",
    "class Person :\n",
    "    def __init__(self,name:str,age:int,address:Address):\n",
    "        self.name = name\n",
    "        self.age = age\n",
    "        self.address = address\n",
    "    \n",
    "\n",
    "\n",
    "\n",
    "mohan = Person(\"mohan\",45,Address(\"new delhi\",\"delhi\",100001))\n",
    "print(mohan.address.zipcode)\n"
   ]
  },
  {
   "cell_type": "markdown",
   "id": "cd25dda6",
   "metadata": {},
   "source": [
    "Create a class named `MathOperations` with a static method to calculate the square root of a number. Call the static method without creating an object."
   ]
  },
  {
   "cell_type": "code",
   "execution_count": null,
   "id": "022f7679",
   "metadata": {},
   "outputs": [],
   "source": [
    "class MathOperations:\n",
    "    \n",
    "    @staticmethod\n",
    "    def squareRoot(num):\n",
    "        return num**(1/2)\n",
    "\n",
    "print(MathOperations.squareRoot(4))\n"
   ]
  },
  {
   "cell_type": "markdown",
   "id": "4167e3eb",
   "metadata": {},
   "source": [
    "Create a class named `Rectangle` with private attributes `length` and `width`. Use properties to get and set these attributes. Create an object of the class and test the properties."
   ]
  },
  {
   "cell_type": "code",
   "execution_count": null,
   "id": "73362cbd",
   "metadata": {},
   "outputs": [],
   "source": [
    "class Rectangle :\n",
    "    def __init__(self,length = 0,width = 0):\n",
    "        self.__length = length\n",
    "        self.__width = width\n",
    "\n",
    "    def get_length(self):\n",
    "        return self.__length\n",
    "    def set_lenght(self,length):\n",
    "        self.l__ength = length\n",
    "\n",
    "\n",
    "    def get_width(self):\n",
    "        return self.__width\n",
    "    def set_width(self,width):\n",
    "        self.__width = width\n",
    "\n",
    "rect = Rectangle()\n",
    "print(rect.get_width())\n",
    "rect.set_width(23)\n",
    "print(rect.get_width())\n",
    "    "
   ]
  },
  {
   "cell_type": "markdown",
   "id": "fe54c399",
   "metadata": {},
   "source": [
    "Create an abstract base class named `Shape` with an abstract method `area`. Create derived classes `Circle` and `Square` that implement the `area` method. Create objects of the derived classes and call the `area` method."
   ]
  },
  {
   "cell_type": "code",
   "execution_count": null,
   "id": "be374a53",
   "metadata": {},
   "outputs": [],
   "source": [
    "import math\n",
    "class Shape:\n",
    "    def area(self):\n",
    "        pass\n",
    "\n",
    "class Circle(Shape):\n",
    "    def __init__(self, radius):\n",
    "        self.radius = radius\n",
    "\n",
    "    def area(self):\n",
    "        return math.pi * self.radius ** 2\n",
    "\n",
    "class Square(Shape):\n",
    "    def __init__(self, side):\n",
    "        self.side = side\n",
    "\n",
    "    def area(self):\n",
    "        return self.side ** 2\n",
    "    \n",
    "circle = Circle(5)\n",
    "square = Square(4)\n",
    "print(circle.area()) \n",
    "print(square.area()) \n"
   ]
  }
 ],
 "metadata": {
  "kernelspec": {
   "display_name": "tutorial_env",
   "language": "python",
   "name": "python3"
  },
  "language_info": {
   "codemirror_mode": {
    "name": "ipython",
    "version": 3
   },
   "file_extension": ".py",
   "mimetype": "text/x-python",
   "name": "python",
   "nbconvert_exporter": "python",
   "pygments_lexer": "ipython3",
   "version": "3.12.9"
  }
 },
 "nbformat": 4,
 "nbformat_minor": 5
}
