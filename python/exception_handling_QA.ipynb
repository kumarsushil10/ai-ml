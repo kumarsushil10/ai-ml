{
 "cells": [
  {
   "cell_type": "markdown",
   "metadata": {},
   "source": [
    "Write a function that takes two integers as input and returns their division. Use try, except, and finally blocks to handle division by zero and print an appropriate message."
   ]
  },
  {
   "cell_type": "code",
   "execution_count": 1,
   "metadata": {},
   "outputs": [
    {
     "name": "stdout",
     "output_type": "stream",
     "text": [
      "0.35294117647058826\n",
      "Please Enter greater then zero Divisor\n",
      "None\n"
     ]
    }
   ],
   "source": [
    "def division(a:int,b:int):\n",
    "    try:\n",
    "        div = a/b\n",
    "    except ZeroDivisionError as ze:\n",
    "        print(\"Please Enter greater then zero Divisor\")\n",
    "    except Exception as e:\n",
    "        print(e)\n",
    "    else:\n",
    "        return div\n",
    "\n",
    "print(division(12,34))\n",
    "print(division(12,0))\n"
   ]
  },
  {
   "cell_type": "markdown",
   "metadata": {},
   "source": [
    "Write a function that reads the contents of a file named `example.txt`. Use try, except, and finally blocks to handle file not found errors and ensure the file is properly closed."
   ]
  },
  {
   "cell_type": "code",
   "execution_count": 2,
   "metadata": {},
   "outputs": [
    {
     "name": "stdout",
     "output_type": "stream",
     "text": [
      "File \n",
      "Exception handling\n",
      "file close\n",
      "The file does not exists\n"
     ]
    }
   ],
   "source": [
    "def read_file(file_path):\n",
    "    try:\n",
    "        file=open(file_path,'r')\n",
    "        content=file.read()\n",
    "        print(content)\n",
    "    except FileNotFoundError:\n",
    "        print(\"The file does not exists\")\n",
    "    except Exception as ex:\n",
    "        print(ex)\n",
    "    finally:\n",
    "        if 'file' in locals() and not file.closed:\n",
    "            file.close()\n",
    "            print('file close')\n",
    "\n",
    "read_file(\"example.txt\")\n",
    "read_file(\"data.txt\")"
   ]
  },
  {
   "cell_type": "markdown",
   "metadata": {},
   "source": [
    "Write a function that takes a list of integers and returns their sum. Use try, except, and finally blocks to handle TypeError if a non-integer value is encountered and print an appropriate message."
   ]
  },
  {
   "cell_type": "code",
   "execution_count": 3,
   "metadata": {},
   "outputs": [
    {
     "name": "stdout",
     "output_type": "stream",
     "text": [
      "Sum of all list elements 28\n"
     ]
    }
   ],
   "source": [
    "def list_sum(lst):\n",
    "    try:\n",
    "        total = sum(lst)\n",
    "    except TypeError as te:\n",
    "        print(\"List contain non int value\")\n",
    "    except Exception as e:\n",
    "        print(e)\n",
    "    else:\n",
    "        print(f\"Sum of all list elements {total}\")\n",
    "\n",
    "\n",
    "list_sum([1,2,3,4,5,6,7])"
   ]
  },
  {
   "cell_type": "markdown",
   "metadata": {},
   "source": [
    "Write a function that prompts the user to enter an integer. Use try, except, and finally blocks to handle ValueError if the user enters a non-integer value and print an appropriate message."
   ]
  },
  {
   "cell_type": "code",
   "execution_count": 4,
   "metadata": {},
   "outputs": [
    {
     "name": "stdout",
     "output_type": "stream",
     "text": [
      "You enter 12\n"
     ]
    }
   ],
   "source": [
    "def user_input():\n",
    "    try:\n",
    "        value = int(input(\"Please enter an int\"))\n",
    "        print(f\"You enter {value}\")\n",
    "    except ValueError as ve :\n",
    "        print(\"Non Int value entered\")\n",
    "\n",
    "\n",
    "user_input()"
   ]
  }
 ],
 "metadata": {
  "kernelspec": {
   "display_name": "tutorial_env",
   "language": "python",
   "name": "python3"
  },
  "language_info": {
   "codemirror_mode": {
    "name": "ipython",
    "version": 3
   },
   "file_extension": ".py",
   "mimetype": "text/x-python",
   "name": "python",
   "nbconvert_exporter": "python",
   "pygments_lexer": "ipython3",
   "version": "3.12.9"
  }
 },
 "nbformat": 4,
 "nbformat_minor": 2
}
