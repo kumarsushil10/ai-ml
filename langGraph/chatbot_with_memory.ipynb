{
 "cells": [
  {
   "cell_type": "code",
   "execution_count": null,
   "id": "2d9bd360",
   "metadata": {},
   "outputs": [],
   "source": [
    "from langchain_core.tools import tool\n",
    "from langchain_community.tools.tavily_search import TavilySearchResults\n",
    "from langgraph.prebuilt import ToolNode\n",
    "\n",
    "\n",
    "tavily_tool = TavilySearchResults(max_results=2)\n",
    "tools = [tavily_tool]\n",
    "tool_node = ToolNode(tools=tools)"
   ]
  },
  {
   "cell_type": "code",
   "execution_count": null,
   "id": "3f47ffa5",
   "metadata": {},
   "outputs": [],
   "source": [
    "from langchain_groq.chat_models import ChatGroq\n",
    "llm = ChatGroq(model=\"gemma2-9b-it\")\n",
    "llm_with_tools = llm.bind_tools(tools=tools)"
   ]
  },
  {
   "cell_type": "code",
   "execution_count": null,
   "id": "710f7b52",
   "metadata": {},
   "outputs": [],
   "source": [
    "from langgraph.graph import StateGraph,MessagesState, START,END\n",
    "def chatbot_model(state:MessagesState):\n",
    "    messages = state[\"messages\"]\n",
    "    response = llm_with_tools.invoke(messages)\n",
    "    return {\"messages\": [response]}"
   ]
  },
  {
   "cell_type": "code",
   "execution_count": null,
   "id": "364598fc",
   "metadata": {},
   "outputs": [],
   "source": [
    "def route(state:MessagesState):\n",
    "    messages = state[\"messages\"]\n",
    "    if messages[-1].tool_calls:\n",
    "        return \"tools\"\n",
    "    else:\n",
    "        return END"
   ]
  },
  {
   "cell_type": "code",
   "execution_count": null,
   "id": "1fa607d1",
   "metadata": {},
   "outputs": [],
   "source": [
    "from langgraph.checkpoint.memory import MemorySaver\n",
    "memory = MemorySaver()"
   ]
  },
  {
   "cell_type": "code",
   "execution_count": null,
   "id": "023fef54",
   "metadata": {},
   "outputs": [],
   "source": [
    "workflow = StateGraph(MessagesState)\n",
    "\n",
    "workflow.add_node(\"chatbot\", chatbot_model)\n",
    "workflow.add_node(\"tools\",tool_node)\n",
    "\n",
    "workflow.add_edge(START, \"chatbot\")\n",
    "workflow.add_conditional_edges(\"chatbot\",route,{\"tools\":\"tools\",END:END})\n",
    "workflow.add_edge(\"tools\", \"chatbot\")\n",
    "\n",
    "app = workflow.compile(checkpointer=memory)"
   ]
  },
  {
   "cell_type": "code",
   "execution_count": null,
   "id": "ae85578f",
   "metadata": {},
   "outputs": [],
   "source": [
    "config = {\"configurable\": {\"thread_id\": \"1\"}}"
   ]
  },
  {
   "cell_type": "code",
   "execution_count": null,
   "id": "f5eb1ed1",
   "metadata": {},
   "outputs": [],
   "source": [
    "app.invoke({\"messages\": [\"what ia capital of Bihar\"]}, config, stream_mode=\"values\")"
   ]
  },
  {
   "cell_type": "code",
   "execution_count": null,
   "id": "852cd1d7",
   "metadata": {},
   "outputs": [],
   "source": [
    "events = app.stream({\"messages\": [\"age of narendra modi\"]}, config, stream_mode=\"values\")"
   ]
  },
  {
   "cell_type": "code",
   "execution_count": null,
   "id": "70ff6935",
   "metadata": {},
   "outputs": [],
   "source": [
    "for event in events:\n",
    "    event[\"messages\"][-1].pretty_print()"
   ]
  }
 ],
 "metadata": {
  "kernelspec": {
   "display_name": "tutorial_env",
   "language": "python",
   "name": "python3"
  },
  "language_info": {
   "codemirror_mode": {
    "name": "ipython",
    "version": 3
   },
   "file_extension": ".py",
   "mimetype": "text/x-python",
   "name": "python",
   "nbconvert_exporter": "python",
   "pygments_lexer": "ipython3",
   "version": "3.12.9"
  }
 },
 "nbformat": 4,
 "nbformat_minor": 5
}
