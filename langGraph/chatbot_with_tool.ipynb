{
 "cells": [
  {
   "cell_type": "code",
   "execution_count": 1,
   "id": "28aa54c5",
   "metadata": {},
   "outputs": [],
   "source": [
    "from langchain_core.tools import tool\n",
    "from langchain_community.tools.tavily_search import TavilySearchResults\n",
    "from langgraph.prebuilt import ToolNode\n",
    "\n",
    "\n",
    "tavily_tool = TavilySearchResults(max_results=2)\n",
    "tools = [tavily_tool]\n",
    "tool_node = ToolNode(tools=tools)"
   ]
  },
  {
   "cell_type": "code",
   "execution_count": 2,
   "id": "43685835",
   "metadata": {},
   "outputs": [],
   "source": [
    "from langchain_groq.chat_models import ChatGroq\n",
    "llm = ChatGroq(model=\"gemma2-9b-it\")\n",
    "llm_with_tools = llm.bind_tools(tools=tools)"
   ]
  },
  {
   "cell_type": "code",
   "execution_count": 3,
   "id": "2c4a05f2",
   "metadata": {},
   "outputs": [],
   "source": [
    "from langgraph.graph import StateGraph,MessagesState,START,END\n",
    "def chat_model(state:MessagesState):\n",
    "    messages = state['messages']\n",
    "    response = llm_with_tools.invoke(messages)\n",
    "    return {\"messages\": [response]}"
   ]
  },
  {
   "cell_type": "code",
   "execution_count": 4,
   "id": "a5fb3a84",
   "metadata": {},
   "outputs": [],
   "source": [
    "def route(state:MessagesState):\n",
    "    messages = state[\"messages\"]\n",
    "    if messages[-1].tool_calls:\n",
    "        return \"tools\"\n",
    "    else:\n",
    "        return END"
   ]
  },
  {
   "cell_type": "code",
   "execution_count": 5,
   "id": "60a78748",
   "metadata": {},
   "outputs": [],
   "source": [
    "workflow = StateGraph(MessagesState)\n",
    "\n",
    "workflow.add_node(\"chatbot\",chat_model)\n",
    "workflow.add_node(\"tools\",tool_node)\n",
    "\n",
    "workflow.add_edge(START,\"chatbot\")\n",
    "workflow.add_conditional_edges(\"chatbot\",route,{\"tools\": \"tools\",END: END})\n",
    "workflow.add_edge(\"tools\",\"chatbot\")\n",
    "\n",
    "app = workflow.compile()"
   ]
  },
  {
   "cell_type": "code",
   "execution_count": 6,
   "id": "f2e897e1",
   "metadata": {},
   "outputs": [
    {
     "data": {
      "image/png": "[encoded data removed]",
      "text/plain": [
       "<IPython.core.display.Image object>"
      ]
     },
     "metadata": {},
     "output_type": "display_data"
    }
   ],
   "source": [
    "from IPython.display import display, Image\n",
    "display(Image(app.get_graph().draw_mermaid_png()))"
   ]
  },
  {
   "cell_type": "code",
   "execution_count": 7,
   "id": "fadbfee4",
   "metadata": {},
   "outputs": [
    {
     "data": {
      "text/plain": [
       "{'messages': [HumanMessage(content='What is the capital of France?', additional_kwargs={}, response_metadata={}, id='64d3f072-ed66-455c-93c1-4a5981d5391e'),\n",
       "  AIMessage(content='', additional_kwargs={'tool_calls': [{'id': 'call_c93j', 'function': {'arguments': '{\"query\":\"What is the capital of France?\"}', 'name': 'tavily_search_results_json'}, 'type': 'function'}]}, response_metadata={'token_usage': {'completion_tokens': 92, 'prompt_tokens': 988, 'total_tokens': 1080, 'completion_time': 0.167272727, 'prompt_time': 0.034668913, 'queue_time': 0.233592526, 'total_time': 0.20194164}, 'model_name': 'gemma2-9b-it', 'system_fingerprint': 'fp_10c08bf97d', 'finish_reason': 'tool_calls', 'logprobs': None}, id='run-18c86bf0-13b0-4054-b9ef-8452468ec656-0', tool_calls=[{'name': 'tavily_search_results_json', 'args': {'query': 'What is the capital of France?'}, 'id': 'call_c93j', 'type': 'tool_call'}], usage_metadata={'input_tokens': 988, 'output_tokens': 92, 'total_tokens': 1080}),\n",
       "  ToolMessage(content='[{\"title\": \"List of capitals of France - Wikipedia\", \"url\": \"https://en.wikipedia.org/wiki/List_of_capitals_of_France\", \"content\": \"Find sources:\\xa0\\\\\"List of capitals of France\\\\\"\\xa0–\\xa0news\\xa0· newspapers\\xa0· books\\xa0· scholar\\xa0· JSTOR (July 2012) (Learn how and when to remove this message)\\\\nThis is a chronological list of capitals of France. The capital of France has been Paris since its liberation in 1944.[1]\\\\nChronology[edit]\\\\nTournai (before 486), current-day Belgium\\\\nSoissons (486–936)\\\\nLaon (936–987)\\\\nParis (987–1419), the residence of the Kings of France, although they were consecrated at Reims.\", \"score\": 0.9372167}, {\"title\": \"Paris facts: the capital of France in history\", \"url\": \"https://home.adelphi.edu/~ca19535/page%204.html\", \"content\": \"Home | Spain | Sydney | San Francisco | Paris | Las Vegas | Maui\\\\nParis facts: Paris, the capital\\\\n\\\\r\\\\n        of France\\\\n\\\\nParis is the capital of France,\\\\r\\\\n      the largest country of Europe\\\\r\\\\n      with 550 000 km2 (65 millions inhabitants).\\\\n\\\\nParis has 2.234 million inhabitants\\\\r\\\\n      end 2011. She is the core of Ile de France region (12 million\\\\r\\\\n      people). [...] Before Paris, the capital of France\\\\r\\\\n        was Lyon\\\\r\\\\n        (under the Romans). Paris first became the capital of France in\\\\r\\\\n        508 under King Clovis. After centuries with no unique capital of\\\\r\\\\n        France, Paris retrieved its status of capital of France under King\\\\r\\\\n          Philippe Auguste, who reigned between 1180 and 1223. You\\\\r\\\\n        can see remains of the Philippe August Paris walls in the\\\\r\\\\n        passageway between the Louvre\\\\n\\\\r\\\\n          parking and Louvre Museum [...] Paris remained the capital of\\\\r\\\\n        France until today, with one four year interruption. During\\\\r\\\\n        German occupation (WW2 , 1940-1944), the capital of France was Vichy.\\\\n\\\\ngo to top\\\\n\\\\nReference:\\\\r\\\\n        http://www.parisdigest.com/information/facts.htm\", \"score\": 0.90869105}]', name='tavily_search_results_json', id='489d2c63-b90a-4601-a0c8-579bbaa37130', tool_call_id='call_c93j', artifact={'query': 'What is the capital of France?', 'follow_up_questions': None, 'answer': None, 'images': [], 'results': [{'url': 'https://en.wikipedia.org/wiki/List_of_capitals_of_France', 'title': 'List of capitals of France - Wikipedia', 'content': 'Find sources:\\xa0\"List of capitals of France\"\\xa0–\\xa0news\\xa0· newspapers\\xa0· books\\xa0· scholar\\xa0· JSTOR (July 2012) (Learn how and when to remove this message)\\nThis is a chronological list of capitals of France. The capital of France has been Paris since its liberation in 1944.[1]\\nChronology[edit]\\nTournai (before 486), current-day Belgium\\nSoissons (486–936)\\nLaon (936–987)\\nParis (987–1419), the residence of the Kings of France, although they were consecrated at Reims.', 'score': 0.9372167, 'raw_content': None}, {'url': 'https://home.adelphi.edu/~ca19535/page%204.html', 'title': 'Paris facts: the capital of France in history', 'content': 'Home | Spain | Sydney | San Francisco | Paris | Las Vegas | Maui\\nParis facts: Paris, the capital\\n\\r\\n        of France\\n\\nParis is the capital of France,\\r\\n      the largest country of Europe\\r\\n      with 550 000 km2 (65 millions inhabitants).\\n\\nParis has 2.234 million inhabitants\\r\\n      end 2011. She is the core of Ile de France region (12 million\\r\\n      people). [...] Before Paris, the capital of France\\r\\n        was Lyon\\r\\n        (under the Romans). Paris first became the capital of France in\\r\\n        508 under King Clovis. After centuries with no unique capital of\\r\\n        France, Paris retrieved its status of capital of France under King\\r\\n          Philippe Auguste, who reigned between 1180 and 1223. You\\r\\n        can see remains of the Philippe August Paris walls in the\\r\\n        passageway between the Louvre\\n\\r\\n          parking and Louvre Museum [...] Paris remained the capital of\\r\\n        France until today, with one four year interruption. During\\r\\n        German occupation (WW2 , 1940-1944), the capital of France was Vichy.\\n\\ngo to top\\n\\nReference:\\r\\n        http://www.parisdigest.com/information/facts.htm', 'score': 0.90869105, 'raw_content': None}], 'response_time': 1.37}),\n",
       "  AIMessage(content='', additional_kwargs={'tool_calls': [{'id': 'call_dcnr', 'function': {'arguments': '{\"query\":\"What is the capital of France?\"}', 'name': 'tavily_search_results_json'}, 'type': 'function'}]}, response_metadata={'token_usage': {'completion_tokens': 50, 'prompt_tokens': 1666, 'total_tokens': 1716, 'completion_time': 0.090909091, 'prompt_time': 0.057848305, 'queue_time': 0.23672697400000003, 'total_time': 0.148757396}, 'model_name': 'gemma2-9b-it', 'system_fingerprint': 'fp_10c08bf97d', 'finish_reason': 'tool_calls', 'logprobs': None}, id='run-e1b7f3fe-d16e-45df-89e9-ca983cd403c8-0', tool_calls=[{'name': 'tavily_search_results_json', 'args': {'query': 'What is the capital of France?'}, 'id': 'call_dcnr', 'type': 'tool_call'}], usage_metadata={'input_tokens': 1666, 'output_tokens': 50, 'total_tokens': 1716}),\n",
       "  ToolMessage(content='[{\"title\": \"List of capitals of France - Wikipedia\", \"url\": \"https://en.wikipedia.org/wiki/List_of_capitals_of_France\", \"content\": \"Find sources:\\xa0\\\\\"List of capitals of France\\\\\"\\xa0–\\xa0news\\xa0· newspapers\\xa0· books\\xa0· scholar\\xa0· JSTOR (July 2012) (Learn how and when to remove this message)\\\\nThis is a chronological list of capitals of France. The capital of France has been Paris since its liberation in 1944.[1]\\\\nChronology[edit]\\\\nTournai (before 486), current-day Belgium\\\\nSoissons (486–936)\\\\nLaon (936–987)\\\\nParis (987–1419), the residence of the Kings of France, although they were consecrated at Reims.\", \"score\": 0.9372167}, {\"title\": \"Paris facts: the capital of France in history\", \"url\": \"https://home.adelphi.edu/~ca19535/page%204.html\", \"content\": \"Home | Spain | Sydney | San Francisco | Paris | Las Vegas | Maui\\\\nParis facts: Paris, the capital\\\\n\\\\r\\\\n        of France\\\\n\\\\nParis is the capital of France,\\\\r\\\\n      the largest country of Europe\\\\r\\\\n      with 550 000 km2 (65 millions inhabitants).\\\\n\\\\nParis has 2.234 million inhabitants\\\\r\\\\n      end 2011. She is the core of Ile de France region (12 million\\\\r\\\\n      people). [...] Before Paris, the capital of France\\\\r\\\\n        was Lyon\\\\r\\\\n        (under the Romans). Paris first became the capital of France in\\\\r\\\\n        508 under King Clovis. After centuries with no unique capital of\\\\r\\\\n        France, Paris retrieved its status of capital of France under King\\\\r\\\\n          Philippe Auguste, who reigned between 1180 and 1223. You\\\\r\\\\n        can see remains of the Philippe August Paris walls in the\\\\r\\\\n        passageway between the Louvre\\\\n\\\\r\\\\n          parking and Louvre Museum [...] Paris remained the capital of\\\\r\\\\n        France until today, with one four year interruption. During\\\\r\\\\n        German occupation (WW2 , 1940-1944), the capital of France was Vichy.\\\\n\\\\ngo to top\\\\n\\\\nReference:\\\\r\\\\n        http://www.parisdigest.com/information/facts.htm\", \"score\": 0.90869105}]', name='tavily_search_results_json', id='5143d3ff-d84e-4951-8fce-30d133e039eb', tool_call_id='call_dcnr', artifact={'query': 'What is the capital of France?', 'follow_up_questions': None, 'answer': None, 'images': [], 'results': [{'url': 'https://en.wikipedia.org/wiki/List_of_capitals_of_France', 'title': 'List of capitals of France - Wikipedia', 'content': 'Find sources:\\xa0\"List of capitals of France\"\\xa0–\\xa0news\\xa0· newspapers\\xa0· books\\xa0· scholar\\xa0· JSTOR (July 2012) (Learn how and when to remove this message)\\nThis is a chronological list of capitals of France. The capital of France has been Paris since its liberation in 1944.[1]\\nChronology[edit]\\nTournai (before 486), current-day Belgium\\nSoissons (486–936)\\nLaon (936–987)\\nParis (987–1419), the residence of the Kings of France, although they were consecrated at Reims.', 'score': 0.9372167, 'raw_content': None}, {'url': 'https://home.adelphi.edu/~ca19535/page%204.html', 'title': 'Paris facts: the capital of France in history', 'content': 'Home | Spain | Sydney | San Francisco | Paris | Las Vegas | Maui\\nParis facts: Paris, the capital\\n\\r\\n        of France\\n\\nParis is the capital of France,\\r\\n      the largest country of Europe\\r\\n      with 550 000 km2 (65 millions inhabitants).\\n\\nParis has 2.234 million inhabitants\\r\\n      end 2011. She is the core of Ile de France region (12 million\\r\\n      people). [...] Before Paris, the capital of France\\r\\n        was Lyon\\r\\n        (under the Romans). Paris first became the capital of France in\\r\\n        508 under King Clovis. After centuries with no unique capital of\\r\\n        France, Paris retrieved its status of capital of France under King\\r\\n          Philippe Auguste, who reigned between 1180 and 1223. You\\r\\n        can see remains of the Philippe August Paris walls in the\\r\\n        passageway between the Louvre\\n\\r\\n          parking and Louvre Museum [...] Paris remained the capital of\\r\\n        France until today, with one four year interruption. During\\r\\n        German occupation (WW2 , 1940-1944), the capital of France was Vichy.\\n\\ngo to top\\n\\nReference:\\r\\n        http://www.parisdigest.com/information/facts.htm', 'score': 0.90869105, 'raw_content': None}], 'response_time': 0.77}),\n",
       "  AIMessage(content='Paris', additional_kwargs={}, response_metadata={'token_usage': {'completion_tokens': 3, 'prompt_tokens': 2342, 'total_tokens': 2345, 'completion_time': 0.005454545, 'prompt_time': 0.082664124, 'queue_time': 0.238024744, 'total_time': 0.088118669}, 'model_name': 'gemma2-9b-it', 'system_fingerprint': 'fp_10c08bf97d', 'finish_reason': 'stop', 'logprobs': None}, id='run-b666d666-2246-4902-a554-4cbbbd49c188-0', usage_metadata={'input_tokens': 2342, 'output_tokens': 3, 'total_tokens': 2345})]}"
      ]
     },
     "execution_count": 7,
     "metadata": {},
     "output_type": "execute_result"
    }
   ],
   "source": [
    "app.invoke({\"messages\":[{\"role\":\"user\",\"content\":\"What is the capital of France?\"}]})"
   ]
  }
 ],
 "metadata": {
  "kernelspec": {
   "display_name": "tutorial_env",
   "language": "python",
   "name": "python3"
  },
  "language_info": {
   "codemirror_mode": {
    "name": "ipython",
    "version": 3
   },
   "file_extension": ".py",
   "mimetype": "text/x-python",
   "name": "python",
   "nbconvert_exporter": "python",
   "pygments_lexer": "ipython3",
   "version": "3.12.9"
  }
 },
 "nbformat": 4,
 "nbformat_minor": 5
}
