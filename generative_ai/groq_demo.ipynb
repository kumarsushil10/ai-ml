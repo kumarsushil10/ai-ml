{
 "cells": [
  {
   "cell_type": "code",
   "execution_count": 2,
   "metadata": {},
   "outputs": [],
   "source": [
    "import os\n",
    "from dotenv import load_dotenv\n",
    "load_dotenv()\n",
    "os.environ[\"GROQ_API_KEY\"] = os.getenv(\"GROQ_API_KEY\")"
   ]
  },
  {
   "cell_type": "code",
   "execution_count": 7,
   "metadata": {},
   "outputs": [],
   "source": [
    "from langchain_core.prompts import ChatPromptTemplate\n",
    "prompt = ChatPromptTemplate.from_messages(\n",
    "    [(\"ai\",\"Provide accurate answer in 50 to 100 words\"),\n",
    "     (\"human\",\"Question:{question}\")]\n",
    ")"
   ]
  },
  {
   "cell_type": "code",
   "execution_count": null,
   "metadata": {},
   "outputs": [
    {
     "data": {
      "text/plain": [
       "AIMessage(content='**Machine Learning (ML)**\\n\\nMachine learning is a subset of artificial intelligence (AI) that involves the use of algorithms and statistical models to enable machines to learn from data, make decisions, and improve their performance over time without being explicitly programmed.\\n\\n**Key Characteristics of Machine Learning:**\\n\\n1. **Autonomy**: Machine learning systems can operate independently without human intervention.\\n2. **Learning**: Machine learning systems can learn from data and improve their performance over time.\\n3. **Improvement**: Machine learning systems can improve their performance as they receive more data and experience.\\n\\n**Types of Machine Learning:**\\n\\n1. **Supervised Learning**: The machine learning algorithm is trained on labeled data, where the correct output is already known.\\n2. **Unsupervised Learning**: The machine learning algorithm is trained on unlabeled data, and it must find patterns or structure in the data.\\n3. **Reinforcement Learning**: The machine learning algorithm learns by interacting with an environment and receiving feedback in the form of rewards or penalties.\\n\\n**Machine Learning Techniques:**\\n\\n1. **Linear Regression**: A linear model that predicts a continuous output variable.\\n2. **Decision Trees**: A tree-like model that splits data into subsets based on feature values.\\n3. **Neural Networks**: A model inspired by the structure and function of the human brain, composed of layers of interconnected nodes.\\n4. **Clustering**: A technique that groups similar data points into clusters.\\n5. **Dimensionality Reduction**: A technique that reduces the number of features in a dataset while preserving the essential information.\\n\\n**Applications of Machine Learning:**\\n\\n1. **Image Recognition**: Machine learning algorithms can recognize objects, scenes, and activities within images.\\n2. **Natural Language Processing**: Machine learning algorithms can understand and generate human language.\\n3. **Speech Recognition**: Machine learning algorithms can recognize spoken words and phrases.\\n4. **Recommendation Systems**: Machine learning algorithms can recommend products or services based on user behavior.\\n5. **Predictive Maintenance**: Machine learning algorithms can predict when equipment or machinery is likely to fail.\\n\\n**Benefits of Machine Learning:**\\n\\n1. **Improved Accuracy**: Machine learning algorithms can make more accurate predictions and decisions than humans in many cases.\\n2. **Increased Efficiency**: Machine learning algorithms can automate many tasks, freeing up human time and resources.\\n3. **Enhanced Decision-Making**: Machine learning algorithms can provide insights and recommendations that humans may not have considered.\\n\\n**Challenges of Machine Learning:**\\n\\n1. **Data Quality**: Machine learning algorithms require high-quality, relevant data to learn and make accurate predictions.\\n2. **Overfitting**: Machine learning algorithms can overfit the training data, resulting in poor performance on new, unseen data.\\n3. **Interpretability**: Machine learning algorithms can be difficult to interpret and understand, making it challenging to identify biases and errors.\\n\\n**Machine Learning Tools and Libraries:**\\n\\n1. **TensorFlow**: An open-source machine learning library developed by Google.\\n2. **PyTorch**: An open-source machine learning library developed by Facebook.\\n3. **Scikit-Learn**: A popular open-source machine learning library for Python.\\n4. **Keras**: A high-level neural networks API that can run on top of TensorFlow, PyTorch, or Theano.\\n\\n**Machine Learning in Real-World Applications:**\\n\\n1. **Self-Driving Cars**: Machine learning algorithms are used to recognize objects, detect pedestrians, and navigate roads.\\n2. **Personalized Medicine**: Machine learning algorithms are used to predict patient outcomes, identify risk factors, and recommend treatments.\\n3. **Financial Trading**: Machine learning algorithms are used to predict stock prices, identify trends, and optimize investment portfolios.\\n4. **Customer Service Chatbots**: Machine learning algorithms are used to understand natural language, recognize intent, and respond to customer inquiries.\\n\\nI hope this gives you a comprehensive overview of machine learning!', additional_kwargs={}, response_metadata={'token_usage': {'completion_tokens': 782, 'prompt_tokens': 41, 'total_tokens': 823, 'completion_time': 1.042666667, 'prompt_time': 0.002228845, 'queue_time': 0.046942025, 'total_time': 1.044895512}, 'model_name': 'llama-3.2-11b-vision-preview', 'system_fingerprint': 'fp_19ca34f5ed', 'finish_reason': 'stop', 'logprobs': None}, id='run-37f67dec-10ec-48a7-aba5-76ae05c72320-0', usage_metadata={'input_tokens': 41, 'output_tokens': 782, 'total_tokens': 823})"
      ]
     },
     "execution_count": 5,
     "metadata": {},
     "output_type": "execute_result"
    }
   ],
   "source": [
    "from langchain_groq import ChatGroq\n",
    "llm = ChatGroq(model=\"llama-3.2-11b-vision-preview\",)"
   ]
  },
  {
   "cell_type": "code",
   "execution_count": 8,
   "metadata": {},
   "outputs": [],
   "source": [
    "from langchain_core.output_parsers import StrOutputParser\n",
    "output_parser = StrOutputParser()"
   ]
  },
  {
   "cell_type": "code",
   "execution_count": 9,
   "metadata": {},
   "outputs": [],
   "source": [
    "chain = prompt|llm|output_parser"
   ]
  },
  {
   "cell_type": "code",
   "execution_count": 10,
   "metadata": {},
   "outputs": [
    {
     "data": {
      "text/plain": [
       "'Groq and Hugging Face are two prominent companies in the field of artificial intelligence (AI) and machine learning (ML), but they operate in different areas.\\n\\n**Groq**: \\n- Focuses on building a new type of AI processor.\\n- Developed to accelerate AI workloads and improve model performance.\\n- Mainly targets large language models, computer vision, and other AI applications.\\n\\n**Hugging Face**:\\n- Concentrates on developing pre-trained language models (e.g., BERT, RoBERTa, and their variants).\\n- Offers the Transformers library and the Hugging Face Model Hub for sharing and deploying AI models.\\n- Primarily focused on natural language processing (NLP) and AI model deployment.\\n\\nIn summary, Groq focuses on hardware acceleration for AI workloads, while Hugging Face focuses on developing and deploying pre-trained AI models, especially in the NLP domain.'"
      ]
     },
     "execution_count": 10,
     "metadata": {},
     "output_type": "execute_result"
    }
   ],
   "source": [
    "chain.invoke({\"question\":\"What are the difference between Groq and Huggingface ?\"})"
   ]
  },
  {
   "cell_type": "code",
   "execution_count": null,
   "metadata": {},
   "outputs": [],
   "source": []
  }
 ],
 "metadata": {
  "kernelspec": {
   "display_name": "tutorial_env",
   "language": "python",
   "name": "python3"
  },
  "language_info": {
   "codemirror_mode": {
    "name": "ipython",
    "version": 3
   },
   "file_extension": ".py",
   "mimetype": "text/x-python",
   "name": "python",
   "nbconvert_exporter": "python",
   "pygments_lexer": "ipython3",
   "version": "3.12.9"
  }
 },
 "nbformat": 4,
 "nbformat_minor": 2
}
