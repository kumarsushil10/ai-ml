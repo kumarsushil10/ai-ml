{
 "cells": [
  {
   "cell_type": "markdown",
   "metadata": {},
   "source": [
    "# List"
   ]
  },
  {
   "cell_type": "markdown",
   "metadata": {},
   "source": [
    "Create a list of the first 20 positive integers. Print the list."
   ]
  },
  {
   "cell_type": "code",
   "execution_count": null,
   "metadata": {},
   "outputs": [],
   "source": [
    "positive_number = [num for num in range(1,21)]\n",
    "print(positive_number)"
   ]
  },
  {
   "cell_type": "markdown",
   "metadata": {},
   "source": [
    "Print the first, middle, and last elements of the list created in Assignment 1."
   ]
  },
  {
   "cell_type": "code",
   "execution_count": null,
   "metadata": {},
   "outputs": [],
   "source": [
    "print(f\"First element = {positive_number[0]}\")\n",
    "mid = len(positive_number) // 2\n",
    "print(f\"Middle element = {positive_number[mid]}\")\n",
    "print(f\"Last element = {positive_number[-1]}\")"
   ]
  },
  {
   "cell_type": "markdown",
   "metadata": {},
   "source": [
    "Print the first five elements, the last five elements, and the elements from index 5 to 15 of the list created in Assignment 1.\n"
   ]
  },
  {
   "cell_type": "code",
   "execution_count": null,
   "metadata": {},
   "outputs": [],
   "source": [
    "print(f\"First Five elements = {positive_number[:5]}\")\n",
    "print(f\"last five element = {positive_number[-5:]}\")\n",
    "print(f\"The elements from index 5 to 15 = {positive_number[4:15]}\")"
   ]
  },
  {
   "cell_type": "markdown",
   "metadata": {},
   "source": [
    "Create a new list containing the squares of the first 10 positive integers using a list comprehension. Print the new list.\n"
   ]
  },
  {
   "cell_type": "code",
   "execution_count": null,
   "metadata": {},
   "outputs": [],
   "source": [
    "square = [num**2 for num in range(1,11)]\n",
    "print(square)"
   ]
  },
  {
   "cell_type": "markdown",
   "metadata": {},
   "source": [
    "Create a new list containing only the even numbers from the list created in Assignment 1 using a list comprehension. Print the new list.\n"
   ]
  },
  {
   "cell_type": "code",
   "execution_count": null,
   "metadata": {},
   "outputs": [],
   "source": [
    "even = [num for num in positive_number if num % 2 == 0]\n",
    "print(even)"
   ]
  },
  {
   "cell_type": "markdown",
   "metadata": {},
   "source": [
    "Create a list of random numbers and sort it in ascending and descending order. Remove the duplicates from the list and print the modified list."
   ]
  },
  {
   "cell_type": "code",
   "execution_count": null,
   "metadata": {},
   "outputs": [],
   "source": [
    "random_list = [1,34,634,13,658,3,12237,67,1,90,9,12,658,1,768,13,6,65,2224,60,78,45,40,1,3,6,8,9,12,13,15,16,18,19,20]\n",
    "asc_sorted_list = sorted(random_list)\n",
    "print(f\"Ascending order = {asc_sorted_list}\")\n",
    "desc_sorted_list = sorted(random_list, reverse=True)\n",
    "print(f\"Descending order = {desc_sorted_list}\")\n",
    "removed_duplicate = [num for num in random_list if random_list.count(num) == 1 ]\n",
    "print(f\"Only Unique elements = {removed_duplicate}\")"
   ]
  },
  {
   "cell_type": "markdown",
   "metadata": {},
   "source": [
    "Create a list of the first 10 positive integers. Remove the elements at indices 2, 4, and 6, and insert the element '99' at index 5. Print the modified list."
   ]
  },
  {
   "cell_type": "code",
   "execution_count": null,
   "metadata": {},
   "outputs": [],
   "source": [
    "lst = [num for num in range(1,11)]\n",
    "print(f\"Original List = {lst}\")\n",
    "lst.remove(2)\n",
    "lst.remove(4)\n",
    "lst.remove(6)\n",
    "print(f\"List after removing even index elements = {lst}\")\n",
    "lst.insert(5,99)\n",
    "print(f\"List after inserting 99 at index 5 = {lst}\")"
   ]
  },
  {
   "cell_type": "markdown",
   "metadata": {},
   "source": [
    "Create a list of dictionaries where each dictionary represents a student with keys 'name' and 'score'. Sort the list of dictionaries by the 'score' in descending order and print the sorted list."
   ]
  },
  {
   "cell_type": "code",
   "execution_count": null,
   "metadata": {},
   "outputs": [],
   "source": [
    "students = [\n",
    "    {\"name\":\"sushil\", \"score\":90},\n",
    "    {\"name\":\"sagar\", \"score\":75},\n",
    "    {\"name\":\"sachin\", \"score\":56},\n",
    "    {\"name\":\"saket\", \"score\":90},\n",
    "    {\"name\":\"manish\", \"score\":23},\n",
    "    {\"name\":\"anki\", \"score\":76},\n",
    "    {\"name\":\"amrita\", \"score\":89},\n",
    "    {\"name\":\"rit\", \"score\":99},\n",
    "]\n",
    "\n",
    "sorted_students = sorted(students, key=lambda x: x[\"score\"],reverse=True)\n",
    "[student for student in sorted_students ]"
   ]
  },
  {
   "cell_type": "markdown",
   "metadata": {},
   "source": [
    "create a 3x3 matrix (nested list) and its transpose. Print the original and transposed matrices.\n"
   ]
  },
  {
   "cell_type": "code",
   "execution_count": null,
   "metadata": {},
   "outputs": [],
   "source": [
    "matrix = [[1,2,3],\n",
    "          [4,5,6],\n",
    "          [7,8,9]]\n",
    "\n",
    "print(\"Original matrix:\")\n",
    "for row in matrix:\n",
    "    print(row)\n",
    "\n",
    "transposed = [[row[i] for row in matrix] for i in range(3)]\n",
    "print(\"Transposed matrix:\")\n",
    "for row in transposed:\n",
    "    print(row)"
   ]
  },
  {
   "cell_type": "markdown",
   "metadata": {},
   "source": [
    "# Tuple"
   ]
  },
  {
   "cell_type": "code",
   "execution_count": null,
   "metadata": {},
   "outputs": [],
   "source": []
  }
 ],
 "metadata": {
  "kernelspec": {
   "display_name": "tutorial_env",
   "language": "python",
   "name": "python3"
  },
  "language_info": {
   "codemirror_mode": {
    "name": "ipython",
    "version": 3
   },
   "file_extension": ".py",
   "mimetype": "text/x-python",
   "name": "python",
   "nbconvert_exporter": "python",
   "pygments_lexer": "ipython3",
   "version": "3.12.9"
  }
 },
 "nbformat": 4,
 "nbformat_minor": 2
}
