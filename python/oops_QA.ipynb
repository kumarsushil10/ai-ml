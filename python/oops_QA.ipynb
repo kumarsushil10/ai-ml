{
 "cells": [
  {
   "cell_type": "markdown",
   "id": "3bc83cc6",
   "metadata": {},
   "source": [
    "Create a class named `Car` with attributes `make`, `model`, and `year`. Create an object of the class and print its attributes.\n"
   ]
  },
  {
   "cell_type": "code",
   "execution_count": 1,
   "id": "0ec65d02",
   "metadata": {},
   "outputs": [
    {
     "name": "stdout",
     "output_type": "stream",
     "text": [
      "Scarpio\n",
      "mahindra\n",
      "2010\n"
     ]
    }
   ],
   "source": [
    "class Car :\n",
    "    def __init__(self,make,model,year):\n",
    "        self.make = make\n",
    "        self.model = model\n",
    "        self.year = year\n",
    "\n",
    "\n",
    "\n",
    "mahindra = Car(\"mahindra\",\"Scarpio\",2010)\n",
    "print(mahindra.model)\n",
    "print(mahindra.make)\n",
    "print(mahindra.year)\n",
    "        "
   ]
  },
  {
   "cell_type": "markdown",
   "id": "b77c236c",
   "metadata": {},
   "source": [
    "Add a method named `start_engine` to the `Car` class that prints a message when the engine starts. Create an object of the class and call the method."
   ]
  },
  {
   "cell_type": "code",
   "execution_count": 2,
   "id": "a5425aa9",
   "metadata": {},
   "outputs": [
    {
     "name": "stdout",
     "output_type": "stream",
     "text": [
      "Scarpio is started\n"
     ]
    }
   ],
   "source": [
    "class Car :\n",
    "    def __init__(self,make,model,year):\n",
    "        self.make = make\n",
    "        self.model = model\n",
    "        self.year = year\n",
    "\n",
    "    def start_engine(self):\n",
    "        print(f\"{self.model} is started\")\n",
    "    \n",
    "mahindra = Car(\"mahindra\",\"Scarpio\",2010)\n",
    "mahindra.start_engine()"
   ]
  },
  {
   "cell_type": "markdown",
   "id": "9ec80904",
   "metadata": {},
   "source": [
    "Create a class named `BankAccount` with private attributes `account_number` and `balance`. Add methods to deposit and withdraw money, and to check the balance. Create an object of the class and perform some operations."
   ]
  },
  {
   "cell_type": "code",
   "execution_count": 3,
   "id": "a9e4a924",
   "metadata": {},
   "outputs": [
    {
     "name": "stdout",
     "output_type": "stream",
     "text": [
      "New account created with account number 12345 with balance 2000\n",
      "Deposited amount 100 and new balnace is 2100\n",
      "Withdraw amount 50 and new balnace is 2050\n",
      "Balnace in your account 12345 is : 2050\n"
     ]
    }
   ],
   "source": [
    "class BankAccount:\n",
    "    def __init__(self,account_number,balance):\n",
    "        self.__account_number = account_number\n",
    "        self.__balance = balance\n",
    "        print(f\"New account created with account number {self.__account_number} with balance {self.__balance}\")\n",
    "    def deposit(self,amount):\n",
    "        self.__balance += amount\n",
    "        print(f\"Deposited amount {amount} and new balnace is {self.__balance}\")\n",
    "\n",
    "    def withdraw(self,amount):\n",
    "        self.__balance -= amount\n",
    "        print(f\"Withdraw amount {amount} and new balnace is {self.__balance}\")\n",
    "\n",
    "    def check_balance(self):\n",
    "        print(f\"Balnace in your account {self.__account_number} is : {self.__balance}\")\n",
    "\n",
    "\n",
    "        \n",
    "\n",
    "anki = BankAccount(12345,2000)\n",
    "anki.deposit(100)\n",
    "anki.withdraw(50)\n",
    "anki.check_balance()\n"
   ]
  },
  {
   "cell_type": "markdown",
   "id": "19b98e16",
   "metadata": {},
   "source": [
    "Create a base class named `Person` with attributes `name` and `age`. Create a derived class named `Employee` that inherits from `Person` and adds an attribute `employee_id`. Create an object of the derived class and print its attributes."
   ]
  },
  {
   "cell_type": "code",
   "execution_count": 4,
   "id": "7f7f1972",
   "metadata": {},
   "outputs": [
    {
     "name": "stdout",
     "output_type": "stream",
     "text": [
      "saket12\n"
     ]
    }
   ],
   "source": [
    "class Person :\n",
    "    def __init__(self,name:str,age:int):\n",
    "        self.name = name\n",
    "        self.age = age\n",
    "\n",
    "\n",
    "class Employee(Person):\n",
    "    def __init__(self, name, age,employee_id):\n",
    "        super().__init__(name, age)\n",
    "        self.employee_id = employee_id\n",
    "\n",
    "\n",
    "saket = Employee(\"Saket Kumar\",32,\"saket12\")\n",
    "print(saket.employee_id)\n"
   ]
  },
  {
   "cell_type": "markdown",
   "id": "4caf192d",
   "metadata": {},
   "source": [
    "In the `Employee` class, override the `__str__` method to return a string representation of the object. Create an object of the class and print it."
   ]
  },
  {
   "cell_type": "code",
   "execution_count": 5,
   "id": "c240caad",
   "metadata": {},
   "outputs": [
    {
     "name": "stdout",
     "output_type": "stream",
     "text": [
      "Employee(name = Saket Kumar, age = 32, employee_id =saket12)\n"
     ]
    }
   ],
   "source": [
    "class Person :\n",
    "    def __init__(self,name:str,age:int):\n",
    "        self.name = name\n",
    "        self.age = age\n",
    "\n",
    "\n",
    "class Employee(Person):\n",
    "    def __init__(self, name, age,employee_id):\n",
    "        super().__init__(name, age)\n",
    "        self.employee_id = employee_id\n",
    "\n",
    "    def __str__(self):\n",
    "        return f\"Employee(name = {self.name}, age = {self.age}, employee_id ={self.employee_id})\"\n",
    "    \n",
    "    \n",
    "\n",
    "\n",
    "saket = Employee(\"Saket Kumar\",32,\"saket12\")\n",
    "print(saket)"
   ]
  },
  {
   "cell_type": "markdown",
   "id": "e73e5b68",
   "metadata": {},
   "source": [
    "Create a class named `Address` with attributes `street`, `city`, and `zipcode`. Create a class named `Person` that has an `Address` object as an attribute. Create an object of the `Person` class and print its address."
   ]
  },
  {
   "cell_type": "code",
   "execution_count": 6,
   "id": "e1a7f901",
   "metadata": {},
   "outputs": [
    {
     "name": "stdout",
     "output_type": "stream",
     "text": [
      "100001\n"
     ]
    }
   ],
   "source": [
    "class Address:\n",
    "    def __init__(self,street,city,zipcode):\n",
    "        self.street = street\n",
    "        self.city = city\n",
    "        self.zipcode = zipcode\n",
    "\n",
    "\n",
    "class Person :\n",
    "    def __init__(self,name:str,age:int,address:Address):\n",
    "        self.name = name\n",
    "        self.age = age\n",
    "        self.address = address\n",
    "    \n",
    "\n",
    "\n",
    "\n",
    "mohan = Person(\"mohan\",45,Address(\"new delhi\",\"delhi\",100001))\n",
    "print(mohan.address.zipcode)\n"
   ]
  },
  {
   "cell_type": "markdown",
   "id": "cd25dda6",
   "metadata": {},
   "source": [
    "Create a class named `MathOperations` with a static method to calculate the square root of a number. Call the static method without creating an object."
   ]
  },
  {
   "cell_type": "code",
   "execution_count": 7,
   "id": "022f7679",
   "metadata": {},
   "outputs": [
    {
     "name": "stdout",
     "output_type": "stream",
     "text": [
      "2.0\n"
     ]
    }
   ],
   "source": [
    "class MathOperations:\n",
    "    \n",
    "    @staticmethod\n",
    "    def squareRoot(num):\n",
    "        return num**(1/2)\n",
    "\n",
    "print(MathOperations.squareRoot(4))\n"
   ]
  },
  {
   "cell_type": "markdown",
   "id": "4167e3eb",
   "metadata": {},
   "source": [
    "Create a class named `Rectangle` with private attributes `length` and `width`. Use properties to get and set these attributes. Create an object of the class and test the properties."
   ]
  },
  {
   "cell_type": "code",
   "execution_count": 8,
   "id": "73362cbd",
   "metadata": {},
   "outputs": [
    {
     "name": "stdout",
     "output_type": "stream",
     "text": [
      "0\n",
      "23\n"
     ]
    }
   ],
   "source": [
    "class Rectangle :\n",
    "    def __init__(self,length = 0,width = 0):\n",
    "        self.__length = length\n",
    "        self.__width = width\n",
    "\n",
    "    def get_length(self):\n",
    "        return self.__length\n",
    "    def set_lenght(self,length):\n",
    "        self.l__ength = length\n",
    "\n",
    "\n",
    "    def get_width(self):\n",
    "        return self.__width\n",
    "    def set_width(self,width):\n",
    "        self.__width = width\n",
    "\n",
    "rect = Rectangle()\n",
    "print(rect.get_width())\n",
    "rect.set_width(23)\n",
    "print(rect.get_width())\n",
    "    "
   ]
  },
  {
   "cell_type": "markdown",
   "id": "fe54c399",
   "metadata": {},
   "source": [
    "Create an abstract base class named `Shape` with an abstract method `area`. Create derived classes `Circle` and `Square` that implement the `area` method. Create objects of the derived classes and call the `area` method."
   ]
  },
  {
   "cell_type": "code",
   "execution_count": 9,
   "id": "be374a53",
   "metadata": {},
   "outputs": [
    {
     "name": "stdout",
     "output_type": "stream",
     "text": [
      "78.53981633974483\n",
      "16\n"
     ]
    }
   ],
   "source": [
    "import math\n",
    "class Shape:\n",
    "    def area(self):\n",
    "        pass\n",
    "\n",
    "class Circle(Shape):\n",
    "    def __init__(self, radius):\n",
    "        self.radius = radius\n",
    "\n",
    "    def area(self):\n",
    "        return math.pi * self.radius ** 2\n",
    "\n",
    "class Square(Shape):\n",
    "    def __init__(self, side):\n",
    "        self.side = side\n",
    "\n",
    "    def area(self):\n",
    "        return self.side ** 2\n",
    "    \n",
    "circle = Circle(5)\n",
    "square = Square(4)\n",
    "print(circle.area()) \n",
    "print(square.area()) \n"
   ]
  },
  {
   "cell_type": "markdown",
   "id": "101e91b0",
   "metadata": {},
   "source": [
    "Create a class named `Vector` with attributes `x` and `y`. Overload the `+` operator to add two `Vector` objects. Create objects of the class and test the operator overloading."
   ]
  },
  {
   "cell_type": "code",
   "execution_count": 10,
   "id": "1019ef73",
   "metadata": {},
   "outputs": [
    {
     "name": "stdout",
     "output_type": "stream",
     "text": [
      "9i + 11j\n"
     ]
    }
   ],
   "source": [
    "class Vector:\n",
    "    def __init__(self,x:int,y:int):\n",
    "        self.x = x\n",
    "        self.y = y\n",
    "        \n",
    "    def __add__(self,vector):\n",
    "        x_axis = self.x + vector.x\n",
    "        y_axis = self.y + vector.y\n",
    "        return Vector(x_axis,y_axis)\n",
    "    \n",
    "    def show(self):\n",
    "        print(f\"{self.x}i + {self.y}j\")\n",
    "\n",
    "    \n",
    "\n",
    "vector_a = Vector(2,3)\n",
    "vector_b = Vector(4,6)\n",
    "vector_c = Vector(3,2)\n",
    "\n",
    "vector_d = vector_a + vector_b + vector_c\n",
    "vector_d.show()"
   ]
  },
  {
   "cell_type": "markdown",
   "id": "5362f690",
   "metadata": {},
   "source": [
    "Create a custom exception named `InsufficientBalanceError`. In the `BankAccount` class, raise this exception when a withdrawal amount is greater than the balance. Handle the exception and print an appropriate message.\n"
   ]
  },
  {
   "cell_type": "code",
   "execution_count": 11,
   "id": "e0b7d18f",
   "metadata": {},
   "outputs": [
    {
     "name": "stdout",
     "output_type": "stream",
     "text": [
      "New account created with account number 12345 with balance 100\n",
      "Balnace in your account 12345 is : 100\n",
      "Insufficient Balance Error Occured\n"
     ]
    }
   ],
   "source": [
    "class InsufficientBalanceError(Exception):\n",
    "    def __init__(self, *args):\n",
    "        super().__init__(*args)\n",
    "\n",
    "class BankAccount:\n",
    "    def __init__(self,account_number,balance):\n",
    "        self.__account_number = account_number\n",
    "        self.__balance = balance\n",
    "        print(f\"New account created with account number {self.__account_number} with balance {self.__balance}\")\n",
    "\n",
    "    def deposit(self,amount):\n",
    "        self.__balance += amount\n",
    "        print(f\"Deposited amount {amount} and new balnace is {self.__balance}\")\n",
    "\n",
    "    def withdraw(self,amount):\n",
    "        try:\n",
    "            if amount < self.__balance:\n",
    "                self.__balance -= amount\n",
    "                print(f\"Withdraw amount {amount} and new balnace is {self.__balance}\")\n",
    "            else:\n",
    "                raise InsufficientBalanceError(\"Insufficient Balance Error Occured\")\n",
    "        except InsufficientBalanceError as ie:\n",
    "            print(\"Insufficient Balance Error Occured\")\n",
    "\n",
    "    def check_balance(self):\n",
    "        print(f\"Balnace in your account {self.__account_number} is : {self.__balance}\")\n",
    "\n",
    "\n",
    "saket = BankAccount(\"12345\",100)\n",
    "saket.check_balance()\n",
    "saket.withdraw(200)\n",
    "\n"
   ]
  },
  {
   "cell_type": "markdown",
   "id": "46fe8f85",
   "metadata": {},
   "source": [
    "Create a class named `Calculator` with methods to add, subtract, multiply, and divide. Each method should return the object itself to allow method chaining. Create an object and chain multiple method calls."
   ]
  },
  {
   "cell_type": "code",
   "execution_count": 12,
   "id": "90337c41",
   "metadata": {},
   "outputs": [
    {
     "name": "stdout",
     "output_type": "stream",
     "text": [
      "Cannot divide by zero!\n",
      "10\n"
     ]
    }
   ],
   "source": [
    "class Calculator:\n",
    "    def __init__(self,value = 0):\n",
    "        self.value = value\n",
    "\n",
    "    def add(self,amount):\n",
    "        self.value += amount\n",
    "        return self\n",
    "    \n",
    "    def subtract(self,amount):\n",
    "        self.value -= amount\n",
    "        return self\n",
    "    \n",
    "    def multiply(self,amount):\n",
    "        self.value *= amount\n",
    "        return self\n",
    "    \n",
    "    def divide(self, amount):\n",
    "        try:\n",
    "            self.value /= amount\n",
    "        except ZeroDivisionError as ze :\n",
    "            print(\"Cannot divide by zero!\")\n",
    "        return self\n",
    "    \n",
    "\n",
    "\n",
    "cal = Calculator()\n",
    "cal.add(2).multiply(5).divide(0)\n",
    "print(cal.value)"
   ]
  },
  {
   "cell_type": "markdown",
   "id": "8574feca",
   "metadata": {},
   "source": [
    "Create a base class named `Animal` with attributes `name` and `species`. Create a derived class named `Dog` that inherits from `Animal` and adds an attribute `breed`. Create an object of the `Dog` class and print its attributes."
   ]
  },
  {
   "cell_type": "code",
   "execution_count": 13,
   "id": "92fe60c9",
   "metadata": {},
   "outputs": [
    {
     "name": "stdout",
     "output_type": "stream",
     "text": [
      "kali\n",
      "Dog\n",
      "indian\n"
     ]
    }
   ],
   "source": [
    "class Animal:\n",
    "    def __init__(self,name,species):\n",
    "        self.name = name\n",
    "        self.species = species\n",
    "\n",
    "class Dog(Animal):\n",
    "    def __init__(self, name, species,bread):\n",
    "        super().__init__(name, species)\n",
    "        self.bread = bread\n",
    "\n",
    "\n",
    "dog = Dog(\"kali\",\"Dog\",\"indian\")\n",
    "print(dog.name)\n",
    "print(dog.species)\n",
    "print(dog.bread)\n"
   ]
  },
  {
   "cell_type": "markdown",
   "id": "1d722576",
   "metadata": {},
   "source": [
    "In the `Dog` class, override the `__str__` method to return a string representation of the object. Create an object of the class and print it."
   ]
  },
  {
   "cell_type": "code",
   "execution_count": 14,
   "id": "c67741d7",
   "metadata": {},
   "outputs": [
    {
     "name": "stdout",
     "output_type": "stream",
     "text": [
      "Dog(name:kali, species:Dog, bread:indian)\n"
     ]
    }
   ],
   "source": [
    "class Dog(Animal):\n",
    "    def __init__(self, name, species,bread):\n",
    "        super().__init__(name, species)\n",
    "        self.bread = bread\n",
    "\n",
    "    def __str__(self):\n",
    "        return f\"Dog(name:{self.name}, species:{self.species}, bread:{self.bread})\"\n",
    "    \n",
    "dog = Dog(\"kali\",\"Dog\",\"indian\")\n",
    "print(dog)\n"
   ]
  },
  {
   "cell_type": "markdown",
   "id": "b9472cdf",
   "metadata": {},
   "source": [
    "In the `Dog` class, add a method named `bark` that prints a barking sound. Create an object of the class and call the method.\n"
   ]
  },
  {
   "cell_type": "code",
   "execution_count": 15,
   "id": "cc299f47",
   "metadata": {},
   "outputs": [
    {
     "name": "stdout",
     "output_type": "stream",
     "text": [
      "woaf\n"
     ]
    }
   ],
   "source": [
    "class Dog(Animal):\n",
    "    def __init__(self, name, species,bread):\n",
    "        super().__init__(name, species)\n",
    "        self.bread = bread\n",
    "\n",
    "    def __str__(self):\n",
    "        return f\"Dog(name:{self.name}, species:{self.species}, bread:{self.bread})\"\n",
    "    \n",
    "    def bark(self):\n",
    "        print(\"woaf\")\n",
    "    \n",
    "dog = Dog(\"kali\",\"Dog\",\"indian\")\n",
    "dog.bark()"
   ]
  },
  {
   "cell_type": "markdown",
   "id": "fb700626",
   "metadata": {},
   "source": [
    "Create a base class named `Walker` with a method `walk` that prints a walking message. Create another base class named `Runner` with a method `run` that prints a running message. Create a derived class named `Athlete` that inherits from both `Walker` and `Runner`. Create an object of the `Athlete` class and call both methods."
   ]
  },
  {
   "cell_type": "code",
   "execution_count": 16,
   "id": "ef694f3c",
   "metadata": {},
   "outputs": [
    {
     "name": "stdout",
     "output_type": "stream",
     "text": [
      "running\n",
      "walking\n"
     ]
    }
   ],
   "source": [
    "class Walker:\n",
    "    def walk(self):\n",
    "        print(\"walking\")\n",
    "\n",
    "class Runner:\n",
    "    def run(self):\n",
    "        print(\"running\")\n",
    "\n",
    "class Athlete(Walker,Runner):\n",
    "    pass\n",
    "\n",
    "pt = Athlete()\n",
    "pt.run()\n",
    "pt.walk()"
   ]
  },
  {
   "cell_type": "markdown",
   "id": "c299544f",
   "metadata": {},
   "source": [
    "In the `Athlete` class, override the `walk` method to print a different message. Create an object of the class and call the `walk` method. Use the `super()` function to call the `walk` method of the `Walker` class."
   ]
  },
  {
   "cell_type": "code",
   "execution_count": 17,
   "id": "72ed70bf",
   "metadata": {},
   "outputs": [
    {
     "name": "stdout",
     "output_type": "stream",
     "text": [
      "PT Usha is walking\n",
      "walking\n"
     ]
    }
   ],
   "source": [
    "class Athlete(Walker,Runner):\n",
    "    def __init__(self,name):\n",
    "        super().__init__()\n",
    "        self.name = name\n",
    "\n",
    "    def walk(self):\n",
    "        print(f\"{self.name} is walking\")\n",
    "        super().walk()\n",
    "\n",
    "pt = Athlete(\"PT Usha\")\n",
    "pt.walk()   "
   ]
  },
  {
   "cell_type": "markdown",
   "id": "cbe11b93",
   "metadata": {},
   "source": [
    "Create a class named `A` with a method `show` that prints a message. Create two derived classes `B` and `C` that inherit from `A` and override the `show` method. Create a class `D` that inherits from both `B` and `C`. Create an object of the `D` class and call the `show` method. Observe the method resolution order.\n"
   ]
  },
  {
   "cell_type": "code",
   "execution_count": 18,
   "id": "c52c42e0",
   "metadata": {},
   "outputs": [
    {
     "name": "stdout",
     "output_type": "stream",
     "text": [
      "C is Showing\n"
     ]
    }
   ],
   "source": [
    "class A:\n",
    "    def show(self):\n",
    "        print(\"A is Showing\")\n",
    "\n",
    "class B(A):\n",
    "    def show(self):\n",
    "        print(\"B is Showing\")\n",
    "\n",
    "class C(A):\n",
    "    def show(self):\n",
    "        print(\"C is Showing\")\n",
    "\n",
    "\n",
    "class D(C,B): # if B is first parameter than class D give first to B if a method in both parent class \n",
    "    pass\n",
    "\n",
    "\n",
    "d = D()\n",
    "d.show()"
   ]
  },
  {
   "cell_type": "markdown",
   "id": "297d6eda",
   "metadata": {},
   "source": [
    "Create a base class named `Shape` with an attribute `color`. Create a derived class named `Circle` that inherits from `Shape` and adds an attribute `radius`. Use the `super()` function to initialize the attributes. Create an object of the `Circle` class and print its attributes."
   ]
  },
  {
   "cell_type": "code",
   "execution_count": 19,
   "id": "4585d2c5",
   "metadata": {},
   "outputs": [
    {
     "name": "stdout",
     "output_type": "stream",
     "text": [
      "red\n",
      "3.5\n"
     ]
    }
   ],
   "source": [
    "class Shape:\n",
    "    def __init__(self,color):\n",
    "        self.color = color\n",
    "\n",
    "class Circle(Shape):\n",
    "    def __init__(self, color,radius):\n",
    "        super().__init__(color)\n",
    "        self.radius = radius\n",
    "\n",
    "\n",
    "cir = Circle(\"red\",3.5)\n",
    "\n",
    "print(cir.color)\n",
    "print(cir.radius)\n"
   ]
  }
 ],
 "metadata": {
  "kernelspec": {
   "display_name": "tutorial_env",
   "language": "python",
   "name": "python3"
  },
  "language_info": {
   "codemirror_mode": {
    "name": "ipython",
    "version": 3
   },
   "file_extension": ".py",
   "mimetype": "text/x-python",
   "name": "python",
   "nbconvert_exporter": "python",
   "pygments_lexer": "ipython3",
   "version": "3.12.9"
  }
 },
 "nbformat": 4,
 "nbformat_minor": 5
}
