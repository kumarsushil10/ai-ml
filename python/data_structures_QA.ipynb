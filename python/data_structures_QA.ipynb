{
 "cells": [
  {
   "cell_type": "markdown",
   "metadata": {},
   "source": [
    "# List"
   ]
  },
  {
   "cell_type": "markdown",
   "metadata": {},
   "source": [
    "Create a list of the first 20 positive integers. Print the list."
   ]
  },
  {
   "cell_type": "code",
   "execution_count": 1,
   "metadata": {},
   "outputs": [
    {
     "name": "stdout",
     "output_type": "stream",
     "text": [
      "[1, 2, 3, 4, 5, 6, 7, 8, 9, 10, 11, 12, 13, 14, 15, 16, 17, 18, 19, 20]\n"
     ]
    }
   ],
   "source": [
    "positive_number = [num for num in range(1,21)]\n",
    "print(positive_number)"
   ]
  },
  {
   "cell_type": "markdown",
   "metadata": {},
   "source": [
    "Print the first, middle, and last elements of the list created in Assignment 1."
   ]
  },
  {
   "cell_type": "code",
   "execution_count": 2,
   "metadata": {},
   "outputs": [
    {
     "name": "stdout",
     "output_type": "stream",
     "text": [
      "First element = 1\n",
      "Middle element = 11\n",
      "Last element = 20\n"
     ]
    }
   ],
   "source": [
    "print(f\"First element = {positive_number[0]}\")\n",
    "mid = len(positive_number) // 2\n",
    "print(f\"Middle element = {positive_number[mid]}\")\n",
    "print(f\"Last element = {positive_number[-1]}\")"
   ]
  },
  {
   "cell_type": "markdown",
   "metadata": {},
   "source": [
    "Print the first five elements, the last five elements, and the elements from index 5 to 15 of the list created in Assignment 1.\n"
   ]
  },
  {
   "cell_type": "code",
   "execution_count": 3,
   "metadata": {},
   "outputs": [
    {
     "name": "stdout",
     "output_type": "stream",
     "text": [
      "First Five elements = [1, 2, 3, 4, 5]\n",
      "last five element = [16, 17, 18, 19, 20]\n",
      "The elements from index 5 to 15 = [5, 6, 7, 8, 9, 10, 11, 12, 13, 14, 15]\n"
     ]
    }
   ],
   "source": [
    "print(f\"First Five elements = {positive_number[:5]}\")\n",
    "print(f\"last five element = {positive_number[-5:]}\")\n",
    "print(f\"The elements from index 5 to 15 = {positive_number[4:15]}\")"
   ]
  },
  {
   "cell_type": "markdown",
   "metadata": {},
   "source": [
    "Create a new list containing the squares of the first 10 positive integers using a list comprehension. Print the new list.\n"
   ]
  },
  {
   "cell_type": "code",
   "execution_count": 4,
   "metadata": {},
   "outputs": [
    {
     "name": "stdout",
     "output_type": "stream",
     "text": [
      "[1, 4, 9, 16, 25, 36, 49, 64, 81, 100]\n"
     ]
    }
   ],
   "source": [
    "square = [num**2 for num in range(1,11)]\n",
    "print(square)"
   ]
  },
  {
   "cell_type": "markdown",
   "metadata": {},
   "source": [
    "Create a new list containing only the even numbers from the list created in Assignment 1 using a list comprehension. Print the new list.\n"
   ]
  },
  {
   "cell_type": "code",
   "execution_count": 5,
   "metadata": {},
   "outputs": [
    {
     "name": "stdout",
     "output_type": "stream",
     "text": [
      "[2, 4, 6, 8, 10, 12, 14, 16, 18, 20]\n"
     ]
    }
   ],
   "source": [
    "even = [num for num in positive_number if num % 2 == 0]\n",
    "print(even)"
   ]
  },
  {
   "cell_type": "markdown",
   "metadata": {},
   "source": [
    "Create a list of random numbers and sort it in ascending and descending order. Remove the duplicates from the list and print the modified list."
   ]
  },
  {
   "cell_type": "code",
   "execution_count": 6,
   "metadata": {},
   "outputs": [
    {
     "name": "stdout",
     "output_type": "stream",
     "text": [
      "Ascending order = [1, 1, 1, 1, 3, 3, 6, 6, 8, 9, 9, 12, 12, 13, 13, 13, 15, 16, 18, 19, 20, 34, 40, 45, 60, 65, 67, 78, 90, 634, 658, 658, 768, 2224, 12237]\n",
      "Descending order = [12237, 2224, 768, 658, 658, 634, 90, 78, 67, 65, 60, 45, 40, 34, 20, 19, 18, 16, 15, 13, 13, 13, 12, 12, 9, 9, 8, 6, 6, 3, 3, 1, 1, 1, 1]\n",
      "Only Unique elements = [34, 634, 12237, 67, 90, 768, 65, 2224, 60, 78, 45, 40, 8, 15, 16, 18, 19, 20]\n"
     ]
    }
   ],
   "source": [
    "random_list = [1,34,634,13,658,3,12237,67,1,90,9,12,658,1,768,13,6,65,2224,60,78,45,40,1,3,6,8,9,12,13,15,16,18,19,20]\n",
    "asc_sorted_list = sorted(random_list)\n",
    "print(f\"Ascending order = {asc_sorted_list}\")\n",
    "desc_sorted_list = sorted(random_list, reverse=True)\n",
    "print(f\"Descending order = {desc_sorted_list}\")\n",
    "removed_duplicate = [num for num in random_list if random_list.count(num) == 1 ]\n",
    "print(f\"Only Unique elements = {removed_duplicate}\")"
   ]
  },
  {
   "cell_type": "markdown",
   "metadata": {},
   "source": [
    "Create a list of the first 10 positive integers. Remove the elements at indices 2, 4, and 6, and insert the element '99' at index 5. Print the modified list."
   ]
  },
  {
   "cell_type": "code",
   "execution_count": 7,
   "metadata": {},
   "outputs": [
    {
     "name": "stdout",
     "output_type": "stream",
     "text": [
      "Original List = [1, 2, 3, 4, 5, 6, 7, 8, 9, 10]\n",
      "List after removing even index elements = [1, 3, 5, 7, 8, 9, 10]\n",
      "List after inserting 99 at index 5 = [1, 3, 5, 7, 8, 99, 9, 10]\n"
     ]
    }
   ],
   "source": [
    "lst = [num for num in range(1,11)]\n",
    "print(f\"Original List = {lst}\")\n",
    "lst.remove(2)\n",
    "lst.remove(4)\n",
    "lst.remove(6)\n",
    "print(f\"List after removing even index elements = {lst}\")\n",
    "lst.insert(5,99)\n",
    "print(f\"List after inserting 99 at index 5 = {lst}\")"
   ]
  },
  {
   "cell_type": "markdown",
   "metadata": {},
   "source": [
    "Create a list of dictionaries where each dictionary represents a student with keys 'name' and 'score'. Sort the list of dictionaries by the 'score' in descending order and print the sorted list."
   ]
  },
  {
   "cell_type": "code",
   "execution_count": 8,
   "metadata": {},
   "outputs": [
    {
     "data": {
      "text/plain": [
       "[{'name': 'rit', 'score': 99},\n",
       " {'name': 'sushil', 'score': 90},\n",
       " {'name': 'saket', 'score': 90},\n",
       " {'name': 'amrita', 'score': 89},\n",
       " {'name': 'anki', 'score': 76},\n",
       " {'name': 'sagar', 'score': 75},\n",
       " {'name': 'sachin', 'score': 56},\n",
       " {'name': 'manish', 'score': 23}]"
      ]
     },
     "execution_count": 8,
     "metadata": {},
     "output_type": "execute_result"
    }
   ],
   "source": [
    "students = [\n",
    "    {\"name\":\"sushil\", \"score\":90},\n",
    "    {\"name\":\"sagar\", \"score\":75},\n",
    "    {\"name\":\"sachin\", \"score\":56},\n",
    "    {\"name\":\"saket\", \"score\":90},\n",
    "    {\"name\":\"manish\", \"score\":23},\n",
    "    {\"name\":\"anki\", \"score\":76},\n",
    "    {\"name\":\"amrita\", \"score\":89},\n",
    "    {\"name\":\"rit\", \"score\":99},\n",
    "]\n",
    "\n",
    "sorted_students = sorted(students, key=lambda x: x[\"score\"],reverse=True)\n",
    "[student for student in sorted_students ]"
   ]
  },
  {
   "cell_type": "markdown",
   "metadata": {},
   "source": [
    "create a 3x3 matrix (nested list) and its transpose. Print the original and transposed matrices.\n"
   ]
  },
  {
   "cell_type": "code",
   "execution_count": 9,
   "metadata": {},
   "outputs": [
    {
     "name": "stdout",
     "output_type": "stream",
     "text": [
      "Original matrix:\n",
      "[1, 2, 3]\n",
      "[4, 5, 6]\n",
      "[7, 8, 9]\n",
      "Transposed matrix:\n",
      "[1, 4, 7]\n",
      "[2, 5, 8]\n",
      "[3, 6, 9]\n"
     ]
    }
   ],
   "source": [
    "matrix = [[1,2,3],\n",
    "          [4,5,6],\n",
    "          [7,8,9]]\n",
    "\n",
    "print(\"Original matrix:\")\n",
    "for row in matrix:\n",
    "    print(row)\n",
    "\n",
    "transposed = [[row[i] for row in matrix] for i in range(3)]\n",
    "print(\"Transposed matrix:\")\n",
    "for row in transposed:\n",
    "    print(row)"
   ]
  },
  {
   "cell_type": "markdown",
   "metadata": {},
   "source": [
    "# Tuple"
   ]
  },
  {
   "cell_type": "markdown",
   "metadata": {},
   "source": [
    "Create a tuple with the first 10 positive integers. Print the tuple.\n"
   ]
  },
  {
   "cell_type": "code",
   "execution_count": 10,
   "metadata": {},
   "outputs": [
    {
     "data": {
      "text/plain": [
       "(1, 2, 3, 4, 5, 6, 7, 8, 9, 10)"
      ]
     },
     "execution_count": 10,
     "metadata": {},
     "output_type": "execute_result"
    }
   ],
   "source": [
    "positive_tuple = tuple(num for num in range(1,11))\n",
    "positive_tuple"
   ]
  },
  {
   "cell_type": "markdown",
   "metadata": {},
   "source": [
    "Print the first, middle, and last elements of the tuple created in Assignment 1.\n"
   ]
  },
  {
   "cell_type": "code",
   "execution_count": 11,
   "metadata": {},
   "outputs": [
    {
     "name": "stdout",
     "output_type": "stream",
     "text": [
      "First element = 1\n",
      "Middle element = 6\n",
      "Last element = 10\n"
     ]
    }
   ],
   "source": [
    "first_element = positive_tuple[0]\n",
    "mid = len(positive_tuple) // 2\n",
    "middle_element = positive_tuple[mid]\n",
    "last_element = positive_tuple[-1]\n",
    "print(f\"First element = {first_element}\")\n",
    "print(f\"Middle element = {middle_element}\") \n",
    "print(f\"Last element = {last_element}\") "
   ]
  },
  {
   "cell_type": "markdown",
   "metadata": {},
   "source": [
    "Print the first three elements, the last three elements, and the elements from index 2 to 5 of the tuple created in Assignment 1.\n"
   ]
  },
  {
   "cell_type": "code",
   "execution_count": 12,
   "metadata": {},
   "outputs": [
    {
     "name": "stdout",
     "output_type": "stream",
     "text": [
      "first three (1, 2, 3)\n",
      "last three (1, 2, 3, 4, 5, 6, 7)\n",
      "from index 2 t0 5 = (3, 4, 5, 6)\n"
     ]
    }
   ],
   "source": [
    "print(f\"first three {positive_tuple[:3]}\")\n",
    "print(f\"last three {positive_tuple[:-3]}\")\n",
    "print(f\"from index 2 t0 5 = {positive_tuple[2:6]}\")"
   ]
  },
  {
   "cell_type": "markdown",
   "metadata": {},
   "source": [
    "Create a nested tuple representing a 3x3 matrix and print the matrix. Access and print the element at the second row and third column.\n"
   ]
  },
  {
   "cell_type": "code",
   "execution_count": 13,
   "metadata": {},
   "outputs": [
    {
     "name": "stdout",
     "output_type": "stream",
     "text": [
      "Original matrix:\n",
      "[1, 2, 3]\n",
      "[4, 5, 6]\n",
      "[7, 8, 9]\n",
      "second row= [4, 5, 6]\n",
      "second row= [7, 8, 9]\n"
     ]
    }
   ],
   "source": [
    "tuple_matrix = ([1,2,3],[4,5,6],[7,8,9])\n",
    "print(\"Original matrix:\")\n",
    "for row in tuple_matrix:\n",
    "    print(row)\n",
    "\n",
    "print(f\"second row= {tuple_matrix[1]}\")\n",
    "print(f\"second row= {tuple_matrix[2]}\")"
   ]
  },
  {
   "cell_type": "markdown",
   "metadata": {},
   "source": [
    "Concatenate two tuples: (1, 2, 3) and (4, 5, 6). Print the resulting tuple.\n"
   ]
  },
  {
   "cell_type": "code",
   "execution_count": 14,
   "metadata": {},
   "outputs": [
    {
     "name": "stdout",
     "output_type": "stream",
     "text": [
      "(1, 2, 3, 4, 5, 6)\n"
     ]
    }
   ],
   "source": [
    "tuple1 = (1,2,3)\n",
    "tuple2 = (4,5,6)\n",
    "concatenated_tuple = tuple1 + tuple2\n",
    "print(concatenated_tuple)"
   ]
  },
  {
   "cell_type": "markdown",
   "metadata": {},
   "source": [
    "Create a tuple with duplicate elements and count the occurrences of an element. Find the index of the first occurrence of an element in the tuple."
   ]
  },
  {
   "cell_type": "code",
   "execution_count": 15,
   "metadata": {},
   "outputs": [
    {
     "name": "stdout",
     "output_type": "stream",
     "text": [
      "Number of 7 = 3\n",
      "Index of 7 = 8\n"
     ]
    }
   ],
   "source": [
    "number = (1,4,2,646,75,4,25,3,7,73,2437,225,7,32,64,2,7,57,96,2,5657,34)\n",
    "num = 7\n",
    "print(f\"Number of {num} = {number.count(num)}\")\n",
    "print(f\"Index of {num} = {number.index(num)}\")"
   ]
  },
  {
   "cell_type": "markdown",
   "metadata": {},
   "source": [
    "Create a tuple with 5 elements and unpack it into 5 variables. Print the variables.\n"
   ]
  },
  {
   "cell_type": "code",
   "execution_count": 16,
   "metadata": {},
   "outputs": [
    {
     "name": "stdout",
     "output_type": "stream",
     "text": [
      "a == 12\n",
      "b == 23\n",
      "c == 34\n",
      "d == 45\n",
      "e == 56\n"
     ]
    }
   ],
   "source": [
    "pack = (12,23,34,45,56,89)\n",
    "a,b,c,d,e,f = pack\n",
    "print(f\"a == {a}\")\n",
    "print(f\"b == {b}\")\n",
    "print(f\"c == {c}\")\n",
    "print(f\"d == {d}\")\n",
    "print(f\"e == {e}\")"
   ]
  },
  {
   "cell_type": "markdown",
   "metadata": {},
   "source": [
    "Create a tuple containing 3 tuples, each with 3 elements. Print the tuple of tuples.\n"
   ]
  },
  {
   "cell_type": "code",
   "execution_count": 17,
   "metadata": {},
   "outputs": [
    {
     "name": "stdout",
     "output_type": "stream",
     "text": [
      "((1, 2, 3), (12, 23, 34), (99, 11, 55))\n"
     ]
    }
   ],
   "source": [
    "tuple1 = (1,2,3)\n",
    "tuple2 = (12,23,34)\n",
    "tuple3 = (99,11,55)\n",
    "tuples = (tuple1,tuple2,tuple3)\n",
    "print(tuples)"
   ]
  },
  {
   "cell_type": "markdown",
   "metadata": {},
   "source": [
    "Create a tuple with the first 5 positive integers. Convert it to a list, append the number 6, and convert it back to a tuple. Print the resulting tuple."
   ]
  },
  {
   "cell_type": "code",
   "execution_count": 18,
   "metadata": {},
   "outputs": [
    {
     "name": "stdout",
     "output_type": "stream",
     "text": [
      "(1, 2, 3, 4, 5)\n",
      "[1, 2, 3, 4, 5]\n",
      "[1, 2, 3, 4, 5, 6]\n",
      "(1, 2, 3, 4, 5, 6)\n"
     ]
    }
   ],
   "source": [
    "tuple1 = (1,2,3,4,5)\n",
    "print(tuple1)\n",
    "lst = list(tuple1)\n",
    "print(lst)\n",
    "lst.append(6)\n",
    "print(lst)\n",
    "tuple1 = tuple(lst)\n",
    "print(tuple1)"
   ]
  },
  {
   "cell_type": "markdown",
   "metadata": {},
   "source": [
    "Create a tuple with the characters of a string. Join the tuple elements into a single string. Print the string.\n"
   ]
  },
  {
   "cell_type": "code",
   "execution_count": 19,
   "metadata": {},
   "outputs": [
    {
     "name": "stdout",
     "output_type": "stream",
     "text": [
      "('s', 'u', 's', 'h', 'i', 'l')\n",
      "sushil\n"
     ]
    }
   ],
   "source": [
    "char_tuple = ('s','u','s','h','i','l')\n",
    "print(char_tuple)\n",
    "name = ''.join(char_tuple)\n",
    "print(name)"
   ]
  },
  {
   "cell_type": "markdown",
   "metadata": {},
   "source": [
    "Create a nested tuple and iterate over the elements, printing each element.\n"
   ]
  },
  {
   "cell_type": "code",
   "execution_count": 20,
   "metadata": {},
   "outputs": [
    {
     "name": "stdout",
     "output_type": "stream",
     "text": [
      "1\n",
      "2\n",
      "3\n",
      "4\n",
      "5\n",
      "6\n",
      "7\n",
      "8\n",
      "9\n"
     ]
    }
   ],
   "source": [
    "nested_tuple = ((1,2,3),(4,5,6),(7,8,9))\n",
    "for tpl in nested_tuple:\n",
    "    for num in tpl:\n",
    "        print(num)"
   ]
  },
  {
   "cell_type": "markdown",
   "metadata": {},
   "source": [
    "Create a tuple with duplicate elements. Convert it to a set to remove duplicates and print the resulting set.\n"
   ]
  },
  {
   "cell_type": "code",
   "execution_count": 21,
   "metadata": {},
   "outputs": [
    {
     "name": "stdout",
     "output_type": "stream",
     "text": [
      "{32, 1, 2, 3, 4, 2437, 646, 7, 225, 73, 64, 75, 96, 34, 5657, 25, 57}\n"
     ]
    }
   ],
   "source": [
    "number = (1,4,2,646,75,4,25,3,7,73,2437,225,7,32,64,2,7,57,96,2,5657,34)\n",
    "mySet = set(number)\n",
    "print(mySet)"
   ]
  },
  {
   "cell_type": "code",
   "execution_count": 22,
   "metadata": {},
   "outputs": [
    {
     "data": {
      "text/plain": [
       "{'a': 1, 'b': 2}"
      ]
     },
     "execution_count": 22,
     "metadata": {},
     "output_type": "execute_result"
    }
   ],
   "source": [
    "def merge_lists_to_dictionary(keys, values):\n",
    "    # Your code goes here\n",
    "    return dict(zip(keys,values))\n",
    "\n",
    "\n",
    "keys = ['a', 'b', 'c']\n",
    "values = [1, 2]\n",
    "merge_lists_to_dictionary(keys, values)"
   ]
  },
  {
   "cell_type": "markdown",
   "metadata": {},
   "source": [
    "# Set"
   ]
  },
  {
   "cell_type": "markdown",
   "metadata": {},
   "source": [
    "Create a set with the first 10 positive integers. Print the set.\n"
   ]
  },
  {
   "cell_type": "code",
   "execution_count": 23,
   "metadata": {},
   "outputs": [
    {
     "name": "stdout",
     "output_type": "stream",
     "text": [
      "{1, 2, 3, 4, 5, 6, 7, 8, 9, 10}\n"
     ]
    }
   ],
   "source": [
    "positive_set = {num for num in range(1,11)}\n",
    "print(positive_set)"
   ]
  },
  {
   "cell_type": "markdown",
   "metadata": {},
   "source": [
    "Add the number 11 to the set created in Assignment 1. Then remove the number 1 from the set. Print the modified set.\n"
   ]
  },
  {
   "cell_type": "code",
   "execution_count": 24,
   "metadata": {},
   "outputs": [
    {
     "name": "stdout",
     "output_type": "stream",
     "text": [
      "{1, 2, 3, 4, 5, 6, 7, 8, 9, 10, 11}\n",
      "{2, 3, 4, 5, 6, 7, 8, 9, 10, 11}\n"
     ]
    }
   ],
   "source": [
    "positive_set.add(11)\n",
    "print(positive_set)\n",
    "positive_set.remove(1)\n",
    "print(positive_set)\n"
   ]
  },
  {
   "cell_type": "markdown",
   "metadata": {},
   "source": [
    "Create two sets: one with the first 5 positive integers and another with the first 5 even integers. Perform and print the results of union, intersection, difference, and symmetric difference operations on these sets.\n"
   ]
  },
  {
   "cell_type": "code",
   "execution_count": 25,
   "metadata": {},
   "outputs": [
    {
     "name": "stdout",
     "output_type": "stream",
     "text": [
      "set1 == {1, 2, 3, 4, 5}\n",
      "set2 == {2, 4, 6, 8, 10}\n",
      "{1, 2, 3, 4, 5, 6, 8, 10}\n",
      "{2, 4}\n",
      "{1, 3, 5}\n"
     ]
    }
   ],
   "source": [
    "set1 = {num for num in range(1,6)}\n",
    "print(f\"set1 == {set1}\")\n",
    "set2 = {num for num in range(1,11) if num%2==0}\n",
    "print(f\"set2 == {set2}\")\n",
    "\n",
    "union_set = set1.union(set2)\n",
    "print(union_set)\n",
    "\n",
    "intersection_set = set1.intersection(set2)\n",
    "print(intersection_set)\n",
    "\n",
    "diff = set1.difference(set2)\n",
    "print(diff)\n"
   ]
  },
  {
   "cell_type": "markdown",
   "metadata": {},
   "source": [
    "Create a new set containing the squares of the first 10 positive integers using a set comprehension. Print the new set.\n"
   ]
  },
  {
   "cell_type": "code",
   "execution_count": 26,
   "metadata": {},
   "outputs": [
    {
     "name": "stdout",
     "output_type": "stream",
     "text": [
      "{64, 1, 4, 36, 100, 9, 16, 49, 81, 25}\n"
     ]
    }
   ],
   "source": [
    "square_set = {num**2 for num in range(1,11)}\n",
    "print(square_set)"
   ]
  },
  {
   "cell_type": "markdown",
   "metadata": {},
   "source": [
    "Create a new set containing only the even numbers from the set created in Assignment 1 using a set comprehension. Print the new set.\n"
   ]
  },
  {
   "cell_type": "code",
   "execution_count": 27,
   "metadata": {},
   "outputs": [
    {
     "name": "stdout",
     "output_type": "stream",
     "text": [
      "{2, 4, 6, 8, 10}\n"
     ]
    }
   ],
   "source": [
    "even_set = {num for num in positive_set if num%2==0}\n",
    "print(even_set)"
   ]
  },
  {
   "cell_type": "markdown",
   "metadata": {},
   "source": [
    "Create two sets: one with the first 5 positive integers and another with the first 3 positive integers. Check if the second set is a subset of the first set and if the first set is a superset of the second set. Print the results.\n"
   ]
  },
  {
   "cell_type": "code",
   "execution_count": 28,
   "metadata": {},
   "outputs": [
    {
     "name": "stdout",
     "output_type": "stream",
     "text": [
      "True\n",
      "False\n"
     ]
    }
   ],
   "source": [
    "set1 = {1,2,3,4,5}\n",
    "set2 = {1,2,3}\n",
    "isSuperSet = set1.issuperset(set2)\n",
    "print(isSuperSet)\n",
    "isSubSet = set1.issubset(set2)\n",
    "print(isSubSet)"
   ]
  },
  {
   "cell_type": "markdown",
   "metadata": {},
   "source": [
    "Create a frozenset with the first 5 positive integers. Print the frozenset.\n"
   ]
  },
  {
   "cell_type": "code",
   "execution_count": 29,
   "metadata": {},
   "outputs": [
    {
     "name": "stdout",
     "output_type": "stream",
     "text": [
      "frozenset({1, 2, 3, 4, 5})\n"
     ]
    }
   ],
   "source": [
    "frozen_set = frozenset(num for num in range(1,6))\n",
    "print(frozen_set)"
   ]
  },
  {
   "cell_type": "markdown",
   "metadata": {},
   "source": [
    "Create a set and iterate over the elements, printing each element.\n"
   ]
  },
  {
   "cell_type": "code",
   "execution_count": 30,
   "metadata": {},
   "outputs": [
    {
     "name": "stdout",
     "output_type": "stream",
     "text": [
      "34\n",
      "67\n",
      "23\n",
      "56\n",
      "12\n",
      "45\n"
     ]
    }
   ],
   "source": [
    "set1 = {12,23,34,45,56,67}\n",
    "for num in set1:\n",
    "    print(num)"
   ]
  },
  {
   "cell_type": "markdown",
   "metadata": {},
   "source": [
    "Create a set and remove elements from it until it is empty. Print the set after each removal.\n"
   ]
  },
  {
   "cell_type": "code",
   "execution_count": 31,
   "metadata": {},
   "outputs": [
    {
     "name": "stdout",
     "output_type": "stream",
     "text": [
      "{34, 67, 23, 56, 12, 45}\n",
      "{67, 23, 56, 12, 45}\n",
      "{23, 56, 12, 45}\n",
      "{56, 12, 45}\n",
      "{12, 45}\n",
      "{45}\n"
     ]
    }
   ],
   "source": [
    "set1 = {12,23,34,45,56,67}\n",
    "while set1:\n",
    "    print(set1)\n",
    "    set1.pop()"
   ]
  },
  {
   "cell_type": "markdown",
   "metadata": {},
   "source": [
    "# Dict"
   ]
  },
  {
   "cell_type": "markdown",
   "metadata": {},
   "source": [
    "Create a dictionary with the first 10 positive integers as keys and their squares as values. Print the dictionary.\n"
   ]
  },
  {
   "cell_type": "code",
   "execution_count": 32,
   "metadata": {},
   "outputs": [
    {
     "name": "stdout",
     "output_type": "stream",
     "text": [
      "{1: 1, 2: 4, 3: 9, 4: 16, 5: 25, 6: 36, 7: 49, 8: 64, 9: 81, 10: 100}\n"
     ]
    }
   ],
   "source": [
    "positive_dict = {num : num**2 for num in range(1,11)}\n",
    "print(positive_dict)"
   ]
  },
  {
   "cell_type": "markdown",
   "metadata": {},
   "source": [
    "Print the value of the key 5 and the keys of the dictionary created in Assignment 1.\n"
   ]
  },
  {
   "cell_type": "code",
   "execution_count": 33,
   "metadata": {},
   "outputs": [
    {
     "name": "stdout",
     "output_type": "stream",
     "text": [
      "25\n"
     ]
    }
   ],
   "source": [
    "print(positive_dict[5])"
   ]
  },
  {
   "cell_type": "markdown",
   "metadata": {},
   "source": [
    "Add a new key-value pair (11, 121) to the dictionary created in Assignment 1 and then remove the key-value pair with key 1. Print the modified dictionary."
   ]
  },
  {
   "cell_type": "code",
   "execution_count": 34,
   "metadata": {},
   "outputs": [
    {
     "name": "stdout",
     "output_type": "stream",
     "text": [
      "{1: 1, 2: 4, 3: 9, 4: 16, 5: 25, 6: 36, 7: 49, 8: 64, 9: 81, 10: 100, 11: 121}\n",
      "{2: 4, 3: 9, 4: 16, 5: 25, 6: 36, 7: 49, 8: 64, 9: 81, 10: 100, 11: 121}\n"
     ]
    }
   ],
   "source": [
    "positive_dict[11] = 121\n",
    "print(positive_dict)\n",
    "del positive_dict[1]\n",
    "print(positive_dict)"
   ]
  },
  {
   "cell_type": "markdown",
   "metadata": {},
   "source": [
    "Iterate over the dictionary created in Assignment 1 and print each key-value pair.\n"
   ]
  },
  {
   "cell_type": "code",
   "execution_count": 35,
   "metadata": {},
   "outputs": [
    {
     "name": "stdout",
     "output_type": "stream",
     "text": [
      "2 == 4\n",
      "3 == 9\n",
      "4 == 16\n",
      "5 == 25\n",
      "6 == 36\n",
      "7 == 49\n",
      "8 == 64\n",
      "9 == 81\n",
      "10 == 100\n",
      "11 == 121\n"
     ]
    }
   ],
   "source": [
    "for key, value in positive_dict.items():\n",
    "    print(f\"{key} == {value}\")"
   ]
  },
  {
   "cell_type": "markdown",
   "metadata": {},
   "source": [
    "Create a new dictionary containing the cubes of the first 10 positive integers using a dictionary comprehension. Print the new dictionary.\n"
   ]
  },
  {
   "cell_type": "code",
   "execution_count": 36,
   "metadata": {},
   "outputs": [
    {
     "name": "stdout",
     "output_type": "stream",
     "text": [
      "{1: 1, 2: 8, 3: 27, 4: 64, 5: 125, 6: 216, 7: 343, 8: 512, 9: 729, 10: 1000}\n"
     ]
    }
   ],
   "source": [
    "cube_dict = {num : num**3 for num in range(1,11)}\n",
    "print(cube_dict)"
   ]
  },
  {
   "cell_type": "markdown",
   "metadata": {},
   "source": [
    "Create two dictionaries: one with keys as the first 5 positive integers and values as their squares, and another with keys as the next 5 positive integers and values as their squares. Merge these dictionaries into a single dictionary and print it.\n"
   ]
  },
  {
   "cell_type": "code",
   "execution_count": 37,
   "metadata": {},
   "outputs": [
    {
     "name": "stdout",
     "output_type": "stream",
     "text": [
      "{1: 1, 2: 4, 3: 9, 4: 16, 5: 25}\n",
      "{6: 36, 7: 49, 8: 64, 9: 81, 10: 100}\n",
      "{1: 1, 2: 4, 3: 9, 4: 16, 5: 25, 6: 36, 7: 49, 8: 64, 9: 81, 10: 100}\n"
     ]
    }
   ],
   "source": [
    "first_5 = {num : num**2 for num in range(1,6)}\n",
    "print(first_5)\n",
    "next_5 = {num : num**2 for num in range(6,11)}\n",
    "print(next_5)\n",
    "merge_dict = {**first_5,**next_5}\n",
    "print(merge_dict)"
   ]
  },
  {
   "cell_type": "markdown",
   "metadata": {},
   "source": [
    "Create a nested dictionary representing a student with keys 'name', 'age', 'grades', where 'grades' is another dictionary with keys 'math', 'science', and 'english'. Print the nested dictionary.\n"
   ]
  },
  {
   "cell_type": "code",
   "execution_count": 38,
   "metadata": {},
   "outputs": [
    {
     "name": "stdout",
     "output_type": "stream",
     "text": [
      "{'name': 'Rit', 'age': 13, 'grades': {'math': 97, 'science': 95, 'english': 87}}\n"
     ]
    }
   ],
   "source": [
    "student = {\n",
    "    \"name\" : \"Rit\",\n",
    "    \"age\" : 13,\n",
    "    \"grades\": {\n",
    "        \"math\" : 97,\n",
    "        \"science\": 95,\n",
    "        \"english\" :87\n",
    "    }\n",
    "}\n",
    "print(student)"
   ]
  },
  {
   "cell_type": "markdown",
   "metadata": {},
   "source": [
    "Create a dictionary where the keys are the first 5 positive integers and the values are lists containing the first 5 multiples of the key. Print the dictionary.\n"
   ]
  },
  {
   "cell_type": "code",
   "execution_count": 39,
   "metadata": {},
   "outputs": [
    {
     "name": "stdout",
     "output_type": "stream",
     "text": [
      "{1: [1, 2, 3, 4, 5], 2: [2, 4, 6, 8, 10], 3: [3, 6, 9, 12, 15], 4: [4, 8, 12, 16, 20], 5: [5, 10, 15, 20, 25]}\n"
     ]
    }
   ],
   "source": [
    "table = {num:[num*i for i in range(1,6)] for num in range(1,6)}\n",
    "print(table)"
   ]
  },
  {
   "cell_type": "markdown",
   "metadata": {},
   "source": [
    "Create a dictionary where the keys are the first 5 positive integers and the values are tuples containing the key and its square. Print the dictionary.\n"
   ]
  },
  {
   "cell_type": "code",
   "execution_count": 40,
   "metadata": {},
   "outputs": [
    {
     "name": "stdout",
     "output_type": "stream",
     "text": [
      "{1: (1, 1), 2: (2, 4), 3: (3, 9), 4: (4, 16), 5: (5, 25)}\n"
     ]
    }
   ],
   "source": [
    "square_pair = {num:(num, num**2)  for num in range(1,6)}\n",
    "print(square_pair)"
   ]
  },
  {
   "cell_type": "markdown",
   "metadata": {},
   "source": [
    "Create a dictionary with the first 5 positive integers as keys and their squares as values. Convert the dictionary to a list of tuples and print it."
   ]
  },
  {
   "cell_type": "code",
   "execution_count": 41,
   "metadata": {},
   "outputs": [
    {
     "name": "stdout",
     "output_type": "stream",
     "text": [
      "[(1, 1), (2, 4), (3, 9), (4, 16), (5, 25)]\n"
     ]
    }
   ],
   "source": [
    "square_dict = {num:num**2  for num in range(1,6)}\n",
    "list_of_tuple = list(square_dict.items())\n",
    "print(list_of_tuple)"
   ]
  },
  {
   "cell_type": "markdown",
   "metadata": {},
   "source": [
    "Create a dictionary with the first 10 positive integers as keys and their squares as values. Create a new dictionary containing only the key-value pairs where the key is even. Print the new dictionary.\n"
   ]
  },
  {
   "cell_type": "code",
   "execution_count": 42,
   "metadata": {},
   "outputs": [
    {
     "name": "stdout",
     "output_type": "stream",
     "text": [
      "{2: 4, 4: 16, 6: 36, 8: 64, 10: 100}\n"
     ]
    }
   ],
   "source": [
    "square_dict = {num:num**2  for num in range(1,11)}\n",
    "even_keys = {key:value for key,value in square_dict.items() if key%2==0}\n",
    "print(even_keys)"
   ]
  },
  {
   "cell_type": "markdown",
   "metadata": {},
   "source": [
    "Create a default dictionary where each key has a default value of an empty list. Add some elements to the lists and print the dictionary.\n"
   ]
  },
  {
   "cell_type": "markdown",
   "metadata": {},
   "source": [
    "Write a function that takes a string and returns a dictionary with the count of each character in the string. Print the dictionary.\n"
   ]
  },
  {
   "cell_type": "code",
   "execution_count": 43,
   "metadata": {},
   "outputs": [
    {
     "data": {
      "text/plain": [
       "{'Python': 6, 'is': 2, 'Awesome': 7}"
      ]
     },
     "execution_count": 43,
     "metadata": {},
     "output_type": "execute_result"
    }
   ],
   "source": [
    "def charCount(text:str):\n",
    "    split_text = text.split()\n",
    "    char_count_dict = {word:len(word) for word in split_text}\n",
    "    return char_count_dict\n",
    "text = \"Python is Awesome\"\n",
    "charCount(text)"
   ]
  },
  {
   "cell_type": "markdown",
   "metadata": {},
   "source": [
    "Create a dictionary representing a book with keys 'title', 'author', 'year', and 'genre'. Convert the dictionary to a JSON string and print it."
   ]
  },
  {
   "cell_type": "code",
   "execution_count": 44,
   "metadata": {},
   "outputs": [
    {
     "name": "stdout",
     "output_type": "stream",
     "text": [
      "{\"title\": \"1984\", \"author\": \"George Orwell\", \"year\": 1949, \"genre\": \"Dystopian\"}\n"
     ]
    }
   ],
   "source": [
    "import json\n",
    "book = {\n",
    "    \"title\": \"1984\",\n",
    "    \"author\": \"George Orwell\",\n",
    "    \"year\": 1949,\n",
    "    \"genre\": \"Dystopian\"\n",
    "}\n",
    "book_json = json.dumps(book)\n",
    "print(book_json)"
   ]
  }
 ],
 "metadata": {
  "kernelspec": {
   "display_name": "tutorial_env",
   "language": "python",
   "name": "python3"
  },
  "language_info": {
   "codemirror_mode": {
    "name": "ipython",
    "version": 3
   },
   "file_extension": ".py",
   "mimetype": "text/x-python",
   "name": "python",
   "nbconvert_exporter": "python",
   "pygments_lexer": "ipython3",
   "version": "3.12.9"
  }
 },
 "nbformat": 4,
 "nbformat_minor": 2
}
