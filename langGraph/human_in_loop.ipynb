{
 "cells": [
  {
   "cell_type": "markdown",
   "id": "e8caa66d",
   "metadata": {},
   "source": [
    "### Human in loop"
   ]
  },
  {
   "cell_type": "code",
   "execution_count": 1,
   "id": "699c6e60",
   "metadata": {},
   "outputs": [],
   "source": [
    "from typing import Annotated\n",
    "import operator,json\n",
    "from typing import TypedDict, Annotated, Sequence\n",
    "from typing_extensions import TypedDict\n",
    "from langchain_core.messages import BaseMessage\n",
    "from langgraph.checkpoint.memory import MemorySaver\n",
    "from langgraph.graph import StateGraph,END,START\n",
    "from langgraph.graph.message import add_messages\n",
    "from langgraph.prebuilt import ToolNode, tools_condition\n",
    "from langchain_core.tools import tool\n",
    "from langchain_community.tools.tavily_search import TavilySearchResults\n",
    "from langchain_groq import ChatGroq"
   ]
  },
  {
   "cell_type": "code",
   "execution_count": 2,
   "id": "0da3d054",
   "metadata": {},
   "outputs": [],
   "source": [
    "llm = ChatGroq(model=\"Gemma2-9b-it\")"
   ]
  },
  {
   "cell_type": "code",
   "execution_count": 3,
   "id": "30541aed",
   "metadata": {},
   "outputs": [],
   "source": [
    "\n",
    "@tool\n",
    "def multiply(first_number:int, second_number:int)->int:\n",
    "    \"\"\"multiply two integer number\"\"\"\n",
    "    return first_number * second_number"
   ]
  },
  {
   "cell_type": "code",
   "execution_count": 4,
   "id": "9543c05e",
   "metadata": {},
   "outputs": [
    {
     "data": {
      "text/plain": [
       "8"
      ]
     },
     "execution_count": 4,
     "metadata": {},
     "output_type": "execute_result"
    }
   ],
   "source": [
    "multiply.invoke({\"first_number\":4,\"second_number\":2})"
   ]
  },
  {
   "cell_type": "code",
   "execution_count": 5,
   "id": "5dfd844b",
   "metadata": {},
   "outputs": [],
   "source": [
    "@tool\n",
    "def search(query:str):\n",
    "    \"\"\"perform the web search on the user query\"\"\"\n",
    "    tavily=TavilySearchResults()\n",
    "    result=tavily.invoke(query)\n",
    "    return result"
   ]
  },
  {
   "cell_type": "code",
   "execution_count": 6,
   "id": "ac045503",
   "metadata": {},
   "outputs": [
    {
     "name": "stderr",
     "output_type": "stream",
     "text": [
      "C:\\Users\\kmrsu\\AppData\\Local\\Temp\\ipykernel_20488\\4117398075.py:1: LangChainDeprecationWarning: The method `BaseTool.__call__` was deprecated in langchain-core 0.1.47 and will be removed in 1.0. Use :meth:`~invoke` instead.\n",
      "  search(\"first prime minister of india\")\n"
     ]
    },
    {
     "data": {
      "text/plain": [
       "[{'title': 'List of prime ministers of India - Wikipedia',\n",
       "  'url': 'https://en.wikipedia.org/wiki/List_of_prime_ministers_of_India',\n",
       "  'content': \"Since 1947, India has had 14 prime ministers.[a] Jawaharlal Nehru was India's first prime minister, serving as prime minister of the Dominion of India from 15 August 1947 until 26 January 1950, and thereafter of the Republic of India until his death in May 1964. (India conducted its first post-independence general elections in 1952). Earlier, Nehru had served as prime minister of the Interim Government of India during the British Raj from 2 September 1946 until 14 August 1947, his party, the [...] Top left: Jawaharlal Nehru was the first and the longest-serving prime minister in Indian history.\\nTop center: Indira Gandhi was the first and only woman to serve as prime minister.\\nTop right: Charan Singh was the first and only prime minister in Indian history who never faced parliament.\\nBottom left: Atal Bihari Vajpayee was the first non-Congress prime minister to complete a full 5 year term.\\nBottom center: Manmohan Singh was the first prime minister from a minority religion. [...] time, second only to do so after the first Prime Minister Jawaharlal Nehru.[22][23]\",\n",
       "  'score': 0.8976328},\n",
       " {'title': 'Prime Minister of India - Wikipedia',\n",
       "  'url': 'https://en.wikipedia.org/wiki/Prime_Minister_of_India',\n",
       "  'content': \"Since 1947, there have been 14 different prime ministers.[b] The first few decades after 1947 saw the Indian National Congress' (INC) near complete domination over the political map of India. India's first prime minister—Jawaharlal Nehru—took oath on 15 August 1947. Nehru went on to serve as prime minister for 17 consecutive years, winning four general elections in the process. His tenure ended in May 1964, on his death.[15][16] After the death of Nehru, Lal Bahadur Shastri—a former home [...] The longest-serving prime minister was Jawaharlal Nehru, also the first prime minister, whose tenure lasted 16 years and 286 days. His premiership was followed by Lal Bahadur Shastri's short tenure and Indira Gandhi's 11- and 4-year-long tenures, both politicians belonging to the Indian National Congress. After Indira Gandhi's assassination, her son Rajiv Gandhi took charge until 1989, when a decade with five unstable governments began. This was followed by the full terms of P. V. Narasimha [...] After widespread protests, the emergency was lifted in 1977, and a general election was held. All of the political parties of the opposition—after the conclusion of the emergency—fought together against the Congress, under the umbrella of the Janata Party, in the general election of 1977, and were successful in defeating the Congress. Subsequently, Morarji Desai—a former deputy prime minister—became the first non-Congress prime minister of India. Desai's government was composed of groups with\",\n",
       "  'score': 0.87681407},\n",
       " {'title': 'List of all Prime Ministers of India (1947-2025) - Jagran Josh',\n",
       "  'url': 'https://www.jagranjosh.com/general-knowledge/list-of-all-prime-ministers-of-india-1473165149-1',\n",
       "  'content': \"Jawaharlal Nehru is recognised as the architect of modern India. He was the first Prime Minister of India and holds the record for the longest tenure, with 16 years and 286 days in office.\\nIndira Gandhi was the first and only woman to hold the position, serving for a total of 15 years and 350 days across two terms.\\nRajiv Gandhi became the youngest Prime Minister at age 40, taking office on October 31, 1984. [...] Morarji Desai was the first Prime Minister not from the Indian National Congress, serving from March 24, 1977, to July 28, 1979.\\nAtal Bihari Vajpayee had the shortest tenure of any Prime Minister, with just 16 days in office during his first term in 1996.\\nManmohan Singh served as India's first Sikh Prime Minister from May 22, 2004, to May 26, 2014.\\nP. V. Narasimha Rao was the first Prime Minister from South India, serving from June 21, 1991, to May 16, 1996. [...] List of all Prime Ministers of Iindia\\nList of all Prime Ministers of India:\\xa0Did you know that Jawaharlal Nehru, India’s first Prime Minister, served for 17 years, the longest by any PM? The Prime Minister of India is the head of the government and plays a key role in running the country.\\nThey are in charge of forming the cabinet, making important decisions, and representing India in the world. The Prime Minister leads the country’s policies and ensures that the government works smoothly.\",\n",
       "  'score': 0.86928266},\n",
       " {'title': 'Jawaharlal Nehru, the first Prime Minister of India, on January 30 ...',\n",
       "  'url': 'https://www.facebook.com/HistoryOfCongress/videos/jawaharlal-nehru-the-first-prime-minister-of-india-on-january-30-1948-following-/916437620296057/',\n",
       "  'content': 'Jawaharlal Nehru, the first Prime Minister of India, on January 30, 1948, following the assassination of Mahatma Gandhi.',\n",
       "  'score': 0.8482825},\n",
       " {'title': 'List of Prime Ministers of India | Britannica',\n",
       "  'url': 'https://www.britannica.com/topic/list-of-prime-ministers-of-India-1832692',\n",
       "  'content': 'TrumanThe first Indian prime minister, Jawaharlal Nehru (second from right), being greeted by U.S. Pres. Harry S. Truman at the start of',\n",
       "  'score': 0.84246206}]"
      ]
     },
     "execution_count": 6,
     "metadata": {},
     "output_type": "execute_result"
    }
   ],
   "source": [
    "search(\"first prime minister of india\")"
   ]
  },
  {
   "cell_type": "code",
   "execution_count": 7,
   "id": "9941e101",
   "metadata": {},
   "outputs": [],
   "source": [
    "tools=[search,multiply]\n",
    "\n",
    "llm_with_tools = llm.bind_tools(tools)\n"
   ]
  },
  {
   "cell_type": "code",
   "execution_count": 8,
   "id": "df0a8ae2",
   "metadata": {},
   "outputs": [],
   "source": [
    "tool_mapping = {tool.name:tool for tool in tools}"
   ]
  },
  {
   "cell_type": "code",
   "execution_count": 9,
   "id": "22603b40",
   "metadata": {},
   "outputs": [
    {
     "data": {
      "text/plain": [
       "{'search': StructuredTool(name='search', description='perform the web search on the user query', args_schema=<class 'langchain_core.utils.pydantic.search'>, func=<function search at 0x00000182BD6DE660>),\n",
       " 'multiply': StructuredTool(name='multiply', description='multiply two integer number', args_schema=<class 'langchain_core.utils.pydantic.multiply'>, func=<function multiply at 0x00000182BD6DDBC0>)}"
      ]
     },
     "execution_count": 9,
     "metadata": {},
     "output_type": "execute_result"
    }
   ],
   "source": [
    "tool_mapping"
   ]
  },
  {
   "cell_type": "code",
   "execution_count": 10,
   "id": "088ae3c5",
   "metadata": {},
   "outputs": [],
   "source": [
    "class AgentState(TypedDict):\n",
    "    messages: Annotated[Sequence[BaseMessage], operator.add]"
   ]
  },
  {
   "cell_type": "code",
   "execution_count": 11,
   "id": "f8157f36",
   "metadata": {},
   "outputs": [],
   "source": [
    "def agent(state:AgentState):\n",
    "    question = state['messages']\n",
    "    message = question[-1]\n",
    "    response = llm_with_tools.invoke(message)\n",
    "    return {\"messages\":[response]}"
   ]
  },
  {
   "cell_type": "code",
   "execution_count": 12,
   "id": "a38b5895",
   "metadata": {},
   "outputs": [],
   "source": [
    "def custom_tool(state:AgentState):\n",
    "    tool_details= state['messages'][-1].additional_kwargs.get(\"tool_calls\", [])[0]\n",
    "    \n",
    "    if tool_details is None:\n",
    "        raise Exception(\"no tool call found\")\n",
    "    \n",
    "    print(f'Selected tool: {tool_details.get(\"function\").get(\"name\")}')\n",
    "    \n",
    "    if tool_details.get(\"function\").get(\"name\")==\"search\":\n",
    "        response = input(prompt=f\"[y/n] continue with expensive web search?\")\n",
    "        if response == \"n\":\n",
    "            raise Exception(\"web search discard\")\n",
    "        \n",
    "    response = tool_mapping[tool_details['function']['name']].invoke(json.loads(tool_details.get(\"function\").get(\"arguments\")))\n",
    "    return {\"messages\" : [response]}"
   ]
  },
  {
   "cell_type": "code",
   "execution_count": 13,
   "id": "ead14023",
   "metadata": {},
   "outputs": [],
   "source": [
    "def router(state):\n",
    "    messsage = state[\"messages\"]\n",
    "    if messsage[-1].tool_calls:\n",
    "        return \"tool\"\n",
    "    else:\n",
    "        return \"end\""
   ]
  },
  {
   "cell_type": "code",
   "execution_count": 14,
   "id": "a33311df",
   "metadata": {},
   "outputs": [],
   "source": [
    "graph_builder = StateGraph(AgentState)\n",
    "\n",
    "graph_builder.add_node(\"agent\",agent)\n",
    "graph_builder.add_node(\"tool\",custom_tool)\n",
    "\n",
    "graph_builder.add_edge(START,\"agent\")\n",
    "graph_builder.add_conditional_edges(\n",
    "    \"agent\",\n",
    "    router,\n",
    "    {\n",
    "        \"tool\":\"tool\",\n",
    "        \"end\":END\n",
    "    }\n",
    ")\n",
    "graph_builder.add_edge(\"tool\",END)\n",
    "\n",
    "graph = graph_builder.compile()\n"
   ]
  },
  {
   "cell_type": "code",
   "execution_count": 15,
   "id": "3de21e55",
   "metadata": {},
   "outputs": [
    {
     "data": {
      "image/png": "[encoded data removed]",
      "text/plain": [
       "<langgraph.graph.state.CompiledStateGraph object at 0x00000182BD6E6DB0>"
      ]
     },
     "execution_count": 15,
     "metadata": {},
     "output_type": "execute_result"
    }
   ],
   "source": [
    "graph"
   ]
  },
  {
   "cell_type": "code",
   "execution_count": 16,
   "id": "af7f5a37",
   "metadata": {},
   "outputs": [
    {
     "name": "stdout",
     "output_type": "stream",
     "text": [
      "{'messages': [AIMessage(content='', additional_kwargs={'tool_calls': [{'id': 'call_pyp3', 'function': {'arguments': '{\"query\":\"upcoming president of USA\"}', 'name': 'search'}, 'type': 'function'}]}, response_metadata={'token_usage': {'completion_tokens': 83, 'prompt_tokens': 1075, 'total_tokens': 1158, 'completion_time': 0.150909091, 'prompt_time': 0.03771406, 'queue_time': 0.23571766900000002, 'total_time': 0.188623151}, 'model_name': 'Gemma2-9b-it', 'system_fingerprint': 'fp_10c08bf97d', 'finish_reason': 'tool_calls', 'logprobs': None}, id='run-9f80b316-d321-40f7-ad96-909c9f619881-0', tool_calls=[{'name': 'search', 'args': {'query': 'upcoming president of USA'}, 'id': 'call_pyp3', 'type': 'tool_call'}], usage_metadata={'input_tokens': 1075, 'output_tokens': 83, 'total_tokens': 1158})]}\n",
      "----\n",
      "Selected tool: search\n",
      "{'messages': [[{'title': '2024 United States presidential election - Wikipedia', 'url': 'https://en.wikipedia.org/wiki/2024_United_States_presidential_election', 'content': \"|\\nA presidential election was held in the United States on November 5, 2024. The Republican Party's ticket—Donald Trump, who was the 45th president of the United States from 2017 to 2021, and JD Vance, the junior U.S. senator from Ohio—defeated the Democratic Party's ticket—Kamala Harris, the incumbent U.S. vice president, and Tim Walz, the 41st governor of Minnesota. [...] 2024 United States presidential election←\\xa02020November 5, 20242028\\xa0→538 members of the Electoral College270 electoral votes needed to winOpinion\\xa0pollsTurnout64.1% ( 2.5 pp)[1]\\xa0NomineeDonald TrumpKamala HarrisPartyRepublicanDemocraticHome\\xa0stateFloridaCaliforniaRunning\\xa0mateJD VanceTim WalzElectoral\\xa0vote312226States\\xa0carried31 + ME-0219 + DC + NE-02Popular\\xa0vote77,302,580[2]75,017,613[2]Percentage49.8%[2]48.3%[2]Presidential election results map. Red denotes U.S. states won by Trump/Vance and blue [...] Candidates in this section are sorted by date of withdrawal from the primariesNikki HaleyRon DeSantisAsa HutchinsonVivek RamaswamyChris ChristieDoug BurgumAmbassador to the United Nations(2017–2018)46thGovernor of Florida(2019-present)46thGovernor of Arkansas(2015-2023)CEO of Roivant Sciences(2014-2023)55thGovernor of New Jersey(2010-2018)33rdGovernor of North Dakota(2016-2024)CampaignCampaignCampaignCampaignCampaignCampaignW: March 64,381,799 votesW: Jan 23353,615 votesW: Jan 1622,044 votesW:\", 'score': 0.7548612}, {'title': 'United States presidential election of 2024 - Britannica', 'url': 'https://www.britannica.com/event/United-States-presidential-election-of-2024', 'content': 'United States presidential election of 2024,  American election, held on November 5, 2024, in which former Republican president Donald Trump (2017–21) defeated the Democratic nominee, Vice Pres. Kamala Harris. Trump, who lost his bid for reelection in 2020 to Democrat Joe Biden, is the first U.S. president to be elected to two nonconsecutive terms since Grover Cleveland, the 22nd and 24th president of the United States (1885–89 and 1893–97). Having been convicted of a felony crime in May 2024, [...] Shortly before Biden formally declared his candidacy, two challengers announced their own bids for the Democratic nomination: Marianne Williamson, a social activist and self-help author who had been a fringe candidate for the Democratic nomination in 2020, and Robert F. Kennedy, Jr., an environmental activist and lawyer and the son of Robert F. Kennedy, the U.S. attorney general and U.S. senator from Massachusetts who was assassinated during his campaign for the Democratic nomination in 1968.', 'score': 0.7311551}, {'title': 'When will Donald Trump take office as US president? - BBC', 'url': 'https://www.bbc.com/news/articles/cde7ng85jwgo', 'content': \"Home\\nNews\\nSport\\nBusiness\\nInnovation\\nCulture\\nArts\\nTravel\\nEarth\\nVideo\\nLive\\nAudio\\nWeather\\nNewsletters\\nWhen will Donald Trump take office as US president?\\n7 January 2025\\nJennifer Clarke\\nBBC News\\nReuters\\nRepublican Donald Trump will be the next US president, after he defeated Democrat Kamala Harris in November's election.\\nTrump previously served as US president between 2017 and 2021.\\nIs Donald Trump president yet?\", 'score': 0.59344494}, {'title': 'Presidential candidates, 2024 - Ballotpedia', 'url': 'https://ballotpedia.org/Presidential_candidates,_2024', 'content': 'Former President Donald Trump (R) won the November 5, 2024, presidential election. Twenty-four candidates appeared on presidential election ballots across the country. Of those candidates, four qualified to appear on enough ballots — totaling at least 270 electoral votes — to win a majority of the Electoral College. Those noteworthy presidential candidates were Kamala Harris (D), Donald Trump (R), Jill Stein (G), and Chase Oliver (L). [...] Harris won a majority of delegates at a Democratic virtual roll call vote held from August 1 to August 5, 2024, and Trump won a majority of delegates at the 2024 Republican National Convention on July 15, 2024.[1][2][3]\\n\\nIn addition to noteworthy candidates, this page also provides the names of all candidates who filed with the Federal Election Commission and the names of politicians and public figures discussed as potential presidential contenders in 2024 by national media outlets.', 'score': 0.5920305}, {'title': '2024 United States elections - Wikipedia', 'url': 'https://en.wikipedia.org/wiki/2024_United_States_elections', 'content': 'Elections were held in the United States on November 5, 2024. In the presidential election, former Republican President Donald Trump, seeking a', 'score': 0.55623144}]]}\n",
      "----\n"
     ]
    }
   ],
   "source": [
    "for s in graph.stream({\"messages\": [\"who is upcoming president of USA?\"]}):\n",
    "    print(list(s.values())[0])\n",
    "    print(\"----\")"
   ]
  },
  {
   "cell_type": "markdown",
   "id": "d1b57c02",
   "metadata": {},
   "source": [
    "### Human in loop interupt method"
   ]
  },
  {
   "cell_type": "code",
   "execution_count": 17,
   "id": "fd52a03e",
   "metadata": {},
   "outputs": [],
   "source": [
    "llm = ChatGroq(model=\"Gemma2-9b-it\")"
   ]
  },
  {
   "cell_type": "code",
   "execution_count": 18,
   "id": "eda1f7b2",
   "metadata": {},
   "outputs": [],
   "source": [
    "tavily=TavilySearchResults()\n",
    "tools = [tavily]\n",
    "llm_with_tools = llm.bind_tools(tools)"
   ]
  },
  {
   "cell_type": "code",
   "execution_count": 19,
   "id": "285ed69e",
   "metadata": {},
   "outputs": [],
   "source": [
    "from langgraph.graph import MessagesState\n",
    "def chatbot(state:MessagesState):\n",
    "    meassage = state[\"messages\"]\n",
    "    response = llm_with_tools.invoke(meassage)\n",
    "    return {\"messages\":[response]}"
   ]
  },
  {
   "cell_type": "code",
   "execution_count": 30,
   "id": "0583c8a7",
   "metadata": {},
   "outputs": [],
   "source": [
    "from langgraph.checkpoint.memory import MemorySaver\n",
    "workflow = StateGraph(MessagesState)\n",
    "\n",
    "workflow.add_node(\"agent\",chatbot)\n",
    "workflow.add_node(\"tools\",ToolNode(tools))\n",
    "\n",
    "workflow.add_edge(START,\"agent\")\n",
    "workflow.add_conditional_edges(\"agent\",tools_condition)\n",
    "workflow.add_edge(\"tools\",\"agent\")\n",
    "\n",
    "\n",
    "memory = MemorySaver()\n",
    "app = workflow.compile(\n",
    "    checkpointer=memory,\n",
    "    interrupt_before=[\"tools\"]\n",
    "    )"
   ]
  },
  {
   "cell_type": "code",
   "execution_count": 31,
   "id": "6c9c4868",
   "metadata": {},
   "outputs": [
    {
     "data": {
      "image/png": "[encoded data removed]",
      "text/plain": [
       "<langgraph.graph.state.CompiledStateGraph object at 0x00000182C9E071D0>"
      ]
     },
     "execution_count": 31,
     "metadata": {},
     "output_type": "execute_result"
    }
   ],
   "source": [
    "app"
   ]
  },
  {
   "cell_type": "code",
   "execution_count": 47,
   "id": "4d35ac11",
   "metadata": {},
   "outputs": [],
   "source": [
    "\n",
    "user_input = \"who is the CEO of Google\"\n",
    "config = {\"configurable\": {\"thread_id\": \"1\"}}\n",
    "\n",
    "events = app.stream({\"messages\": [(\"user\", user_input)]}, config, stream_mode=\"values\")"
   ]
  },
  {
   "cell_type": "code",
   "execution_count": 48,
   "id": "9615c459",
   "metadata": {},
   "outputs": [
    {
     "name": "stdout",
     "output_type": "stream",
     "text": [
      "================================\u001b[1m Human Message \u001b[0m=================================\n",
      "\n",
      "who is the CEO of Google\n",
      "==================================\u001b[1m Ai Message \u001b[0m==================================\n",
      "Tool Calls:\n",
      "  tavily_search_results_json (call_jw1v)\n",
      " Call ID: call_jw1v\n",
      "  Args:\n",
      "    query: Who is the CEO of Google?\n"
     ]
    }
   ],
   "source": [
    "for event in events:\n",
    "    if \"messages\" in event:\n",
    "        event[\"messages\"][-1].pretty_print()"
   ]
  },
  {
   "cell_type": "code",
   "execution_count": 49,
   "id": "717960da",
   "metadata": {},
   "outputs": [],
   "source": [
    "events = app.stream(None, config, stream_mode=\"values\")"
   ]
  },
  {
   "cell_type": "code",
   "execution_count": 50,
   "id": "244a6132",
   "metadata": {},
   "outputs": [
    {
     "name": "stdout",
     "output_type": "stream",
     "text": [
      "==================================\u001b[1m Ai Message \u001b[0m==================================\n",
      "Tool Calls:\n",
      "  tavily_search_results_json (call_jw1v)\n",
      " Call ID: call_jw1v\n",
      "  Args:\n",
      "    query: Who is the CEO of Google?\n",
      "=================================\u001b[1m Tool Message \u001b[0m=================================\n",
      "Name: tavily_search_results_json\n",
      "\n",
      "[{\"title\": \"Sundar Pichai - Wikipedia\", \"url\": \"https://en.wikipedia.org/wiki/Sundar_Pichai\", \"content\": \"Title   CEO of Alphabet and Google\\nBoard member of \\nAlphabet Inc.[1]\\nMagic Leap (2014–2018)[2]\\nSpouse  Anjali Pichai\\nChildren    2\\nAwards  Padma Bhushan (2022)\\nSundar Pichai's voice\\nPichai on being chief executive officer of Google\\nRecorded December 11, 2018\\nSignature\\nPichai Sundararajan (born June 10, 1972), better known as Sundar Pichai,[a] is an American business executive.[3][4] He is the chief executive officer of Alphabet Inc. and its subsidiary Google.[5] [...] Pichai was selected to become the next CEO of Google on August 10, 2015, after previously being appointed chief product officer by then CEO Larry Page. On October 24, 2015, he stepped into the new position at the completion of the formation of Alphabet Inc., the new holding company for the Google company family. He was appointed to the Alphabet Board of Directors in 2017.[7]\\nEarly life and education [...] ^ Helft, Miguel. \\\"Google CEO Sundar Pichai Appointed To Alphabet Board Of Directors\\\". Forbes. Archived from the original on April 16, 2021. Retrieved April 16, 2021.\\n^ a b \\\"Happy Birthday Sundar Pichai: Here are 5 videos of Google's CEO that reveal his other side\\\". The New Indian Express. June 10, 2020. Archived from the original on April 16, 2021. Retrieved April 16, 2021.\", \"score\": 0.8995547}, {\"title\": \"Sundar Pichai | Biography, Google, & Facts | Britannica Money\", \"url\": \"https://www.britannica.com/money/Sundar-Pichai\", \"content\": \"Sundar Pichai (born June 10, 1972, Madras [now Chennai], Tamil Nadu, India) is an Indian-born American executive who was CEO of both Google, Inc. (2015– ), and its holding company, Alphabet Inc. (2019– ). [...] insiders that Pichai was named CEO of Google, which was reorganized as a subsidiary. In December 2019 he also was named CEO of Alphabet, replacing Page, who stepped down. [...] to study at Stanford University (M.S. in engineering and materials science, 1995). He remained in the United States thereafter, working briefly for Applied Materials (a supplier of semiconductor materials) and then earning an M.B.A. (2002) from the Wharton School of the University of Pennsylvania.\", \"score\": 0.885404}, {\"title\": \"Google - Wikipedia\", \"url\": \"https://en.wikipedia.org/wiki/Google\", \"content\": \"holding company for Alphabet's internet properties and interests. Sundar Pichai was appointed CEO of Google on October 24, 2015, replacing Larry Page, who became the CEO of Alphabet. On December 3, 2019, Pichai also became the CEO of Alphabet.[14] [...] On August 10, 2015, Google announced plans to reorganize its various interests as a conglomerate named Alphabet Inc. Google became Alphabet's largest subsidiary and the umbrella company for Alphabet's Internet interests. Upon completion of the restructuring, Sundar Pichai became CEO of Google, replacing Larry Page, who became CEO of Alphabet.[100][101][102] [...] Additionally, in 2001 Google's investors felt the need to have a strong internal management, and they agreed to hire Eric Schmidt as the chairman and CEO of Google.[50] Eric was proposed by John Doerr from Kleiner Perkins. He had been trying to find a CEO that Sergey and Larry would accept for several months, but they rejected several candidates because they wanted to retain control over the company. Michael Moritz from Sequoia Capital at one point even menaced requesting Google to immediately\", \"score\": 0.88420963}, {\"title\": \"Sundar Pichai | Google Blog\", \"url\": \"https://blog.google/authors/sundar-pichai/\", \"content\": \"Sundar is the CEO of Google and Alphabet and serves on Alphabet's Board of Directors. Under his leadership, Google has been focused on developing products\", \"score\": 0.8351749}, {\"title\": \"Sundar Pichai - Business Roundtable\", \"url\": \"https://www.businessroundtable.org/members/sundar-pichai\", \"content\": \"Sundar is the CEO of Google and Alphabet and serves on Alphabet's Board of Directors. He joined Google in 2004 and helped lead the development of Google\", \"score\": 0.8215175}]\n",
      "==================================\u001b[1m Ai Message \u001b[0m==================================\n",
      "\n",
      "Sundar Pichai\n"
     ]
    }
   ],
   "source": [
    "for event in events:\n",
    "    if \"messages\" in event:\n",
    "        event[\"messages\"][-1].pretty_print()"
   ]
  }
 ],
 "metadata": {
  "kernelspec": {
   "display_name": "tutorial_env",
   "language": "python",
   "name": "python3"
  },
  "language_info": {
   "codemirror_mode": {
    "name": "ipython",
    "version": 3
   },
   "file_extension": ".py",
   "mimetype": "text/x-python",
   "name": "python",
   "nbconvert_exporter": "python",
   "pygments_lexer": "ipython3",
   "version": "3.12.9"
  }
 },
 "nbformat": 4,
 "nbformat_minor": 5
}
