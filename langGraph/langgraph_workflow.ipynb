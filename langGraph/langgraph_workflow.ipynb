{
 "cells": [
  {
   "cell_type": "markdown",
   "id": "4ae5fd5f",
   "metadata": {},
   "source": [
    "# Simple Workflow"
   ]
  },
  {
   "cell_type": "code",
   "execution_count": 1,
   "id": "a5188f2a",
   "metadata": {},
   "outputs": [],
   "source": [
    "def fun1(input1):\n",
    "    return input1 + \"from fun1\"\n",
    "\n",
    "def fun2(input2):\n",
    "    return input2 + \" from fun2\""
   ]
  },
  {
   "cell_type": "code",
   "execution_count": 2,
   "id": "ac78f661",
   "metadata": {},
   "outputs": [],
   "source": [
    "from langgraph.graph import Graph"
   ]
  },
  {
   "cell_type": "code",
   "execution_count": 3,
   "id": "8ba9a80e",
   "metadata": {},
   "outputs": [],
   "source": [
    "workflow1 = Graph()"
   ]
  },
  {
   "cell_type": "code",
   "execution_count": 4,
   "id": "3fc34d82",
   "metadata": {},
   "outputs": [
    {
     "data": {
      "text/plain": [
       "<langgraph.graph.graph.Graph at 0x1cda762e3c0>"
      ]
     },
     "execution_count": 4,
     "metadata": {},
     "output_type": "execute_result"
    }
   ],
   "source": [
    "workflow1.add_node(\"fun1\", fun1)\n",
    "workflow1.add_node(\"fun2\", fun2)\n",
    "\n",
    "workflow1.add_edge(\"fun1\", \"fun2\")"
   ]
  },
  {
   "cell_type": "code",
   "execution_count": 5,
   "id": "2e20d804",
   "metadata": {},
   "outputs": [
    {
     "data": {
      "text/plain": [
       "<langgraph.graph.graph.Graph at 0x1cda762e3c0>"
      ]
     },
     "execution_count": 5,
     "metadata": {},
     "output_type": "execute_result"
    }
   ],
   "source": [
    "workflow1.set_entry_point(\"fun1\")"
   ]
  },
  {
   "cell_type": "code",
   "execution_count": 6,
   "id": "de7afe3e",
   "metadata": {},
   "outputs": [
    {
     "data": {
      "text/plain": [
       "<langgraph.graph.graph.Graph at 0x1cda762e3c0>"
      ]
     },
     "execution_count": 6,
     "metadata": {},
     "output_type": "execute_result"
    }
   ],
   "source": [
    "workflow1.set_finish_point(\"fun2\")"
   ]
  },
  {
   "cell_type": "code",
   "execution_count": 7,
   "id": "0d494ef5",
   "metadata": {},
   "outputs": [],
   "source": [
    "app1 = workflow1.compile()"
   ]
  },
  {
   "cell_type": "code",
   "execution_count": 8,
   "id": "b56caaa8",
   "metadata": {},
   "outputs": [
    {
     "data": {
      "image/png": "[encoded data removed]",
      "text/plain": [
       "<langgraph.graph.graph.CompiledGraph object at 0x000001CDA9466630>"
      ]
     },
     "execution_count": 8,
     "metadata": {},
     "output_type": "execute_result"
    }
   ],
   "source": [
    "app1"
   ]
  },
  {
   "cell_type": "code",
   "execution_count": 9,
   "metadata": {},
   "outputs": [
    {
     "data": {
      "text/plain": [
       "'Hello World, Welcome from fun1 from fun2'"
      ]
     },
     "execution_count": 9,
     "metadata": {},
     "output_type": "execute_result"
    }
   ],
   "source": [
    "app1.invoke(\"Hello World, Welcome \")"
   ]
  },
  {
   "cell_type": "markdown",
   "id": "cdebaf74",
   "metadata": {},
   "source": [
    "# Workflow with LLM"
   ]
  },
  {
   "cell_type": "code",
   "execution_count": 10,
   "metadata": {},
   "outputs": [],
   "source": [
    "from langchain_groq.chat_models import ChatGroq\n",
    "from langgraph.graph import Graph"
   ]
  },
  {
   "cell_type": "code",
   "execution_count": 11,
   "id": "51be3f0c",
   "metadata": {},
   "outputs": [],
   "source": [
    "def model(input):\n",
    "    llm = ChatGroq(model=\"gemma2-9b-it\")\n",
    "    return llm.invoke(input).content"
   ]
  },
  {
   "cell_type": "code",
   "execution_count": 12,
   "id": "6bbabaea",
   "metadata": {},
   "outputs": [],
   "source": [
    "def upper_case(input):\n",
    "    return input.upper()"
   ]
  },
  {
   "cell_type": "code",
   "execution_count": 13,
   "id": "a255ed61",
   "metadata": {},
   "outputs": [],
   "source": [
    "workflow2 = Graph()"
   ]
  },
  {
   "cell_type": "code",
   "execution_count": 14,
   "id": "2e812507",
   "metadata": {},
   "outputs": [],
   "source": [
    "workflow2.add_node(\"model\", model)\n",
    "workflow2.add_node(\"upper_case\", upper_case)\n",
    "\n",
    "workflow2.add_edge(\"model\", \"upper_case\")\n",
    "\n",
    "workflow2.set_entry_point(\"model\")\n",
    "workflow2.set_finish_point(\"upper_case\")\n",
    "\n",
    "app2 = workflow2.compile()"
   ]
  },
  {
   "cell_type": "code",
   "execution_count": 15,
   "id": "186588f3",
   "metadata": {},
   "outputs": [
    {
     "data": {
      "image/png": "[encoded data removed]",
      "text/plain": [
       "<langgraph.graph.graph.CompiledGraph object at 0x000001CDA9C2AF00>"
      ]
     },
     "execution_count": 15,
     "metadata": {},
     "output_type": "execute_result"
    }
   ],
   "source": [
    "app2"
   ]
  },
  {
   "cell_type": "code",
   "execution_count": 16,
   "id": "600b6cbb",
   "metadata": {},
   "outputs": [
    {
     "data": {
      "text/plain": [
       "'THE PRESIDENT OF INDIA IS **DROUPADI MURMU**.  \\n'"
      ]
     },
     "execution_count": 16,
     "metadata": {},
     "output_type": "execute_result"
    }
   ],
   "source": [
    "app2.invoke(\"who is the president of the India?\")"
   ]
  },
  {
   "cell_type": "markdown",
   "id": "1cbe2ed4",
   "metadata": {},
   "source": [
    "# Workflow with RAG"
   ]
  },
  {
   "cell_type": "code",
   "execution_count": 17,
   "id": "43a43377",
   "metadata": {},
   "outputs": [],
   "source": [
    "from langchain_community.document_loaders import PyPDFLoader\n",
    "from langchain.text_splitter import RecursiveCharacterTextSplitter\n",
    "from langchain_ollama import OllamaEmbeddings\n",
    "from langchain_community.vectorstores import FAISS \n",
    "from langchain.chains.combine_documents import create_stuff_documents_chain\n",
    "from langchain.chains import create_retrieval_chain\n",
    "from langchain.prompts import PromptTemplate\n",
    "from langchain_groq.chat_models import ChatGroq\n",
    "from langgraph.graph import Graph\n"
   ]
  },
  {
   "cell_type": "code",
   "execution_count": 18,
   "id": "7ebfbb6c",
   "metadata": {},
   "outputs": [],
   "source": [
    "path = r\"arxiv_mcp.pdf\"\n",
    "loader = PyPDFLoader(path)\n",
    "documents = loader.load()"
   ]
  },
  {
   "cell_type": "code",
   "execution_count": 19,
   "id": "90a60f2a",
   "metadata": {},
   "outputs": [],
   "source": [
    "text_splitter = RecursiveCharacterTextSplitter(chunk_size=1000, chunk_overlap=200)\n",
    "splitted_documents = text_splitter.split_documents(documents)"
   ]
  },
  {
   "cell_type": "code",
   "execution_count": 20,
   "id": "eccaedf4",
   "metadata": {},
   "outputs": [],
   "source": [
    "emebeddings = OllamaEmbeddings(model=\"llama3.2\")\n",
    "db = FAISS.from_documents(splitted_documents, emebeddings)\n",
    "retriever = db.as_retriever()"
   ]
  },
  {
   "cell_type": "code",
   "execution_count": 21,
   "id": "e6c5e07c",
   "metadata": {},
   "outputs": [],
   "source": [
    "prompt = PromptTemplate.from_template(\n",
    "    \"\"\"\n",
    "    You are a helpful assistant. You will be provided with a question and a context. Answer the question based on the context.\n",
    "    Context: {context}\n",
    "    Question: {input}\n",
    "    \"\"\"\n",
    "    )"
   ]
  },
  {
   "cell_type": "code",
   "execution_count": 22,
   "id": "1461acf0",
   "metadata": {},
   "outputs": [],
   "source": [
    "llm = ChatGroq(model=\"gemma2-9b-it\")"
   ]
  },
  {
   "cell_type": "code",
   "execution_count": 23,
   "id": "aca49536",
   "metadata": {},
   "outputs": [],
   "source": [
    "def rag_model(input):\n",
    "    documents_chain = create_stuff_documents_chain(llm, prompt)\n",
    "    rag_chain = create_retrieval_chain(retriever, documents_chain)\n",
    "    response = rag_chain.invoke({\"input\":input})\n",
    "    return response[\"answer\"]"
   ]
  },
  {
   "cell_type": "code",
   "execution_count": 24,
   "id": "9ebf7bd3",
   "metadata": {},
   "outputs": [],
   "source": [
    "def llm_model(input):\n",
    "    llm = ChatGroq(model=\"gemma2-9b-it\")\n",
    "    return llm.invoke(input).content"
   ]
  },
  {
   "cell_type": "code",
   "execution_count": 25,
   "id": "8d039490",
   "metadata": {},
   "outputs": [],
   "source": [
    "workflow3 = Graph()\n",
    "workflow3.add_node(\"RAG_model\", rag_model)\n",
    "workflow3.add_node(\"LLM_model\", llm_model)\n",
    "workflow3.add_edge(\"RAG_model\", \"LLM_model\")\n",
    "workflow3.set_entry_point(\"RAG_model\")\n",
    "workflow3.set_finish_point(\"LLM_model\")\n",
    "app3 = workflow3.compile()\n"
   ]
  },
  {
   "cell_type": "code",
   "execution_count": 26,
   "id": "b17e245a",
   "metadata": {},
   "outputs": [
    {
     "data": {
      "image/png": "[encoded data removed]",
      "text/plain": [
       "<langgraph.graph.graph.CompiledGraph object at 0x000001CDAB9A1AC0>"
      ]
     },
     "execution_count": 26,
     "metadata": {},
     "output_type": "execute_result"
    }
   ],
   "source": [
    "app3"
   ]
  },
  {
   "cell_type": "code",
   "execution_count": 27,
   "id": "6785fc45",
   "metadata": {},
   "outputs": [
    {
     "name": "stdout",
     "output_type": "stream",
     "text": [
      "This is a great start for a paper on MCP! Here are some suggestions to make your paper even stronger:\n",
      "\n",
      "**Expanding on Key Points:**\n",
      "\n",
      "* **Importance of MCP:**  \n",
      "    *  Be specific about the limitations of current tool interaction methods that MCP aims to address.\n",
      "    *  Provide concrete examples of how MCP can unify tool interaction across different systems (e.g., different programming languages, APIs, or data formats).\n",
      "    *  Discuss the broader societal impact of MCP, such as democratizing access to AI tools or enabling new forms of human-computer interaction.\n",
      "* **Security Risks:**\n",
      "    *  Deepen the analysis of specific security vulnerabilities in the MCP server lifecycle (e.g., injection attacks, data leaks, server-side manipulation).\n",
      "    *  Propose practical mitigation strategies for these risks, such as secure coding practices, access control mechanisms, and data encryption.\n",
      "    *  Explore the ethical implications of security vulnerabilities in MCP, considering the potential for misuse and unintended consequences.\n",
      "* **Current Landscape:**\n",
      "    *  Go beyond simply listing existing server solutions and use cases.\n",
      "    *  Analyze the strengths and weaknesses of different MCP implementations.\n",
      "    *  Discuss the challenges and opportunities for future development and adoption of MCP, including standardization efforts and community involvement.\n",
      "\n",
      "**Structure and Organization:**\n",
      "\n",
      "* **Introduction:**  Start with a compelling hook that captures the reader's attention and clearly states the paper's objectives.\n",
      "* **Related Work:**  Provide a thorough review of existing literature on LLM tool interaction and related protocols.\n",
      "* **MCP Protocol:** Explain the MCP protocol in detail, including its architecture, key components, and communication mechanisms.\n",
      "* **Security Analysis:**  Dedicate a substantial section to analyzing the security risks of MCP, followed by proposed mitigation strategies.\n",
      "* **Ecosystem Overview:**  Present a comprehensive overview of the current MCP ecosystem, including tools, server solutions, and use cases.\n",
      "* **Future Directions:**  Conclude with a discussion of promising research directions and potential applications of MCP.\n",
      "\n",
      "**Additional Considerations:**\n",
      "\n",
      "* **Target Audience:**  Consider the intended audience for your paper (e.g., researchers, developers, policymakers) and tailor the language and level of technical detail accordingly.\n",
      "* **Visual Aids:**  Use diagrams, tables, and other visual aids to enhance clarity and understanding.\n",
      "* **Code Examples:**  If appropriate, provide code examples to illustrate key concepts and functionalities of MCP.\n",
      "\n",
      "\n",
      "By incorporating these suggestions, you can create a comprehensive and insightful paper that contributes meaningfully to the understanding and development of MCP in the field of AI. \n",
      "\n"
     ]
    }
   ],
   "source": [
    "res = app3.invoke(\"What is the main theme of the paper?\")\n",
    "print(res)"
   ]
  },
  {
   "cell_type": "code",
   "execution_count": 28,
   "id": "ae2709c2",
   "metadata": {},
   "outputs": [
    {
     "data": {
      "image/png": "[encoded data removed]",
      "text/plain": [
       "<IPython.core.display.Image object>"
      ]
     },
     "metadata": {},
     "output_type": "display_data"
    }
   ],
   "source": [
    "from IPython.display import Image, display\n",
    "try:\n",
    "    display(Image(app3.get_graph().draw_mermaid_png()))\n",
    "except Exception as e:\n",
    "    # This requires some extra dependencies and is optional\n",
    "    print(e)"
   ]
  },
  {
   "cell_type": "code",
   "execution_count": 29,
   "id": "a1ca8bae",
   "metadata": {},
   "outputs": [
    {
     "name": "stdout",
     "output_type": "stream",
     "text": [
      "Output from node 'RAG_model':\n",
      "---\n",
      "The main theme of the paper is the exploration of the **MCP (Multi-Context Protocol)** as a foundational layer for tool-augmented large language models (LLMs). \n",
      "\n",
      "The paper discusses:\n",
      "\n",
      "* **The current landscape of LLM-tool interactions** and the challenges they face, particularly the lack of a standardized context protocol.\n",
      "* **MCP as a potential solution** to unify tool interaction across diverse systems.\n",
      "* **Security risks** associated with LLM-tool interactions and the importance of secure MCP server implementations.\n",
      "* **Existing MCP server tools and platforms**, highlighting their capabilities and use cases.\n",
      "\n",
      "\n",
      "Ultimately, the paper argues for the critical importance of understanding and addressing the challenges and opportunities presented by MCP in the evolving field of AI. \n",
      "\n",
      "\n",
      "---\n",
      "\n",
      "Output from node 'LLM_model':\n",
      "---\n",
      "This is a fantastic summary of a paper exploring the MCP protocol!  It clearly outlines the key aspects and the paper's central argument. \n",
      "\n",
      "Here are a few suggestions to make it even stronger:\n",
      "\n",
      "* **Specificity:** Instead of just saying \"challenges they face,\" you could mention specific examples like:\n",
      "    * Difficulty in handling complex tool chains\n",
      "    * Fragmented tooling ecosystems\n",
      "    * Lack of consistency in how tools are invoked and data is exchanged\n",
      "* **Benefits of MCP:**  Expand on how MCP addresses these challenges. For example:\n",
      "    *  Provides a standardized interface for LLM-tool interaction, enabling interoperability between diverse systems.\n",
      "    *  Facilitates the development of more complex and robust tool chains.\n",
      "    *  Promotes reusability of tools and reduces development time.\n",
      "* **Security Risks:**  Provide a concrete example of a security risk associated with LLM-tool interactions.  This could be:\n",
      "    *  An attacker manipulating tool inputs to cause unintended actions \n",
      "    *  A malicious tool leaking sensitive information from the LLM\n",
      "* **Call to action:**  End with a stronger call to action, emphasizing the need for further research, development, and adoption of MCP.\n",
      "\n",
      "\n",
      "Here's an example incorporating these suggestions:\n",
      "\n",
      "\"The paper explores the **MCP (Multi-Context Protocol)** as a foundational layer for tool-augmented large language models (LLMs), highlighting its potential to address key challenges in the current LLM-tool interaction landscape. This landscape faces issues like fragmented tooling ecosystems, difficulty handling complex tool chains, and a lack of standardized context protocols. MCP offers a potential solution by providing a unified interface for LLM-tool interaction, enabling interoperability between diverse systems and facilitating the development of more robust tool chains. The paper also delves into the security risks associated with LLM-tool interactions, such as an attacker manipulating tool inputs to cause unintended actions, emphasizing the importance of secure MCP server implementations. By showcasing existing MCP server tools and platforms, the paper argues for the critical importance of understanding and addressing the challenges and opportunities presented by MCP in the rapidly evolving field of AI, ultimately calling for increased research, development, and adoption of this crucial protocol.\" \n",
      "\n",
      "\n",
      "\n",
      "\n",
      "---\n",
      "\n"
     ]
    }
   ],
   "source": [
    "input = \"What is the main theme of the paper?\"\n",
    "for output in app3.stream(input):\n",
    "    for key, value in output.items():\n",
    "        print(f\"Output from node '{key}':\")\n",
    "        print(\"---\")\n",
    "        print(value)\n",
    "    print(\"\\n---\\n\")"
   ]
  },
  {
   "cell_type": "markdown",
   "id": "d800c8c7",
   "metadata": {},
   "source": [
    "# Workflow with Conditional"
   ]
  },
  {
   "cell_type": "code",
   "execution_count": 30,
   "id": "cd6eee27",
   "metadata": {},
   "outputs": [],
   "source": [
    "from langchain_community.document_loaders import PyPDFLoader\n",
    "from langchain.text_splitter import RecursiveCharacterTextSplitter\n",
    "from langchain_ollama import OllamaEmbeddings\n",
    "from langchain_community.vectorstores import FAISS"
   ]
  },
  {
   "cell_type": "code",
   "execution_count": 31,
   "id": "fe543c67",
   "metadata": {},
   "outputs": [],
   "source": [
    "path = r\"arxiv_mcp.pdf\"\n",
    "loader = PyPDFLoader(path)\n",
    "documents = loader.load()\n",
    "text_splitter = RecursiveCharacterTextSplitter(chunk_size=1000, chunk_overlap=200)\n",
    "splitted_documents = text_splitter.split_documents(documents)\n",
    "emebeddings = OllamaEmbeddings(model=\"llama3.2\")\n",
    "db = FAISS.from_documents(splitted_documents, emebeddings)\n",
    "retriever = db.as_retriever()"
   ]
  },
  {
   "cell_type": "code",
   "execution_count": 32,
   "id": "82988542",
   "metadata": {},
   "outputs": [],
   "source": [
    "from pydantic import BaseModel , Field\n",
    "class TopicSelectionParser(BaseModel):\n",
    "    Topic: str = Field(description='Selected Topic')\n",
    "    Reasoning: str = Field(description='Reasoning behind topic selection')"
   ]
  },
  {
   "cell_type": "code",
   "execution_count": 33,
   "id": "4b6048d2",
   "metadata": {},
   "outputs": [],
   "source": [
    "from langchain.output_parsers import PydanticOutputParser\n",
    "parser = PydanticOutputParser(pydantic_object=TopicSelectionParser)"
   ]
  },
  {
   "cell_type": "code",
   "execution_count": 34,
   "id": "db6284ed",
   "metadata": {},
   "outputs": [],
   "source": [
    "from langchain_groq.chat_models import ChatGroq\n",
    "llm = ChatGroq(model=\"gemma2-9b-it\")"
   ]
  },
  {
   "cell_type": "code",
   "execution_count": 35,
   "id": "b597cf76",
   "metadata": {},
   "outputs": [],
   "source": [
    "from langchain.prompts import PromptTemplate\n",
    "def agent(state):\n",
    "    message=state[\"messages\"]\n",
    "    question=message[-1]\n",
    "    print(question)\n",
    "    \n",
    "    template=\"\"\"\n",
    "    Your task is to classify the given user query into one of the following categories: [model context protocol(MCP), Not Related]. \n",
    "    Only respond with the category name and nothing else.\n",
    "    User query: {question}\n",
    "    {format_instructions}\n",
    "    \"\"\"\n",
    "    \n",
    "    prompt = PromptTemplate(template=template,\n",
    "                            input_variables=[question],\n",
    "                            partial_variables={\"format_instructions\" : parser.get_format_instructions()})\n",
    "    \n",
    "    chain =  prompt | llm | parser\n",
    "    response = chain.invoke({\"question\":question,\"format_instructions\" : parser.get_format_instructions()})\n",
    "\n",
    "    print(response)\n",
    "    return {\"messages\": [response.Topic]}"
   ]
  },
  {
   "cell_type": "code",
   "execution_count": 36,
   "id": "6f6e0399",
   "metadata": {},
   "outputs": [],
   "source": [
    "def router(state):\n",
    "    print('-> Router ->')\n",
    "    messages = state[\"messages\"]\n",
    "    last_message = messages[-1]\n",
    "    print(last_message)\n",
    "    if 'model context protocol'.lower() or 'mcp'.lower() in last_message:\n",
    "        return 'RAG Call'\n",
    "    else:\n",
    "        return 'LLM Call'"
   ]
  },
  {
   "cell_type": "code",
   "execution_count": 37,
   "id": "c343aab0",
   "metadata": {},
   "outputs": [],
   "source": [
    "from langchain.prompts import ChatPromptTemplate\n",
    "from langchain_core.output_parsers import StrOutputParser\n",
    "from langchain_core.runnables import RunnablePassthrough\n",
    "def rag_model(state):\n",
    "    print('-> Calling RAG ->')\n",
    "    messages = state['messages']\n",
    "    question = messages[0]\n",
    "    print(question)\n",
    "    template = \"\"\"Answer the question based only on the following context:{context}\n",
    "    Question: {question}\n",
    "    \"\"\"\n",
    "    prompt = ChatPromptTemplate.from_template(template)\n",
    "    print(prompt)\n",
    "\n",
    "    retrieval_chain = (\n",
    "        {\"context\": retriever, \"question\": RunnablePassthrough()}\n",
    "        | prompt\n",
    "        | llm\n",
    "        | StrOutputParser()\n",
    "        )\n",
    "    result = retrieval_chain.invoke(question)\n",
    "    return  {\"messages\": [result]}"
   ]
  },
  {
   "cell_type": "code",
   "execution_count": 38,
   "id": "0d4687cb",
   "metadata": {},
   "outputs": [],
   "source": [
    "def llm_model(state):\n",
    "    print('-> Calling LLM ->')\n",
    "\n",
    "    messages = state['messages']\n",
    "    question = messages[0] \n",
    "    complete_query = \"Anwer the follow question with your knowledge of the real world. Following is the user question: \" + question\n",
    "    response = llm.invoke(complete_query)\n",
    "    return {\"messages\": [response.content]}"
   ]
  },
  {
   "cell_type": "code",
   "execution_count": 39,
   "id": "a926e072",
   "metadata": {},
   "outputs": [],
   "source": [
    "from typing import TypedDict, Sequence, Annotated\n",
    "import operator\n",
    "from langchain_core.messages import BaseMessage\n",
    "\n",
    "class AgentState(TypedDict):\n",
    "    messages: Annotated[Sequence[BaseMessage], operator.add]"
   ]
  },
  {
   "cell_type": "code",
   "execution_count": 40,
   "id": "5a505828",
   "metadata": {},
   "outputs": [],
   "source": [
    "from langgraph.graph import StateGraph,START, END\n",
    "workflow4 = StateGraph(AgentState)\n",
    "\n",
    "workflow4.add_node(\"agent\", agent)\n",
    "workflow4.add_node(\"RAG\", rag_model)\n",
    "workflow4.add_node(\"LLM\", llm_model)\n",
    "\n",
    "\n",
    "workflow4.add_edge(START,\"agent\")\n",
    "workflow4.add_conditional_edges(\n",
    "    \"agent\",\n",
    "    router,\n",
    "    {\n",
    "        \"RAG Call\": \"RAG\",\n",
    "        \"LLM Call\": \"LLM\",\n",
    "    }\n",
    ")\n",
    "workflow4.add_edge(\"RAG\",END)\n",
    "workflow4.add_edge(\"LLM\",END)\n",
    "app4=workflow4.compile()"
   ]
  },
  {
   "cell_type": "code",
   "execution_count": 41,
   "id": "3e6742b2",
   "metadata": {},
   "outputs": [
    {
     "name": "stdout",
     "output_type": "stream",
     "text": [
      "HTTPSConnectionPool(host='mermaid.ink', port=443): Read timed out. (read timeout=10)\n"
     ]
    }
   ],
   "source": [
    "from IPython.display import Image, display\n",
    "try:\n",
    "    display(Image(app4.get_graph().draw_mermaid_png()))\n",
    "except Exception as e:\n",
    "    print(e)"
   ]
  },
  {
   "cell_type": "code",
   "execution_count": 42,
   "id": "bf466cc5",
   "metadata": {},
   "outputs": [],
   "source": [
    "inputs = {\"messages\": [\"Tell me about the model context protocol\"]}"
   ]
  },
  {
   "cell_type": "code",
   "execution_count": 43,
   "id": "c7d4366b",
   "metadata": {},
   "outputs": [
    {
     "name": "stdout",
     "output_type": "stream",
     "text": [
      "Tell me about the model context protocol\n",
      "Topic='model context protocol(MCP)' Reasoning='The user explicitly asked for information about the model context protocol.'\n",
      "-> Router ->\n",
      "model context protocol(MCP)\n",
      "-> Calling RAG ->\n",
      "Tell me about the model context protocol\n",
      "input_variables=['context', 'question'] input_types={} partial_variables={} messages=[HumanMessagePromptTemplate(prompt=PromptTemplate(input_variables=['context', 'question'], input_types={}, partial_variables={}, template='Answer the question based only on the following context:{context}\\n    Question: {question}\\n    '), additional_kwargs={})]\n"
     ]
    }
   ],
   "source": [
    "output = app4.invoke(inputs)"
   ]
  },
  {
   "cell_type": "code",
   "execution_count": 44,
   "id": "f5eb93c8",
   "metadata": {},
   "outputs": [
    {
     "name": "stdout",
     "output_type": "stream",
     "text": [
      "The Model Context Protocol (MCP) is a standardized protocol that simplifies the interaction between AI applications and external tools and resources. \n",
      "\n",
      "Here are some key points about MCP based on the provided text:\n",
      "\n",
      "* **Purpose:** MCP aims to make it easier for AI applications to access and utilize a variety of tools and services. It provides a centralized and flexible way to manage these connections.\n",
      "* **Benefits:**\n",
      "    * **Reduced Complexity:** MCP eliminates the need for manual API wiring, simplifying the development and maintenance of AI applications.\n",
      "    * **Increased Flexibility:** MCP allows AI applications to seamlessly switch between different tools and services as needed.\n",
      "    * **Improved Scalability:** MCP enables the easy integration of new tools and services into the ecosystem.\n",
      "* **Components:** \n",
      "    * **MCP Server:** Acts as an intermediary, handling communication between AI applications and external tools. It executes tool invocations, manages command overlaps, and enforces security measures.\n",
      "    * **MCP Client:**  Integrated into AI applications, allowing them to send requests to the MCP server.\n",
      "    * **External Tools and Resources:**  These can include APIs, web services, databases, local files, and more.\n",
      "\n",
      "The text also mentions that while MCP offers great potential, it's still in its early stages and faces challenges in areas like security, tool discoverability, and remote deployment.\n",
      "\n",
      "\n",
      "Let me know if you have any other questions! \n",
      "\n"
     ]
    }
   ],
   "source": [
    "print(output.get(\"messages\")[-1])"
   ]
  }
 ],
 "metadata": {
  "kernelspec": {
   "display_name": "tutorial_env",
   "language": "python",
   "name": "python3"
  },
  "language_info": {
   "codemirror_mode": {
    "name": "ipython",
    "version": 3
   },
   "file_extension": ".py",
   "mimetype": "text/x-python",
   "name": "python",
   "nbconvert_exporter": "python",
   "pygments_lexer": "ipython3",
   "version": "3.12.9"
  }
 },
 "nbformat": 4,
 "nbformat_minor": 5
}
