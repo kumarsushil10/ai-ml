{
 "cells": [
  {
   "cell_type": "code",
   "execution_count": 36,
   "id": "067dfaad",
   "metadata": {},
   "outputs": [],
   "source": [
    "from langchain_groq import ChatGroq\n",
    "llm = ChatGroq(model=\"gemma2-9b-it\")"
   ]
  },
  {
   "cell_type": "code",
   "execution_count": 37,
   "id": "56c3b8ac",
   "metadata": {},
   "outputs": [],
   "source": [
    "from langchain_community.tools import DuckDuckGoSearchRun\n",
    "searchEngine = DuckDuckGoSearchRun()"
   ]
  },
  {
   "cell_type": "code",
   "execution_count": 38,
   "id": "577bbf97",
   "metadata": {},
   "outputs": [],
   "source": [
    "def add(a:int, b:int)-> int:\n",
    "    \"add two int value\"\n",
    "    return a + b"
   ]
  },
  {
   "cell_type": "code",
   "execution_count": 39,
   "id": "6bdb8085",
   "metadata": {},
   "outputs": [],
   "source": [
    "def minus(a:int, b:int)-> int:\n",
    "    \"subtract two int value\"\n",
    "    return a - b"
   ]
  },
  {
   "cell_type": "code",
   "execution_count": 40,
   "id": "e5f8ce54",
   "metadata": {},
   "outputs": [],
   "source": [
    "def product(a:int, b:int)-> int:\n",
    "    \"multiply two int value\"\n",
    "    return a*b"
   ]
  },
  {
   "cell_type": "code",
   "execution_count": 41,
   "id": "1e379aa5",
   "metadata": {},
   "outputs": [],
   "source": [
    "def divide(a:int, b:int)-> int:\n",
    "    \"divide two int value\"\n",
    "    return a/b"
   ]
  },
  {
   "cell_type": "code",
   "execution_count": 42,
   "id": "88716bef",
   "metadata": {},
   "outputs": [],
   "source": [
    "tools = [add,minus,product,divide,searchEngine]\n",
    "llm_with_tools = llm.bind_tools(tools)"
   ]
  },
  {
   "cell_type": "code",
   "execution_count": 43,
   "id": "61eb9319",
   "metadata": {},
   "outputs": [],
   "source": [
    "from langgraph.graph import MessagesState\n",
    "def chatbot(state:MessagesState):\n",
    "    messages = state[\"messages\"]\n",
    "    response = llm_with_tools.invoke(messages)\n",
    "    return {\"messages\":[response]}"
   ]
  },
  {
   "cell_type": "code",
   "execution_count": 44,
   "id": "9beca724",
   "metadata": {},
   "outputs": [],
   "source": [
    "def route(state:MessagesState):\n",
    "    messages = state[\"messages\"]\n",
    "    if messages[-1].tool_calls:\n",
    "        return \"tools_call\"\n",
    "    return END"
   ]
  },
  {
   "cell_type": "code",
   "execution_count": 45,
   "id": "9fe5a047",
   "metadata": {},
   "outputs": [
    {
     "data": {
      "image/png": "[encoded data removed]",
      "text/plain": [
       "<langgraph.graph.state.CompiledStateGraph object at 0x000001ED424F7650>"
      ]
     },
     "execution_count": 45,
     "metadata": {},
     "output_type": "execute_result"
    }
   ],
   "source": [
    "from langgraph.graph import StateGraph, START,END\n",
    "from langgraph.prebuilt import ToolNode\n",
    "from langgraph.prebuilt import tools_condition\n",
    "\n",
    "workflow = StateGraph(MessagesState)\n",
    "\n",
    "workflow.add_node(\"agent\",chatbot)\n",
    "workflow.add_node(\"tools\",ToolNode(tools))\n",
    "\n",
    "workflow.add_edge(START,\"agent\")\n",
    "workflow.add_conditional_edges(\n",
    "    \"agent\",\n",
    "    # ways 1\n",
    "    # route,\n",
    "    # {\n",
    "    #     \"tools_call\":\"tools\",\n",
    "    #     END:END\n",
    "    # }\n",
    "\n",
    "    # ways 2\n",
    "    tools_condition,\n",
    ")\n",
    "workflow.add_edge(\"tools\",\"agent\")\n",
    "\n",
    "app = workflow.compile()\n",
    "app\n"
   ]
  },
  {
   "cell_type": "code",
   "execution_count": 46,
   "id": "88b41bf2",
   "metadata": {},
   "outputs": [],
   "source": [
    "from langchain_core.messages import HumanMessage\n",
    "message = [HumanMessage(content=\"What is 2 times of narendra modi's age?\")]\n",
    "result = app.invoke({\"messages\": message})"
   ]
  },
  {
   "cell_type": "code",
   "execution_count": 47,
   "id": "9d1f8f62",
   "metadata": {},
   "outputs": [
    {
     "name": "stdout",
     "output_type": "stream",
     "text": [
      "================================\u001b[1m Human Message \u001b[0m=================================\n",
      "\n",
      "What is 2 times of narendra modi's age?\n",
      "==================================\u001b[1m Ai Message \u001b[0m==================================\n",
      "Tool Calls:\n",
      "  duckduckgo_search (call_0g3y)\n",
      " Call ID: call_0g3y\n",
      "  Args:\n",
      "    query: narendra modi age\n",
      "=================================\u001b[1m Tool Message \u001b[0m=================================\n",
      "Name: duckduckgo_search\n",
      "\n",
      "Narendra Modi is the prime minister of India since 2014 and a leader of the BJP. He was born on September 17, 1950, in Vadnagar, India, and is a member of the RSS. List of all Prime Ministers of India till 2025: Narendra Modi is the current and 14th Prime Minister of India who assumed office on 10 June 2024. Jawaharlal Nehru is the first and the longest ... Learn about the life and achievements of Narendra Modi, the current Prime Minister of India, who was born on September 17, 1950, in Gujarat. Find out his full name, education, political journey, and role in the BJP and RSS. Learn about Narendra Modi, the Prime Minister of India since 2014, who was born on 17th September 1950. Find out his personal life, education, political timeline, achievements, net worth and election history. After releasing them into their wild, Modi also clicked their pictures. 2021: As part of efforts to tackle the Covid-19 pandemic, a record 2.26 vaccines were administered in a single day.\n",
      "==================================\u001b[1m Ai Message \u001b[0m==================================\n",
      "Tool Calls:\n",
      "  add (call_kwr8)\n",
      " Call ID: call_kwr8\n",
      "  Args:\n",
      "    a: 72\n",
      "    b: 2\n",
      "=================================\u001b[1m Tool Message \u001b[0m=================================\n",
      "Name: add\n",
      "\n",
      "74\n",
      "==================================\u001b[1m Ai Message \u001b[0m==================================\n",
      "\n",
      "74\n"
     ]
    }
   ],
   "source": [
    "for m in result['messages']:\n",
    "    m.pretty_print()"
   ]
  },
  {
   "cell_type": "markdown",
   "id": "8e06ad59",
   "metadata": {},
   "source": [
    "## Finance tool"
   ]
  },
  {
   "cell_type": "code",
   "execution_count": 71,
   "id": "85a64190",
   "metadata": {},
   "outputs": [],
   "source": [
    "import yfinance as yf\n",
    "\n",
    "def get_stock_price(ticker: str) -> float:\n",
    "    \"\"\"Gets a stock price from Yahoo Finance.\n",
    "    Args:\n",
    "        ticker: ticker str\n",
    "    \"\"\"\n",
    "    stock = yf.Ticker(ticker)\n",
    "    return stock.info['previousClose']\n"
   ]
  },
  {
   "cell_type": "code",
   "execution_count": 72,
   "id": "274c8d6f",
   "metadata": {},
   "outputs": [
    {
     "data": {
      "text/plain": [
       "202.14"
      ]
     },
     "execution_count": 72,
     "metadata": {},
     "output_type": "execute_result"
    }
   ],
   "source": [
    "get_stock_price(\"AAPL\")"
   ]
  },
  {
   "cell_type": "code",
   "execution_count": 73,
   "id": "4fba007e",
   "metadata": {},
   "outputs": [],
   "source": [
    "tools = [add,minus,product,divide,searchEngine,get_stock_price]\n",
    "llm_with_tools = llm.bind_tools(tools)"
   ]
  },
  {
   "cell_type": "code",
   "execution_count": 75,
   "id": "2c15b9d4",
   "metadata": {},
   "outputs": [],
   "source": [
    "from langchain_core.messages import AnyMessage\n",
    "\n",
    "class GraphState(TypedDict):\n",
    "    \"\"\"State of the graph.\"\"\"\n",
    "    query: str\n",
    "    finance: str\n",
    "    final_answer: str\n",
    "    # intermediate_steps: Annotated[list[tuple[AgentAction, str]], operator.add]\n",
    "    messages: Annotated[list[AnyMessage], operator.add]"
   ]
  },
  {
   "cell_type": "code",
   "execution_count": 80,
   "id": "906f1e9d",
   "metadata": {},
   "outputs": [],
   "source": [
    "from langchain_core.messages import HumanMessage,SystemMessage\n",
    "def reasoner(state):\n",
    "    query = state[\"query\"]\n",
    "    messages = state[\"messages\"]\n",
    "    # System message\n",
    "    sys_msg = SystemMessage(content=\"You are a helpful assistant tasked with using search, the yahoo finance tool and performing arithmetic on a set of inputs.\")\n",
    "    message = HumanMessage(content=query)\n",
    "    messages.append(message)\n",
    "    result = [llm_with_tools.invoke([sys_msg] + messages)]\n",
    "    return {\"messages\":result}"
   ]
  },
  {
   "cell_type": "code",
   "execution_count": 81,
   "id": "ea2c4238",
   "metadata": {},
   "outputs": [],
   "source": [
    "\n",
    "# Graph\n",
    "workflow = StateGraph(GraphState)\n",
    "\n",
    "# Add Nodes\n",
    "workflow.add_node(\"reasoner\", reasoner)\n",
    "workflow.add_node(\"tools\", ToolNode(tools)) # for the tools\n",
    "\n",
    "# Add Edges\n",
    "workflow.add_edge(START, \"reasoner\")\n",
    "\n",
    "workflow.add_conditional_edges(\n",
    "    \"reasoner\",\n",
    "    # If the latest message (result) from node reasoner is a tool call -> tools_condition routes to tools\n",
    "    # If the latest message (result) from node reasoner is a not a tool call -> tools_condition routes to END\n",
    "    tools_condition,\n",
    ")\n",
    "workflow.add_edge(\"tools\", \"reasoner\")\n",
    "react_graph = workflow.compile()"
   ]
  },
  {
   "cell_type": "code",
   "execution_count": 78,
   "id": "0f7bb8f6",
   "metadata": {},
   "outputs": [
    {
     "data": {
      "image/png": "[encoded data removed]",
      "text/plain": [
       "<langgraph.graph.state.CompiledStateGraph object at 0x000001ED50FDAA50>"
      ]
     },
     "execution_count": 78,
     "metadata": {},
     "output_type": "execute_result"
    }
   ],
   "source": [
    "react_graph"
   ]
  },
  {
   "cell_type": "code",
   "execution_count": 85,
   "id": "15b7c8a1",
   "metadata": {},
   "outputs": [],
   "source": [
    "response = react_graph.invoke({\"query\": \"What is the stock price of google add 1000?\", \"messages\": []})"
   ]
  },
  {
   "cell_type": "code",
   "execution_count": 86,
   "id": "1b1662fc",
   "metadata": {},
   "outputs": [
    {
     "name": "stdout",
     "output_type": "stream",
     "text": [
      "================================\u001b[1m Human Message \u001b[0m=================================\n",
      "\n",
      "What is the stock price of google add 1000?\n",
      "==================================\u001b[1m Ai Message \u001b[0m==================================\n",
      "Tool Calls:\n",
      "  get_stock_price (call_y9wm)\n",
      " Call ID: call_y9wm\n",
      "  Args:\n",
      "    ticker: GOOG\n",
      "=================================\u001b[1m Tool Message \u001b[0m=================================\n",
      "Name: get_stock_price\n",
      "\n",
      "158.68\n",
      "================================\u001b[1m Human Message \u001b[0m=================================\n",
      "\n",
      "What is the stock price of google add 1000?\n",
      "==================================\u001b[1m Ai Message \u001b[0m==================================\n",
      "Tool Calls:\n",
      "  get_stock_price (call_e2rt)\n",
      " Call ID: call_e2rt\n",
      "  Args:\n",
      "    ticker: GOOG\n",
      "=================================\u001b[1m Tool Message \u001b[0m=================================\n",
      "Name: get_stock_price\n",
      "\n",
      "158.68\n",
      "================================\u001b[1m Human Message \u001b[0m=================================\n",
      "\n",
      "What is the stock price of google add 1000?\n",
      "==================================\u001b[1m Ai Message \u001b[0m==================================\n",
      "\n",
      "158.68 + 1000 = 1158.68\n"
     ]
    }
   ],
   "source": [
    "for m in response['messages']:\n",
    "    m.pretty_print()\n",
    "     "
   ]
  }
 ],
 "metadata": {
  "kernelspec": {
   "display_name": "tutorial_env",
   "language": "python",
   "name": "python3"
  },
  "language_info": {
   "codemirror_mode": {
    "name": "ipython",
    "version": 3
   },
   "file_extension": ".py",
   "mimetype": "text/x-python",
   "name": "python",
   "nbconvert_exporter": "python",
   "pygments_lexer": "ipython3",
   "version": "3.12.9"
  }
 },
 "nbformat": 4,
 "nbformat_minor": 5
}
