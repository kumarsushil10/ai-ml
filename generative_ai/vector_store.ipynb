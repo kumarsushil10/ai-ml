{
 "cells": [
  {
   "cell_type": "code",
   "execution_count": 1,
   "metadata": {},
   "outputs": [],
   "source": [
    "from langchain_community.document_loaders import PyPDFLoader\n",
    "loader = PyPDFLoader(\"science_1007.pdf\")\n",
    "documents = loader.load()"
   ]
  },
  {
   "cell_type": "code",
   "execution_count": 2,
   "metadata": {},
   "outputs": [],
   "source": [
    "from langchain_text_splitters import RecursiveCharacterTextSplitter\n",
    "text_splitter = RecursiveCharacterTextSplitter(chunk_size = 500,chunk_overlap = 100)\n",
    "splitted_document = text_splitter.split_documents(documents)"
   ]
  },
  {
   "cell_type": "code",
   "execution_count": 4,
   "metadata": {},
   "outputs": [],
   "source": [
    "from langchain_ollama import OllamaEmbeddings\n",
    "embedding = OllamaEmbeddings(model=\"llama3.2\",)"
   ]
  },
  {
   "cell_type": "markdown",
   "metadata": {},
   "source": [
    "### FAISS Vector store"
   ]
  },
  {
   "cell_type": "code",
   "execution_count": 5,
   "metadata": {},
   "outputs": [],
   "source": [
    "from langchain_community.vectorstores import FAISS\n",
    "vector_db = FAISS.from_documents(splitted_document,embedding)"
   ]
  },
  {
   "cell_type": "code",
   "execution_count": 6,
   "metadata": {},
   "outputs": [
    {
     "data": {
      "text/plain": [
       "<langchain_community.vectorstores.faiss.FAISS at 0x25385d08050>"
      ]
     },
     "execution_count": 6,
     "metadata": {},
     "output_type": "execute_result"
    }
   ],
   "source": [
    "vector_db"
   ]
  },
  {
   "cell_type": "code",
   "execution_count": null,
   "metadata": {},
   "outputs": [
    {
     "data": {
      "text/plain": [
       "[Document(id='2f96c878-fc1c-4935-b5f1-e777be4b6f5b', metadata={'producer': 'PDF Printer / www.bullzip.com / FG / Freeware Edition (max 10 users)', 'creator': 'Bullzip PDF Printer (12.2.0.2905)', 'creationdate': '2022-09-20T10:54:31+05:30', 'author': 'admin', 'moddate': '2024-05-20T13:38:38+05:30', 'title': 'D:\\\\Textbooks\\\\Rationalised Books\\\\0964-Science\\\\1 Source Files\\\\Chapter-7\\\\CHAP 7.pmd', 'source': 'science_1007.pdf', 'total_pages': 15, 'page': 14, 'page_label': '15'}, page_content='ground?\\n8. The speed-time graph for a car is shown is Fig. 7.11.\\n(a) Find how far does the car travel in the first 4 seconds.\\nShade the area on the graph that represents the distance\\ntravelled by the car during the period.\\n(b) Which part of the graph represents uniform motion of\\nthe car?\\n9. State which of the following situations are possible and give\\nan example for each of these:\\n(a) an object with a constant acceleration but with zero\\nvelocity'),\n",
       " Document(id='de1eda66-cb0e-4a5c-a2a3-ea5a56b92914', metadata={'producer': 'PDF Printer / www.bullzip.com / FG / Freeware Edition (max 10 users)', 'creator': 'Bullzip PDF Printer (12.2.0.2905)', 'creationdate': '2022-09-20T10:54:31+05:30', 'author': 'admin', 'moddate': '2024-05-20T13:38:38+05:30', 'title': 'D:\\\\Textbooks\\\\Rationalised Books\\\\0964-Science\\\\1 Source Files\\\\Chapter-7\\\\CHAP 7.pmd', 'source': 'science_1007.pdf', 'total_pages': 15, 'page': 5, 'page_label': '6'}, page_content='acceleration of the object is said to be\\nuniform. The motion of a freely falling body\\nis an example of uniformly accelerated\\nmotion. On the other hand, an object can\\ntravel with non-uniform acceleration if its\\nvelocity changes at a non-uniform rate. For\\nexample, if a car travelling along a straight\\nroad increases its speed by unequal amounts\\nin equal intervals of time, then the car is said\\nto be moving with non-uniform acceleration.\\nActivity ActivityActivity ActivityActivity 7.8 7.87.8 7.87.8'),\n",
       " Document(id='275150f7-a199-4920-8c3b-9d9c7a3d1eba', metadata={'producer': 'PDF Printer / www.bullzip.com / FG / Freeware Edition (max 10 users)', 'creator': 'Bullzip PDF Printer (12.2.0.2905)', 'creationdate': '2022-09-20T10:54:31+05:30', 'author': 'admin', 'moddate': '2024-05-20T13:38:38+05:30', 'title': 'D:\\\\Textbooks\\\\Rationalised Books\\\\0964-Science\\\\1 Source Files\\\\Chapter-7\\\\CHAP 7.pmd', 'source': 'science_1007.pdf', 'total_pages': 15, 'page': 1, 'page_label': '2'}, page_content='sides.\\n• Measure the distance cover ed by you\\nand magnitude of the displacement.\\n• What dif fer ence would you notice\\nbetween the two in this case?\\nActivity ______________ 7.4\\n• Automobiles are fitted with a device\\nthat shows the distance travelled. Such\\na device is known as an odometer. A\\ncar is driven fr om Bhubaneshwar to\\nNew Delhi. The difference between the\\nfinal reading and the initial reading of\\nthe odometer is 1850 km.\\n• Find the magnitude of the displacement'),\n",
       " Document(id='a0bd665a-d202-465b-a8a6-f54e97accecf', metadata={'producer': 'PDF Printer / www.bullzip.com / FG / Freeware Edition (max 10 users)', 'creator': 'Bullzip PDF Printer (12.2.0.2905)', 'creationdate': '2022-09-20T10:54:31+05:30', 'author': 'admin', 'moddate': '2024-05-20T13:38:38+05:30', 'title': 'D:\\\\Textbooks\\\\Rationalised Books\\\\0964-Science\\\\1 Source Files\\\\Chapter-7\\\\CHAP 7.pmd', 'source': 'science_1007.pdf', 'total_pages': 15, 'page': 12, 'page_label': '13'}, page_content='the earth, a cyclist on a circular track at\\nconstant speed and so on.\\nWhat\\nyou have\\nlearnt\\n• Motion is a change of position; it can be described in terms\\nof the distance moved or the displacement.\\n• The motion of an object could be uniform or non-uniform\\ndepending on whether its velocity is constant or changing.\\n• The speed of an object is the distance covered per unit time,\\nand velocity is the displacement per unit time.\\n• The acceleration of an object is the change in velocity per\\nunit time.')]"
      ]
     },
     "execution_count": 7,
     "metadata": {},
     "output_type": "execute_result"
    }
   ],
   "source": [
    "query = \"Rate of Change of Velocity\"\n",
    "vector_db.similarity_search(query)"
   ]
  },
  {
   "cell_type": "code",
   "execution_count": 9,
   "metadata": {},
   "outputs": [
    {
     "data": {
      "text/plain": [
       "[(Document(id='2f96c878-fc1c-4935-b5f1-e777be4b6f5b', metadata={'producer': 'PDF Printer / www.bullzip.com / FG / Freeware Edition (max 10 users)', 'creator': 'Bullzip PDF Printer (12.2.0.2905)', 'creationdate': '2022-09-20T10:54:31+05:30', 'author': 'admin', 'moddate': '2024-05-20T13:38:38+05:30', 'title': 'D:\\\\Textbooks\\\\Rationalised Books\\\\0964-Science\\\\1 Source Files\\\\Chapter-7\\\\CHAP 7.pmd', 'source': 'science_1007.pdf', 'total_pages': 15, 'page': 14, 'page_label': '15'}, page_content='ground?\\n8. The speed-time graph for a car is shown is Fig. 7.11.\\n(a) Find how far does the car travel in the first 4 seconds.\\nShade the area on the graph that represents the distance\\ntravelled by the car during the period.\\n(b) Which part of the graph represents uniform motion of\\nthe car?\\n9. State which of the following situations are possible and give\\nan example for each of these:\\n(a) an object with a constant acceleration but with zero\\nvelocity'),\n",
       "  np.float32(0.8410932)),\n",
       " (Document(id='de1eda66-cb0e-4a5c-a2a3-ea5a56b92914', metadata={'producer': 'PDF Printer / www.bullzip.com / FG / Freeware Edition (max 10 users)', 'creator': 'Bullzip PDF Printer (12.2.0.2905)', 'creationdate': '2022-09-20T10:54:31+05:30', 'author': 'admin', 'moddate': '2024-05-20T13:38:38+05:30', 'title': 'D:\\\\Textbooks\\\\Rationalised Books\\\\0964-Science\\\\1 Source Files\\\\Chapter-7\\\\CHAP 7.pmd', 'source': 'science_1007.pdf', 'total_pages': 15, 'page': 5, 'page_label': '6'}, page_content='acceleration of the object is said to be\\nuniform. The motion of a freely falling body\\nis an example of uniformly accelerated\\nmotion. On the other hand, an object can\\ntravel with non-uniform acceleration if its\\nvelocity changes at a non-uniform rate. For\\nexample, if a car travelling along a straight\\nroad increases its speed by unequal amounts\\nin equal intervals of time, then the car is said\\nto be moving with non-uniform acceleration.\\nActivity ActivityActivity ActivityActivity 7.8 7.87.8 7.87.8'),\n",
       "  np.float32(0.98021245)),\n",
       " (Document(id='275150f7-a199-4920-8c3b-9d9c7a3d1eba', metadata={'producer': 'PDF Printer / www.bullzip.com / FG / Freeware Edition (max 10 users)', 'creator': 'Bullzip PDF Printer (12.2.0.2905)', 'creationdate': '2022-09-20T10:54:31+05:30', 'author': 'admin', 'moddate': '2024-05-20T13:38:38+05:30', 'title': 'D:\\\\Textbooks\\\\Rationalised Books\\\\0964-Science\\\\1 Source Files\\\\Chapter-7\\\\CHAP 7.pmd', 'source': 'science_1007.pdf', 'total_pages': 15, 'page': 1, 'page_label': '2'}, page_content='sides.\\n• Measure the distance cover ed by you\\nand magnitude of the displacement.\\n• What dif fer ence would you notice\\nbetween the two in this case?\\nActivity ______________ 7.4\\n• Automobiles are fitted with a device\\nthat shows the distance travelled. Such\\na device is known as an odometer. A\\ncar is driven fr om Bhubaneshwar to\\nNew Delhi. The difference between the\\nfinal reading and the initial reading of\\nthe odometer is 1850 km.\\n• Find the magnitude of the displacement'),\n",
       "  np.float32(0.98329735)),\n",
       " (Document(id='a0bd665a-d202-465b-a8a6-f54e97accecf', metadata={'producer': 'PDF Printer / www.bullzip.com / FG / Freeware Edition (max 10 users)', 'creator': 'Bullzip PDF Printer (12.2.0.2905)', 'creationdate': '2022-09-20T10:54:31+05:30', 'author': 'admin', 'moddate': '2024-05-20T13:38:38+05:30', 'title': 'D:\\\\Textbooks\\\\Rationalised Books\\\\0964-Science\\\\1 Source Files\\\\Chapter-7\\\\CHAP 7.pmd', 'source': 'science_1007.pdf', 'total_pages': 15, 'page': 12, 'page_label': '13'}, page_content='the earth, a cyclist on a circular track at\\nconstant speed and so on.\\nWhat\\nyou have\\nlearnt\\n• Motion is a change of position; it can be described in terms\\nof the distance moved or the displacement.\\n• The motion of an object could be uniform or non-uniform\\ndepending on whether its velocity is constant or changing.\\n• The speed of an object is the distance covered per unit time,\\nand velocity is the displacement per unit time.\\n• The acceleration of an object is the change in velocity per\\nunit time.'),\n",
       "  np.float32(0.9909151))]"
      ]
     },
     "execution_count": 9,
     "metadata": {},
     "output_type": "execute_result"
    }
   ],
   "source": [
    "docs_and_score = vector_db.similarity_search_with_score(query)\n",
    "docs_and_score"
   ]
  },
  {
   "cell_type": "code",
   "execution_count": 10,
   "metadata": {},
   "outputs": [],
   "source": [
    "# saving and loading\n",
    "vector_db.save_local(\"faiss_index\")"
   ]
  },
  {
   "cell_type": "code",
   "execution_count": 13,
   "metadata": {},
   "outputs": [],
   "source": [
    "new_db = FAISS.load_local(\"faiss_index\",embedding,allow_dangerous_deserialization=True)\n",
    "docs = new_db.similarity_search(query)"
   ]
  },
  {
   "cell_type": "code",
   "execution_count": 14,
   "metadata": {},
   "outputs": [
    {
     "data": {
      "text/plain": [
       "[Document(id='2f96c878-fc1c-4935-b5f1-e777be4b6f5b', metadata={'producer': 'PDF Printer / www.bullzip.com / FG / Freeware Edition (max 10 users)', 'creator': 'Bullzip PDF Printer (12.2.0.2905)', 'creationdate': '2022-09-20T10:54:31+05:30', 'author': 'admin', 'moddate': '2024-05-20T13:38:38+05:30', 'title': 'D:\\\\Textbooks\\\\Rationalised Books\\\\0964-Science\\\\1 Source Files\\\\Chapter-7\\\\CHAP 7.pmd', 'source': 'science_1007.pdf', 'total_pages': 15, 'page': 14, 'page_label': '15'}, page_content='ground?\\n8. The speed-time graph for a car is shown is Fig. 7.11.\\n(a) Find how far does the car travel in the first 4 seconds.\\nShade the area on the graph that represents the distance\\ntravelled by the car during the period.\\n(b) Which part of the graph represents uniform motion of\\nthe car?\\n9. State which of the following situations are possible and give\\nan example for each of these:\\n(a) an object with a constant acceleration but with zero\\nvelocity'),\n",
       " Document(id='de1eda66-cb0e-4a5c-a2a3-ea5a56b92914', metadata={'producer': 'PDF Printer / www.bullzip.com / FG / Freeware Edition (max 10 users)', 'creator': 'Bullzip PDF Printer (12.2.0.2905)', 'creationdate': '2022-09-20T10:54:31+05:30', 'author': 'admin', 'moddate': '2024-05-20T13:38:38+05:30', 'title': 'D:\\\\Textbooks\\\\Rationalised Books\\\\0964-Science\\\\1 Source Files\\\\Chapter-7\\\\CHAP 7.pmd', 'source': 'science_1007.pdf', 'total_pages': 15, 'page': 5, 'page_label': '6'}, page_content='acceleration of the object is said to be\\nuniform. The motion of a freely falling body\\nis an example of uniformly accelerated\\nmotion. On the other hand, an object can\\ntravel with non-uniform acceleration if its\\nvelocity changes at a non-uniform rate. For\\nexample, if a car travelling along a straight\\nroad increases its speed by unequal amounts\\nin equal intervals of time, then the car is said\\nto be moving with non-uniform acceleration.\\nActivity ActivityActivity ActivityActivity 7.8 7.87.8 7.87.8'),\n",
       " Document(id='275150f7-a199-4920-8c3b-9d9c7a3d1eba', metadata={'producer': 'PDF Printer / www.bullzip.com / FG / Freeware Edition (max 10 users)', 'creator': 'Bullzip PDF Printer (12.2.0.2905)', 'creationdate': '2022-09-20T10:54:31+05:30', 'author': 'admin', 'moddate': '2024-05-20T13:38:38+05:30', 'title': 'D:\\\\Textbooks\\\\Rationalised Books\\\\0964-Science\\\\1 Source Files\\\\Chapter-7\\\\CHAP 7.pmd', 'source': 'science_1007.pdf', 'total_pages': 15, 'page': 1, 'page_label': '2'}, page_content='sides.\\n• Measure the distance cover ed by you\\nand magnitude of the displacement.\\n• What dif fer ence would you notice\\nbetween the two in this case?\\nActivity ______________ 7.4\\n• Automobiles are fitted with a device\\nthat shows the distance travelled. Such\\na device is known as an odometer. A\\ncar is driven fr om Bhubaneshwar to\\nNew Delhi. The difference between the\\nfinal reading and the initial reading of\\nthe odometer is 1850 km.\\n• Find the magnitude of the displacement'),\n",
       " Document(id='a0bd665a-d202-465b-a8a6-f54e97accecf', metadata={'producer': 'PDF Printer / www.bullzip.com / FG / Freeware Edition (max 10 users)', 'creator': 'Bullzip PDF Printer (12.2.0.2905)', 'creationdate': '2022-09-20T10:54:31+05:30', 'author': 'admin', 'moddate': '2024-05-20T13:38:38+05:30', 'title': 'D:\\\\Textbooks\\\\Rationalised Books\\\\0964-Science\\\\1 Source Files\\\\Chapter-7\\\\CHAP 7.pmd', 'source': 'science_1007.pdf', 'total_pages': 15, 'page': 12, 'page_label': '13'}, page_content='the earth, a cyclist on a circular track at\\nconstant speed and so on.\\nWhat\\nyou have\\nlearnt\\n• Motion is a change of position; it can be described in terms\\nof the distance moved or the displacement.\\n• The motion of an object could be uniform or non-uniform\\ndepending on whether its velocity is constant or changing.\\n• The speed of an object is the distance covered per unit time,\\nand velocity is the displacement per unit time.\\n• The acceleration of an object is the change in velocity per\\nunit time.')]"
      ]
     },
     "execution_count": 14,
     "metadata": {},
     "output_type": "execute_result"
    }
   ],
   "source": [
    "docs"
   ]
  },
  {
   "cell_type": "code",
   "execution_count": 8,
   "metadata": {},
   "outputs": [
    {
     "data": {
      "text/plain": [
       "[Document(id='2f96c878-fc1c-4935-b5f1-e777be4b6f5b', metadata={'producer': 'PDF Printer / www.bullzip.com / FG / Freeware Edition (max 10 users)', 'creator': 'Bullzip PDF Printer (12.2.0.2905)', 'creationdate': '2022-09-20T10:54:31+05:30', 'author': 'admin', 'moddate': '2024-05-20T13:38:38+05:30', 'title': 'D:\\\\Textbooks\\\\Rationalised Books\\\\0964-Science\\\\1 Source Files\\\\Chapter-7\\\\CHAP 7.pmd', 'source': 'science_1007.pdf', 'total_pages': 15, 'page': 14, 'page_label': '15'}, page_content='ground?\\n8. The speed-time graph for a car is shown is Fig. 7.11.\\n(a) Find how far does the car travel in the first 4 seconds.\\nShade the area on the graph that represents the distance\\ntravelled by the car during the period.\\n(b) Which part of the graph represents uniform motion of\\nthe car?\\n9. State which of the following situations are possible and give\\nan example for each of these:\\n(a) an object with a constant acceleration but with zero\\nvelocity'),\n",
       " Document(id='de1eda66-cb0e-4a5c-a2a3-ea5a56b92914', metadata={'producer': 'PDF Printer / www.bullzip.com / FG / Freeware Edition (max 10 users)', 'creator': 'Bullzip PDF Printer (12.2.0.2905)', 'creationdate': '2022-09-20T10:54:31+05:30', 'author': 'admin', 'moddate': '2024-05-20T13:38:38+05:30', 'title': 'D:\\\\Textbooks\\\\Rationalised Books\\\\0964-Science\\\\1 Source Files\\\\Chapter-7\\\\CHAP 7.pmd', 'source': 'science_1007.pdf', 'total_pages': 15, 'page': 5, 'page_label': '6'}, page_content='acceleration of the object is said to be\\nuniform. The motion of a freely falling body\\nis an example of uniformly accelerated\\nmotion. On the other hand, an object can\\ntravel with non-uniform acceleration if its\\nvelocity changes at a non-uniform rate. For\\nexample, if a car travelling along a straight\\nroad increases its speed by unequal amounts\\nin equal intervals of time, then the car is said\\nto be moving with non-uniform acceleration.\\nActivity ActivityActivity ActivityActivity 7.8 7.87.8 7.87.8'),\n",
       " Document(id='275150f7-a199-4920-8c3b-9d9c7a3d1eba', metadata={'producer': 'PDF Printer / www.bullzip.com / FG / Freeware Edition (max 10 users)', 'creator': 'Bullzip PDF Printer (12.2.0.2905)', 'creationdate': '2022-09-20T10:54:31+05:30', 'author': 'admin', 'moddate': '2024-05-20T13:38:38+05:30', 'title': 'D:\\\\Textbooks\\\\Rationalised Books\\\\0964-Science\\\\1 Source Files\\\\Chapter-7\\\\CHAP 7.pmd', 'source': 'science_1007.pdf', 'total_pages': 15, 'page': 1, 'page_label': '2'}, page_content='sides.\\n• Measure the distance cover ed by you\\nand magnitude of the displacement.\\n• What dif fer ence would you notice\\nbetween the two in this case?\\nActivity ______________ 7.4\\n• Automobiles are fitted with a device\\nthat shows the distance travelled. Such\\na device is known as an odometer. A\\ncar is driven fr om Bhubaneshwar to\\nNew Delhi. The difference between the\\nfinal reading and the initial reading of\\nthe odometer is 1850 km.\\n• Find the magnitude of the displacement'),\n",
       " Document(id='a0bd665a-d202-465b-a8a6-f54e97accecf', metadata={'producer': 'PDF Printer / www.bullzip.com / FG / Freeware Edition (max 10 users)', 'creator': 'Bullzip PDF Printer (12.2.0.2905)', 'creationdate': '2022-09-20T10:54:31+05:30', 'author': 'admin', 'moddate': '2024-05-20T13:38:38+05:30', 'title': 'D:\\\\Textbooks\\\\Rationalised Books\\\\0964-Science\\\\1 Source Files\\\\Chapter-7\\\\CHAP 7.pmd', 'source': 'science_1007.pdf', 'total_pages': 15, 'page': 12, 'page_label': '13'}, page_content='the earth, a cyclist on a circular track at\\nconstant speed and so on.\\nWhat\\nyou have\\nlearnt\\n• Motion is a change of position; it can be described in terms\\nof the distance moved or the displacement.\\n• The motion of an object could be uniform or non-uniform\\ndepending on whether its velocity is constant or changing.\\n• The speed of an object is the distance covered per unit time,\\nand velocity is the displacement per unit time.\\n• The acceleration of an object is the change in velocity per\\nunit time.')]"
      ]
     },
     "execution_count": 8,
     "metadata": {},
     "output_type": "execute_result"
    }
   ],
   "source": [
    "retriever = vector_db.as_retriever()\n",
    "retriever.invoke(query)"
   ]
  },
  {
   "cell_type": "markdown",
   "metadata": {},
   "source": [
    "### Chroma Vector store"
   ]
  },
  {
   "cell_type": "code",
   "execution_count": 15,
   "metadata": {},
   "outputs": [
    {
     "data": {
      "text/plain": [
       "<langchain_chroma.vectorstores.Chroma at 0x25384081460>"
      ]
     },
     "execution_count": 15,
     "metadata": {},
     "output_type": "execute_result"
    }
   ],
   "source": [
    "from langchain_chroma import Chroma\n",
    "chroma_db = Chroma.from_documents(splitted_document,embedding)\n",
    "chroma_db"
   ]
  },
  {
   "cell_type": "code",
   "execution_count": 16,
   "metadata": {},
   "outputs": [
    {
     "data": {
      "text/plain": [
       "[Document(id='307088f6-2dee-4f5c-8b09-16823deefdba', metadata={'author': 'admin', 'creationdate': '2022-09-20T10:54:31+05:30', 'creator': 'Bullzip PDF Printer (12.2.0.2905)', 'moddate': '2024-05-20T13:38:38+05:30', 'page': 14, 'page_label': '15', 'producer': 'PDF Printer / www.bullzip.com / FG / Freeware Edition (max 10 users)', 'source': 'science_1007.pdf', 'title': 'D:\\\\Textbooks\\\\Rationalised Books\\\\0964-Science\\\\1 Source Files\\\\Chapter-7\\\\CHAP 7.pmd', 'total_pages': 15}, page_content='ground?\\n8. The speed-time graph for a car is shown is Fig. 7.11.\\n(a) Find how far does the car travel in the first 4 seconds.\\nShade the area on the graph that represents the distance\\ntravelled by the car during the period.\\n(b) Which part of the graph represents uniform motion of\\nthe car?\\n9. State which of the following situations are possible and give\\nan example for each of these:\\n(a) an object with a constant acceleration but with zero\\nvelocity'),\n",
       " Document(id='d5ad8e4c-6587-4c76-9ecc-36bc0416384b', metadata={'author': 'admin', 'creationdate': '2022-09-20T10:54:31+05:30', 'creator': 'Bullzip PDF Printer (12.2.0.2905)', 'moddate': '2024-05-20T13:38:38+05:30', 'page': 5, 'page_label': '6', 'producer': 'PDF Printer / www.bullzip.com / FG / Freeware Edition (max 10 users)', 'source': 'science_1007.pdf', 'title': 'D:\\\\Textbooks\\\\Rationalised Books\\\\0964-Science\\\\1 Source Files\\\\Chapter-7\\\\CHAP 7.pmd', 'total_pages': 15}, page_content='acceleration of the object is said to be\\nuniform. The motion of a freely falling body\\nis an example of uniformly accelerated\\nmotion. On the other hand, an object can\\ntravel with non-uniform acceleration if its\\nvelocity changes at a non-uniform rate. For\\nexample, if a car travelling along a straight\\nroad increases its speed by unequal amounts\\nin equal intervals of time, then the car is said\\nto be moving with non-uniform acceleration.\\nActivity ActivityActivity ActivityActivity 7.8 7.87.8 7.87.8'),\n",
       " Document(id='09214772-3eca-4011-8bc2-3bbe398d653e', metadata={'author': 'admin', 'creationdate': '2022-09-20T10:54:31+05:30', 'creator': 'Bullzip PDF Printer (12.2.0.2905)', 'moddate': '2024-05-20T13:38:38+05:30', 'page': 1, 'page_label': '2', 'producer': 'PDF Printer / www.bullzip.com / FG / Freeware Edition (max 10 users)', 'source': 'science_1007.pdf', 'title': 'D:\\\\Textbooks\\\\Rationalised Books\\\\0964-Science\\\\1 Source Files\\\\Chapter-7\\\\CHAP 7.pmd', 'total_pages': 15}, page_content='sides.\\n• Measure the distance cover ed by you\\nand magnitude of the displacement.\\n• What dif fer ence would you notice\\nbetween the two in this case?\\nActivity ______________ 7.4\\n• Automobiles are fitted with a device\\nthat shows the distance travelled. Such\\na device is known as an odometer. A\\ncar is driven fr om Bhubaneshwar to\\nNew Delhi. The difference between the\\nfinal reading and the initial reading of\\nthe odometer is 1850 km.\\n• Find the magnitude of the displacement'),\n",
       " Document(id='78ef8185-8e7c-44cf-a7f8-41b2b0f1395b', metadata={'author': 'admin', 'creationdate': '2022-09-20T10:54:31+05:30', 'creator': 'Bullzip PDF Printer (12.2.0.2905)', 'moddate': '2024-05-20T13:38:38+05:30', 'page': 12, 'page_label': '13', 'producer': 'PDF Printer / www.bullzip.com / FG / Freeware Edition (max 10 users)', 'source': 'science_1007.pdf', 'title': 'D:\\\\Textbooks\\\\Rationalised Books\\\\0964-Science\\\\1 Source Files\\\\Chapter-7\\\\CHAP 7.pmd', 'total_pages': 15}, page_content='the earth, a cyclist on a circular track at\\nconstant speed and so on.\\nWhat\\nyou have\\nlearnt\\n• Motion is a change of position; it can be described in terms\\nof the distance moved or the displacement.\\n• The motion of an object could be uniform or non-uniform\\ndepending on whether its velocity is constant or changing.\\n• The speed of an object is the distance covered per unit time,\\nand velocity is the displacement per unit time.\\n• The acceleration of an object is the change in velocity per\\nunit time.')]"
      ]
     },
     "execution_count": 16,
     "metadata": {},
     "output_type": "execute_result"
    }
   ],
   "source": [
    "chroma_db.similarity_search(query)"
   ]
  },
  {
   "cell_type": "code",
   "execution_count": 17,
   "metadata": {},
   "outputs": [
    {
     "data": {
      "text/plain": [
       "<langchain_chroma.vectorstores.Chroma at 0x253cfb5f2f0>"
      ]
     },
     "execution_count": 17,
     "metadata": {},
     "output_type": "execute_result"
    }
   ],
   "source": [
    "# saving to desk\n",
    "Chroma.from_documents(splitted_document,embedding,persist_directory=\"./chroma_db\")"
   ]
  },
  {
   "cell_type": "code",
   "execution_count": 18,
   "metadata": {},
   "outputs": [],
   "source": [
    "# load from desk\n",
    "new_chroma_db = Chroma(persist_directory=\"./chroma_db\",embedding_function=embedding)"
   ]
  },
  {
   "cell_type": "code",
   "execution_count": 19,
   "metadata": {},
   "outputs": [
    {
     "data": {
      "text/plain": [
       "[Document(id='c56e8c4f-4a9e-4700-a9cf-3eaa1a2bec98', metadata={'author': 'admin', 'creationdate': '2022-09-20T10:54:31+05:30', 'creator': 'Bullzip PDF Printer (12.2.0.2905)', 'moddate': '2024-05-20T13:38:38+05:30', 'page': 14, 'page_label': '15', 'producer': 'PDF Printer / www.bullzip.com / FG / Freeware Edition (max 10 users)', 'source': 'science_1007.pdf', 'title': 'D:\\\\Textbooks\\\\Rationalised Books\\\\0964-Science\\\\1 Source Files\\\\Chapter-7\\\\CHAP 7.pmd', 'total_pages': 15}, page_content='ground?\\n8. The speed-time graph for a car is shown is Fig. 7.11.\\n(a) Find how far does the car travel in the first 4 seconds.\\nShade the area on the graph that represents the distance\\ntravelled by the car during the period.\\n(b) Which part of the graph represents uniform motion of\\nthe car?\\n9. State which of the following situations are possible and give\\nan example for each of these:\\n(a) an object with a constant acceleration but with zero\\nvelocity'),\n",
       " Document(id='ea792b38-f44f-4305-a77d-c2126a3e112a', metadata={'author': 'admin', 'creationdate': '2022-09-20T10:54:31+05:30', 'creator': 'Bullzip PDF Printer (12.2.0.2905)', 'moddate': '2024-05-20T13:38:38+05:30', 'page': 5, 'page_label': '6', 'producer': 'PDF Printer / www.bullzip.com / FG / Freeware Edition (max 10 users)', 'source': 'science_1007.pdf', 'title': 'D:\\\\Textbooks\\\\Rationalised Books\\\\0964-Science\\\\1 Source Files\\\\Chapter-7\\\\CHAP 7.pmd', 'total_pages': 15}, page_content='acceleration of the object is said to be\\nuniform. The motion of a freely falling body\\nis an example of uniformly accelerated\\nmotion. On the other hand, an object can\\ntravel with non-uniform acceleration if its\\nvelocity changes at a non-uniform rate. For\\nexample, if a car travelling along a straight\\nroad increases its speed by unequal amounts\\nin equal intervals of time, then the car is said\\nto be moving with non-uniform acceleration.\\nActivity ActivityActivity ActivityActivity 7.8 7.87.8 7.87.8'),\n",
       " Document(id='66f91549-ebf5-41ac-9592-dee8b18f9669', metadata={'author': 'admin', 'creationdate': '2022-09-20T10:54:31+05:30', 'creator': 'Bullzip PDF Printer (12.2.0.2905)', 'moddate': '2024-05-20T13:38:38+05:30', 'page': 1, 'page_label': '2', 'producer': 'PDF Printer / www.bullzip.com / FG / Freeware Edition (max 10 users)', 'source': 'science_1007.pdf', 'title': 'D:\\\\Textbooks\\\\Rationalised Books\\\\0964-Science\\\\1 Source Files\\\\Chapter-7\\\\CHAP 7.pmd', 'total_pages': 15}, page_content='sides.\\n• Measure the distance cover ed by you\\nand magnitude of the displacement.\\n• What dif fer ence would you notice\\nbetween the two in this case?\\nActivity ______________ 7.4\\n• Automobiles are fitted with a device\\nthat shows the distance travelled. Such\\na device is known as an odometer. A\\ncar is driven fr om Bhubaneshwar to\\nNew Delhi. The difference between the\\nfinal reading and the initial reading of\\nthe odometer is 1850 km.\\n• Find the magnitude of the displacement'),\n",
       " Document(id='bdb7ee79-e116-430c-912f-64ab7b4289c9', metadata={'author': 'admin', 'creationdate': '2022-09-20T10:54:31+05:30', 'creator': 'Bullzip PDF Printer (12.2.0.2905)', 'moddate': '2024-05-20T13:38:38+05:30', 'page': 12, 'page_label': '13', 'producer': 'PDF Printer / www.bullzip.com / FG / Freeware Edition (max 10 users)', 'source': 'science_1007.pdf', 'title': 'D:\\\\Textbooks\\\\Rationalised Books\\\\0964-Science\\\\1 Source Files\\\\Chapter-7\\\\CHAP 7.pmd', 'total_pages': 15}, page_content='the earth, a cyclist on a circular track at\\nconstant speed and so on.\\nWhat\\nyou have\\nlearnt\\n• Motion is a change of position; it can be described in terms\\nof the distance moved or the displacement.\\n• The motion of an object could be uniform or non-uniform\\ndepending on whether its velocity is constant or changing.\\n• The speed of an object is the distance covered per unit time,\\nand velocity is the displacement per unit time.\\n• The acceleration of an object is the change in velocity per\\nunit time.')]"
      ]
     },
     "execution_count": 19,
     "metadata": {},
     "output_type": "execute_result"
    }
   ],
   "source": [
    "new_chroma_db.similarity_search(query)"
   ]
  },
  {
   "cell_type": "code",
   "execution_count": 20,
   "metadata": {},
   "outputs": [
    {
     "data": {
      "text/plain": [
       "[Document(id='307088f6-2dee-4f5c-8b09-16823deefdba', metadata={'author': 'admin', 'creationdate': '2022-09-20T10:54:31+05:30', 'creator': 'Bullzip PDF Printer (12.2.0.2905)', 'moddate': '2024-05-20T13:38:38+05:30', 'page': 14, 'page_label': '15', 'producer': 'PDF Printer / www.bullzip.com / FG / Freeware Edition (max 10 users)', 'source': 'science_1007.pdf', 'title': 'D:\\\\Textbooks\\\\Rationalised Books\\\\0964-Science\\\\1 Source Files\\\\Chapter-7\\\\CHAP 7.pmd', 'total_pages': 15}, page_content='ground?\\n8. The speed-time graph for a car is shown is Fig. 7.11.\\n(a) Find how far does the car travel in the first 4 seconds.\\nShade the area on the graph that represents the distance\\ntravelled by the car during the period.\\n(b) Which part of the graph represents uniform motion of\\nthe car?\\n9. State which of the following situations are possible and give\\nan example for each of these:\\n(a) an object with a constant acceleration but with zero\\nvelocity'),\n",
       " Document(id='d5ad8e4c-6587-4c76-9ecc-36bc0416384b', metadata={'author': 'admin', 'creationdate': '2022-09-20T10:54:31+05:30', 'creator': 'Bullzip PDF Printer (12.2.0.2905)', 'moddate': '2024-05-20T13:38:38+05:30', 'page': 5, 'page_label': '6', 'producer': 'PDF Printer / www.bullzip.com / FG / Freeware Edition (max 10 users)', 'source': 'science_1007.pdf', 'title': 'D:\\\\Textbooks\\\\Rationalised Books\\\\0964-Science\\\\1 Source Files\\\\Chapter-7\\\\CHAP 7.pmd', 'total_pages': 15}, page_content='acceleration of the object is said to be\\nuniform. The motion of a freely falling body\\nis an example of uniformly accelerated\\nmotion. On the other hand, an object can\\ntravel with non-uniform acceleration if its\\nvelocity changes at a non-uniform rate. For\\nexample, if a car travelling along a straight\\nroad increases its speed by unequal amounts\\nin equal intervals of time, then the car is said\\nto be moving with non-uniform acceleration.\\nActivity ActivityActivity ActivityActivity 7.8 7.87.8 7.87.8'),\n",
       " Document(id='09214772-3eca-4011-8bc2-3bbe398d653e', metadata={'author': 'admin', 'creationdate': '2022-09-20T10:54:31+05:30', 'creator': 'Bullzip PDF Printer (12.2.0.2905)', 'moddate': '2024-05-20T13:38:38+05:30', 'page': 1, 'page_label': '2', 'producer': 'PDF Printer / www.bullzip.com / FG / Freeware Edition (max 10 users)', 'source': 'science_1007.pdf', 'title': 'D:\\\\Textbooks\\\\Rationalised Books\\\\0964-Science\\\\1 Source Files\\\\Chapter-7\\\\CHAP 7.pmd', 'total_pages': 15}, page_content='sides.\\n• Measure the distance cover ed by you\\nand magnitude of the displacement.\\n• What dif fer ence would you notice\\nbetween the two in this case?\\nActivity ______________ 7.4\\n• Automobiles are fitted with a device\\nthat shows the distance travelled. Such\\na device is known as an odometer. A\\ncar is driven fr om Bhubaneshwar to\\nNew Delhi. The difference between the\\nfinal reading and the initial reading of\\nthe odometer is 1850 km.\\n• Find the magnitude of the displacement'),\n",
       " Document(id='78ef8185-8e7c-44cf-a7f8-41b2b0f1395b', metadata={'author': 'admin', 'creationdate': '2022-09-20T10:54:31+05:30', 'creator': 'Bullzip PDF Printer (12.2.0.2905)', 'moddate': '2024-05-20T13:38:38+05:30', 'page': 12, 'page_label': '13', 'producer': 'PDF Printer / www.bullzip.com / FG / Freeware Edition (max 10 users)', 'source': 'science_1007.pdf', 'title': 'D:\\\\Textbooks\\\\Rationalised Books\\\\0964-Science\\\\1 Source Files\\\\Chapter-7\\\\CHAP 7.pmd', 'total_pages': 15}, page_content='the earth, a cyclist on a circular track at\\nconstant speed and so on.\\nWhat\\nyou have\\nlearnt\\n• Motion is a change of position; it can be described in terms\\nof the distance moved or the displacement.\\n• The motion of an object could be uniform or non-uniform\\ndepending on whether its velocity is constant or changing.\\n• The speed of an object is the distance covered per unit time,\\nand velocity is the displacement per unit time.\\n• The acceleration of an object is the change in velocity per\\nunit time.')]"
      ]
     },
     "execution_count": 20,
     "metadata": {},
     "output_type": "execute_result"
    }
   ],
   "source": [
    "retriever = chroma_db.as_retriever()\n",
    "retriever.invoke(query)"
   ]
  }
 ],
 "metadata": {
  "kernelspec": {
   "display_name": "tutorial_env",
   "language": "python",
   "name": "python3"
  },
  "language_info": {
   "codemirror_mode": {
    "name": "ipython",
    "version": 3
   },
   "file_extension": ".py",
   "mimetype": "text/x-python",
   "name": "python",
   "nbconvert_exporter": "python",
   "pygments_lexer": "ipython3",
   "version": "3.12.9"
  }
 },
 "nbformat": 4,
 "nbformat_minor": 2
}
